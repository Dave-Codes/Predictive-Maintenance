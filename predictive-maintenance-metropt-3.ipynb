{
 "cells": [
  {
   "cell_type": "code",
   "execution_count": 1,
   "id": "44e1241f",
   "metadata": {
    "_cell_guid": "b1076dfc-b9ad-4769-8c92-a6c4dae69d19",
    "_uuid": "8f2839f25d086af736a60e9eeb907d3b93b6e0e5",
    "execution": {
     "iopub.execute_input": "2023-10-25T21:42:19.905877Z",
     "iopub.status.busy": "2023-10-25T21:42:19.905371Z",
     "iopub.status.idle": "2023-10-25T21:42:23.048126Z",
     "shell.execute_reply": "2023-10-25T21:42:23.046757Z"
    },
    "papermill": {
     "duration": 3.160571,
     "end_time": "2023-10-25T21:42:23.050997",
     "exception": false,
     "start_time": "2023-10-25T21:42:19.890426",
     "status": "completed"
    },
    "tags": []
   },
   "outputs": [],
   "source": [
    "from sklearn.cluster import KMeans\n",
    "import numpy as np \n",
    "import pandas as pd \n",
    "\n",
    "import plotly.express as px\n",
    "import seaborn as sns\n",
    "import matplotlib.pyplot as plt\n",
    "\n",
    "\n",
    "import os\n"
   ]
  },
  {
   "cell_type": "markdown",
   "id": "d3354f4a",
   "metadata": {
    "papermill": {
     "duration": 0.012017,
     "end_time": "2023-10-25T21:42:23.075649",
     "exception": false,
     "start_time": "2023-10-25T21:42:23.063632",
     "status": "completed"
    },
    "tags": []
   },
   "source": [
    "# Predicting machine failure with data from an air compressor on a MetroPT3 locomotive "
   ]
  },
  {
   "cell_type": "code",
   "execution_count": 2,
   "id": "bb47f920",
   "metadata": {
    "execution": {
     "iopub.execute_input": "2023-10-25T21:42:23.105054Z",
     "iopub.status.busy": "2023-10-25T21:42:23.104684Z",
     "iopub.status.idle": "2023-10-25T21:42:28.337766Z",
     "shell.execute_reply": "2023-10-25T21:42:28.336376Z"
    },
    "papermill": {
     "duration": 5.251382,
     "end_time": "2023-10-25T21:42:28.340847",
     "exception": false,
     "start_time": "2023-10-25T21:42:23.089465",
     "status": "completed"
    },
    "tags": []
   },
   "outputs": [
    {
     "data": {
      "text/html": [
       "<div>\n",
       "<style scoped>\n",
       "    .dataframe tbody tr th:only-of-type {\n",
       "        vertical-align: middle;\n",
       "    }\n",
       "\n",
       "    .dataframe tbody tr th {\n",
       "        vertical-align: top;\n",
       "    }\n",
       "\n",
       "    .dataframe thead th {\n",
       "        text-align: right;\n",
       "    }\n",
       "</style>\n",
       "<table border=\"1\" class=\"dataframe\">\n",
       "  <thead>\n",
       "    <tr style=\"text-align: right;\">\n",
       "      <th></th>\n",
       "      <th>Unnamed: 0</th>\n",
       "      <th>timestamp</th>\n",
       "      <th>TP2</th>\n",
       "      <th>TP3</th>\n",
       "      <th>H1</th>\n",
       "      <th>DV_pressure</th>\n",
       "      <th>Reservoirs</th>\n",
       "      <th>Oil_temperature</th>\n",
       "      <th>Motor_current</th>\n",
       "      <th>COMP</th>\n",
       "      <th>DV_eletric</th>\n",
       "      <th>Towers</th>\n",
       "      <th>MPG</th>\n",
       "      <th>LPS</th>\n",
       "      <th>Pressure_switch</th>\n",
       "      <th>Oil_level</th>\n",
       "      <th>Caudal_impulses</th>\n",
       "    </tr>\n",
       "  </thead>\n",
       "  <tbody>\n",
       "    <tr>\n",
       "      <th>0</th>\n",
       "      <td>890</td>\n",
       "      <td>2020-02-01 00:14:42</td>\n",
       "      <td>-0.014</td>\n",
       "      <td>8.494</td>\n",
       "      <td>8.480</td>\n",
       "      <td>-0.024</td>\n",
       "      <td>8.496</td>\n",
       "      <td>51.400</td>\n",
       "      <td>0.0400</td>\n",
       "      <td>1.0</td>\n",
       "      <td>0.0</td>\n",
       "      <td>1.0</td>\n",
       "      <td>1.0</td>\n",
       "      <td>0.0</td>\n",
       "      <td>1.0</td>\n",
       "      <td>1.0</td>\n",
       "      <td>1.0</td>\n",
       "    </tr>\n",
       "    <tr>\n",
       "      <th>1</th>\n",
       "      <td>1790</td>\n",
       "      <td>2020-02-01 00:29:34</td>\n",
       "      <td>-0.012</td>\n",
       "      <td>9.640</td>\n",
       "      <td>9.624</td>\n",
       "      <td>-0.024</td>\n",
       "      <td>9.640</td>\n",
       "      <td>52.725</td>\n",
       "      <td>3.7975</td>\n",
       "      <td>1.0</td>\n",
       "      <td>0.0</td>\n",
       "      <td>1.0</td>\n",
       "      <td>1.0</td>\n",
       "      <td>0.0</td>\n",
       "      <td>1.0</td>\n",
       "      <td>1.0</td>\n",
       "      <td>1.0</td>\n",
       "    </tr>\n",
       "    <tr>\n",
       "      <th>2</th>\n",
       "      <td>2690</td>\n",
       "      <td>2020-02-01 00:44:26</td>\n",
       "      <td>-0.014</td>\n",
       "      <td>8.732</td>\n",
       "      <td>8.716</td>\n",
       "      <td>-0.024</td>\n",
       "      <td>8.732</td>\n",
       "      <td>52.100</td>\n",
       "      <td>0.0400</td>\n",
       "      <td>1.0</td>\n",
       "      <td>0.0</td>\n",
       "      <td>1.0</td>\n",
       "      <td>1.0</td>\n",
       "      <td>0.0</td>\n",
       "      <td>1.0</td>\n",
       "      <td>1.0</td>\n",
       "      <td>1.0</td>\n",
       "    </tr>\n",
       "    <tr>\n",
       "      <th>3</th>\n",
       "      <td>3590</td>\n",
       "      <td>2020-02-01 00:59:18</td>\n",
       "      <td>-0.022</td>\n",
       "      <td>9.982</td>\n",
       "      <td>9.978</td>\n",
       "      <td>-0.022</td>\n",
       "      <td>9.980</td>\n",
       "      <td>51.200</td>\n",
       "      <td>3.8100</td>\n",
       "      <td>1.0</td>\n",
       "      <td>0.0</td>\n",
       "      <td>1.0</td>\n",
       "      <td>1.0</td>\n",
       "      <td>0.0</td>\n",
       "      <td>1.0</td>\n",
       "      <td>1.0</td>\n",
       "      <td>1.0</td>\n",
       "    </tr>\n",
       "    <tr>\n",
       "      <th>4</th>\n",
       "      <td>4490</td>\n",
       "      <td>2020-02-01 01:14:10</td>\n",
       "      <td>-0.014</td>\n",
       "      <td>8.954</td>\n",
       "      <td>8.938</td>\n",
       "      <td>-0.024</td>\n",
       "      <td>8.956</td>\n",
       "      <td>52.525</td>\n",
       "      <td>0.0400</td>\n",
       "      <td>1.0</td>\n",
       "      <td>0.0</td>\n",
       "      <td>1.0</td>\n",
       "      <td>1.0</td>\n",
       "      <td>0.0</td>\n",
       "      <td>1.0</td>\n",
       "      <td>1.0</td>\n",
       "      <td>1.0</td>\n",
       "    </tr>\n",
       "  </tbody>\n",
       "</table>\n",
       "</div>"
      ],
      "text/plain": [
       "   Unnamed: 0            timestamp    TP2    TP3     H1  DV_pressure  \\\n",
       "0         890  2020-02-01 00:14:42 -0.014  8.494  8.480       -0.024   \n",
       "1        1790  2020-02-01 00:29:34 -0.012  9.640  9.624       -0.024   \n",
       "2        2690  2020-02-01 00:44:26 -0.014  8.732  8.716       -0.024   \n",
       "3        3590  2020-02-01 00:59:18 -0.022  9.982  9.978       -0.022   \n",
       "4        4490  2020-02-01 01:14:10 -0.014  8.954  8.938       -0.024   \n",
       "\n",
       "   Reservoirs  Oil_temperature  Motor_current  COMP  DV_eletric  Towers  MPG  \\\n",
       "0       8.496           51.400         0.0400   1.0         0.0     1.0  1.0   \n",
       "1       9.640           52.725         3.7975   1.0         0.0     1.0  1.0   \n",
       "2       8.732           52.100         0.0400   1.0         0.0     1.0  1.0   \n",
       "3       9.980           51.200         3.8100   1.0         0.0     1.0  1.0   \n",
       "4       8.956           52.525         0.0400   1.0         0.0     1.0  1.0   \n",
       "\n",
       "   LPS  Pressure_switch  Oil_level  Caudal_impulses  \n",
       "0  0.0              1.0        1.0              1.0  \n",
       "1  0.0              1.0        1.0              1.0  \n",
       "2  0.0              1.0        1.0              1.0  \n",
       "3  0.0              1.0        1.0              1.0  \n",
       "4  0.0              1.0        1.0              1.0  "
      ]
     },
     "execution_count": 2,
     "metadata": {},
     "output_type": "execute_result"
    }
   ],
   "source": [
    "# Reading in MetroPT3 Air Compressor data\n",
    "\n",
    "n = 90  # every 100th line = 1% of the lines\n",
    "metro_df_large = pd.read_csv('/kaggle/input/metropt-3-dataset/MetroPT3(AirCompressor).csv', header=0, skiprows=lambda i: i % n != 0)\n",
    "\n",
    "#metro_df_large = pd.read_csv('/kaggle/input/metropt-3-dataset/MetroPT3(AirCompressor).csv', nrows=800000)\n",
    "metro_df_large.head()"
   ]
  },
  {
   "cell_type": "markdown",
   "id": "03004e70",
   "metadata": {
    "papermill": {
     "duration": 0.014098,
     "end_time": "2023-10-25T21:42:28.369794",
     "exception": false,
     "start_time": "2023-10-25T21:42:28.355696",
     "status": "completed"
    },
    "tags": []
   },
   "source": [
    "Attribute Information:\n",
    "The dataset consists of 15169480 data points collected at 1Hz  from February to August 2020 and is described by 15 features from 7 analogue (1-7) and 8 digital (8-15) sensors:\n",
    "1. TP2 (bar) – the measure of the pressure on the compressor.\n",
    "2. TP3 (bar) – the measure of the pressure generated at the pneumatic panel.\n",
    "3. H1 (bar) – the measure of the pressure generated due to pressure drop when the discharge of the cyclonic separator filter occurs.\n",
    "4. DV pressure (bar) – the measure of the pressure drop generated when the towers discharge air dryers; a zero reading indicates that the compressor is operating under load.\n",
    "5. Reservoirs (bar) – the measure of the downstream pressure of the reservoirs, which should be close to the pneumatic panel pressure (TP3).\n",
    "6. Motor Current (A) –  the measure of the current of one phase of the three-phase motor; it presents values close to 0A - when it turns off, 4A - when working offloaded, 7A - when working under load, and 9A - when it starts working.\n",
    "7. Oil Temperature (ºC) –  the measure of the oil temperature on the compressor.\n",
    "8. COMP - the electrical signal of the air intake valve on the compressor; it is active when there is no air intake, indicating that the compressor is either turned off or operating in an offloaded state.\n",
    "9. DV electric – the electrical signal that controls the compressor outlet valve; it is active when the compressor is functioning under load and inactive when the compressor is either off or operating in an offloaded state.\n",
    "10. TOWERS – the electrical signal that defines the tower responsible for drying the air and the tower responsible for draining the humidity removed from the air; when not active, it indicates that tower one is functioning; when active, it indicates that tower two is in operation.\n",
    "11. MPG – the electrical signal responsible for starting the compressor under load by activating the intake valve when the pressure in the air production unit (APU) falls below 8.2 bar; it activates the COMP sensor, which assumes the same behaviour as the MPG sensor.\n",
    "12. LPS – the electrical signal that detects and activates when the pressure drops below 7 bars.\n",
    "13. Pressure Switch - the electrical signal that detects the discharge in the air-drying towers.\n",
    "14. Oil Level – the electrical signal that detects the oil level on the compressor; it is active when the oil is below the expected values.\n",
    "15. Caudal Impulse – the electrical signal that counts the pulse outputs generated by the absolute amount of air flowing from the APU to the reservoirs."
   ]
  },
  {
   "cell_type": "markdown",
   "id": "6df5373b",
   "metadata": {
    "papermill": {
     "duration": 0.014018,
     "end_time": "2023-10-25T21:42:28.398669",
     "exception": false,
     "start_time": "2023-10-25T21:42:28.384651",
     "status": "completed"
    },
    "tags": []
   },
   "source": [
    "Failure Information:\n",
    "\n",
    "The dataset is unlabeled, but the failure reports provided by the company are available in the following table. This allows for evaluating the effectiveness of anomaly detection, failure prediction, and RUL estimation algorithms.\n",
    "\n",
    "  Nr.     Start Time\t          End Time\t                 Failure\t      Severity\t         Report\n",
    "* #1 \t4/18/2020 0:00\t   4/18/2020 23:59       Air leak\t    High stress\t\n",
    "* #1 \t5/29/2020 23:30     5/30/2020 6:00\t    Air Leak\t    High stress\tMaintenance on 30Apr at 12:00\n",
    "* #3 \t6/5/2020 10:00\t   6/7/2020 14:30\t        Air Leak\t    High stress\tMaintenance on 8Jun at 16:00\n",
    "* #4 \t7/15/2020 14:30     7/15/2020 19:00      Air Leak\t    High stress\tMaintenance on 16Jul at 00:00"
   ]
  },
  {
   "cell_type": "code",
   "execution_count": 3,
   "id": "82522cbc",
   "metadata": {
    "execution": {
     "iopub.execute_input": "2023-10-25T21:42:28.429595Z",
     "iopub.status.busy": "2023-10-25T21:42:28.429176Z",
     "iopub.status.idle": "2023-10-25T21:42:28.439932Z",
     "shell.execute_reply": "2023-10-25T21:42:28.438465Z"
    },
    "papermill": {
     "duration": 0.029947,
     "end_time": "2023-10-25T21:42:28.442673",
     "exception": false,
     "start_time": "2023-10-25T21:42:28.412726",
     "status": "completed"
    },
    "tags": []
   },
   "outputs": [
    {
     "data": {
      "text/plain": [
       "(16854, 17)"
      ]
     },
     "execution_count": 3,
     "metadata": {},
     "output_type": "execute_result"
    }
   ],
   "source": [
    "metro_df_large.shape"
   ]
  },
  {
   "cell_type": "code",
   "execution_count": 4,
   "id": "f16b5112",
   "metadata": {
    "execution": {
     "iopub.execute_input": "2023-10-25T21:42:28.470683Z",
     "iopub.status.busy": "2023-10-25T21:42:28.470291Z",
     "iopub.status.idle": "2023-10-25T21:42:28.479810Z",
     "shell.execute_reply": "2023-10-25T21:42:28.478827Z"
    },
    "papermill": {
     "duration": 0.026092,
     "end_time": "2023-10-25T21:42:28.481964",
     "exception": false,
     "start_time": "2023-10-25T21:42:28.455872",
     "status": "completed"
    },
    "tags": []
   },
   "outputs": [
    {
     "data": {
      "text/plain": [
       "0        2020-02-01 00:14:42\n",
       "1        2020-02-01 00:29:34\n",
       "2        2020-02-01 00:44:26\n",
       "3        2020-02-01 00:59:18\n",
       "4        2020-02-01 01:14:10\n",
       "                ...         \n",
       "16844    2020-08-31 19:14:23\n",
       "16845    2020-08-31 19:29:15\n",
       "16846    2020-08-31 19:44:06\n",
       "16847    2020-08-31 19:58:59\n",
       "16848    2020-08-31 20:13:51\n",
       "Name: timestamp, Length: 16849, dtype: object"
      ]
     },
     "execution_count": 4,
     "metadata": {},
     "output_type": "execute_result"
    }
   ],
   "source": [
    "metro_df_large.timestamp[:-5]"
   ]
  },
  {
   "cell_type": "markdown",
   "id": "948c058b",
   "metadata": {
    "papermill": {
     "duration": 0.013083,
     "end_time": "2023-10-25T21:42:28.508078",
     "exception": false,
     "start_time": "2023-10-25T21:42:28.494995",
     "status": "completed"
    },
    "tags": []
   },
   "source": [
    "# Exploratory Data Analysis"
   ]
  },
  {
   "cell_type": "code",
   "execution_count": 5,
   "id": "ffb91fc8",
   "metadata": {
    "execution": {
     "iopub.execute_input": "2023-10-25T21:42:28.537494Z",
     "iopub.status.busy": "2023-10-25T21:42:28.536665Z",
     "iopub.status.idle": "2023-10-25T21:42:28.618926Z",
     "shell.execute_reply": "2023-10-25T21:42:28.617581Z"
    },
    "papermill": {
     "duration": 0.100706,
     "end_time": "2023-10-25T21:42:28.621824",
     "exception": false,
     "start_time": "2023-10-25T21:42:28.521118",
     "status": "completed"
    },
    "tags": []
   },
   "outputs": [
    {
     "data": {
      "text/html": [
       "<div>\n",
       "<style scoped>\n",
       "    .dataframe tbody tr th:only-of-type {\n",
       "        vertical-align: middle;\n",
       "    }\n",
       "\n",
       "    .dataframe tbody tr th {\n",
       "        vertical-align: top;\n",
       "    }\n",
       "\n",
       "    .dataframe thead th {\n",
       "        text-align: right;\n",
       "    }\n",
       "</style>\n",
       "<table border=\"1\" class=\"dataframe\">\n",
       "  <thead>\n",
       "    <tr style=\"text-align: right;\">\n",
       "      <th></th>\n",
       "      <th>Unnamed: 0</th>\n",
       "      <th>TP2</th>\n",
       "      <th>TP3</th>\n",
       "      <th>H1</th>\n",
       "      <th>DV_pressure</th>\n",
       "      <th>Reservoirs</th>\n",
       "      <th>Oil_temperature</th>\n",
       "      <th>Motor_current</th>\n",
       "      <th>COMP</th>\n",
       "      <th>DV_eletric</th>\n",
       "      <th>Towers</th>\n",
       "      <th>MPG</th>\n",
       "      <th>LPS</th>\n",
       "      <th>Pressure_switch</th>\n",
       "      <th>Oil_level</th>\n",
       "      <th>Caudal_impulses</th>\n",
       "    </tr>\n",
       "  </thead>\n",
       "  <tbody>\n",
       "    <tr>\n",
       "      <th>count</th>\n",
       "      <td>1.685400e+04</td>\n",
       "      <td>16854.000000</td>\n",
       "      <td>16854.000000</td>\n",
       "      <td>16854.000000</td>\n",
       "      <td>16854.000000</td>\n",
       "      <td>16854.000000</td>\n",
       "      <td>16854.000000</td>\n",
       "      <td>16854.000000</td>\n",
       "      <td>16854.000000</td>\n",
       "      <td>16854.000000</td>\n",
       "      <td>16854.000000</td>\n",
       "      <td>16854.000000</td>\n",
       "      <td>16854.000000</td>\n",
       "      <td>16854.000000</td>\n",
       "      <td>16854.000000</td>\n",
       "      <td>16854.000000</td>\n",
       "    </tr>\n",
       "    <tr>\n",
       "      <th>mean</th>\n",
       "      <td>7.584740e+06</td>\n",
       "      <td>1.359557</td>\n",
       "      <td>8.982260</td>\n",
       "      <td>7.569898</td>\n",
       "      <td>0.058323</td>\n",
       "      <td>8.982893</td>\n",
       "      <td>62.642993</td>\n",
       "      <td>2.053630</td>\n",
       "      <td>0.837012</td>\n",
       "      <td>0.160081</td>\n",
       "      <td>0.920494</td>\n",
       "      <td>0.832325</td>\n",
       "      <td>0.003619</td>\n",
       "      <td>0.989913</td>\n",
       "      <td>0.902931</td>\n",
       "      <td>0.935861</td>\n",
       "    </tr>\n",
       "    <tr>\n",
       "      <th>std</th>\n",
       "      <td>4.378928e+06</td>\n",
       "      <td>3.237392</td>\n",
       "      <td>0.640273</td>\n",
       "      <td>3.330770</td>\n",
       "      <td>0.389133</td>\n",
       "      <td>0.639486</td>\n",
       "      <td>6.518095</td>\n",
       "      <td>2.298836</td>\n",
       "      <td>0.369366</td>\n",
       "      <td>0.366692</td>\n",
       "      <td>0.270535</td>\n",
       "      <td>0.373589</td>\n",
       "      <td>0.060054</td>\n",
       "      <td>0.099927</td>\n",
       "      <td>0.296060</td>\n",
       "      <td>0.245008</td>\n",
       "    </tr>\n",
       "    <tr>\n",
       "      <th>min</th>\n",
       "      <td>8.900000e+02</td>\n",
       "      <td>-0.030000</td>\n",
       "      <td>0.894000</td>\n",
       "      <td>-0.032000</td>\n",
       "      <td>-0.032000</td>\n",
       "      <td>0.876000</td>\n",
       "      <td>24.925000</td>\n",
       "      <td>0.020000</td>\n",
       "      <td>0.000000</td>\n",
       "      <td>0.000000</td>\n",
       "      <td>0.000000</td>\n",
       "      <td>0.000000</td>\n",
       "      <td>0.000000</td>\n",
       "      <td>0.000000</td>\n",
       "      <td>0.000000</td>\n",
       "      <td>0.000000</td>\n",
       "    </tr>\n",
       "    <tr>\n",
       "      <th>25%</th>\n",
       "      <td>3.792815e+06</td>\n",
       "      <td>-0.014000</td>\n",
       "      <td>8.494000</td>\n",
       "      <td>8.252000</td>\n",
       "      <td>-0.022000</td>\n",
       "      <td>8.496000</td>\n",
       "      <td>57.775000</td>\n",
       "      <td>0.040000</td>\n",
       "      <td>1.000000</td>\n",
       "      <td>0.000000</td>\n",
       "      <td>1.000000</td>\n",
       "      <td>1.000000</td>\n",
       "      <td>0.000000</td>\n",
       "      <td>1.000000</td>\n",
       "      <td>1.000000</td>\n",
       "      <td>1.000000</td>\n",
       "    </tr>\n",
       "    <tr>\n",
       "      <th>50%</th>\n",
       "      <td>7.584740e+06</td>\n",
       "      <td>-0.012000</td>\n",
       "      <td>8.954000</td>\n",
       "      <td>8.784000</td>\n",
       "      <td>-0.020000</td>\n",
       "      <td>8.954000</td>\n",
       "      <td>62.675000</td>\n",
       "      <td>0.045000</td>\n",
       "      <td>1.000000</td>\n",
       "      <td>0.000000</td>\n",
       "      <td>1.000000</td>\n",
       "      <td>1.000000</td>\n",
       "      <td>0.000000</td>\n",
       "      <td>1.000000</td>\n",
       "      <td>1.000000</td>\n",
       "      <td>1.000000</td>\n",
       "    </tr>\n",
       "    <tr>\n",
       "      <th>75%</th>\n",
       "      <td>1.137666e+07</td>\n",
       "      <td>-0.010000</td>\n",
       "      <td>9.486000</td>\n",
       "      <td>9.376000</td>\n",
       "      <td>-0.018000</td>\n",
       "      <td>9.486000</td>\n",
       "      <td>67.225000</td>\n",
       "      <td>3.807500</td>\n",
       "      <td>1.000000</td>\n",
       "      <td>0.000000</td>\n",
       "      <td>1.000000</td>\n",
       "      <td>1.000000</td>\n",
       "      <td>0.000000</td>\n",
       "      <td>1.000000</td>\n",
       "      <td>1.000000</td>\n",
       "      <td>1.000000</td>\n",
       "    </tr>\n",
       "    <tr>\n",
       "      <th>max</th>\n",
       "      <td>1.516859e+07</td>\n",
       "      <td>10.608000</td>\n",
       "      <td>10.262000</td>\n",
       "      <td>10.230000</td>\n",
       "      <td>6.092000</td>\n",
       "      <td>10.260000</td>\n",
       "      <td>87.975000</td>\n",
       "      <td>7.442500</td>\n",
       "      <td>1.000000</td>\n",
       "      <td>1.000000</td>\n",
       "      <td>1.000000</td>\n",
       "      <td>1.000000</td>\n",
       "      <td>1.000000</td>\n",
       "      <td>1.000000</td>\n",
       "      <td>1.000000</td>\n",
       "      <td>1.000000</td>\n",
       "    </tr>\n",
       "  </tbody>\n",
       "</table>\n",
       "</div>"
      ],
      "text/plain": [
       "         Unnamed: 0           TP2           TP3            H1   DV_pressure  \\\n",
       "count  1.685400e+04  16854.000000  16854.000000  16854.000000  16854.000000   \n",
       "mean   7.584740e+06      1.359557      8.982260      7.569898      0.058323   \n",
       "std    4.378928e+06      3.237392      0.640273      3.330770      0.389133   \n",
       "min    8.900000e+02     -0.030000      0.894000     -0.032000     -0.032000   \n",
       "25%    3.792815e+06     -0.014000      8.494000      8.252000     -0.022000   \n",
       "50%    7.584740e+06     -0.012000      8.954000      8.784000     -0.020000   \n",
       "75%    1.137666e+07     -0.010000      9.486000      9.376000     -0.018000   \n",
       "max    1.516859e+07     10.608000     10.262000     10.230000      6.092000   \n",
       "\n",
       "         Reservoirs  Oil_temperature  Motor_current          COMP  \\\n",
       "count  16854.000000     16854.000000   16854.000000  16854.000000   \n",
       "mean       8.982893        62.642993       2.053630      0.837012   \n",
       "std        0.639486         6.518095       2.298836      0.369366   \n",
       "min        0.876000        24.925000       0.020000      0.000000   \n",
       "25%        8.496000        57.775000       0.040000      1.000000   \n",
       "50%        8.954000        62.675000       0.045000      1.000000   \n",
       "75%        9.486000        67.225000       3.807500      1.000000   \n",
       "max       10.260000        87.975000       7.442500      1.000000   \n",
       "\n",
       "         DV_eletric        Towers           MPG           LPS  \\\n",
       "count  16854.000000  16854.000000  16854.000000  16854.000000   \n",
       "mean       0.160081      0.920494      0.832325      0.003619   \n",
       "std        0.366692      0.270535      0.373589      0.060054   \n",
       "min        0.000000      0.000000      0.000000      0.000000   \n",
       "25%        0.000000      1.000000      1.000000      0.000000   \n",
       "50%        0.000000      1.000000      1.000000      0.000000   \n",
       "75%        0.000000      1.000000      1.000000      0.000000   \n",
       "max        1.000000      1.000000      1.000000      1.000000   \n",
       "\n",
       "       Pressure_switch     Oil_level  Caudal_impulses  \n",
       "count     16854.000000  16854.000000     16854.000000  \n",
       "mean          0.989913      0.902931         0.935861  \n",
       "std           0.099927      0.296060         0.245008  \n",
       "min           0.000000      0.000000         0.000000  \n",
       "25%           1.000000      1.000000         1.000000  \n",
       "50%           1.000000      1.000000         1.000000  \n",
       "75%           1.000000      1.000000         1.000000  \n",
       "max           1.000000      1.000000         1.000000  "
      ]
     },
     "execution_count": 5,
     "metadata": {},
     "output_type": "execute_result"
    }
   ],
   "source": [
    "# Summary statistics of the numeric features\n",
    "metro_df_large.describe()"
   ]
  },
  {
   "cell_type": "code",
   "execution_count": 6,
   "id": "77ba7416",
   "metadata": {
    "execution": {
     "iopub.execute_input": "2023-10-25T21:42:28.653294Z",
     "iopub.status.busy": "2023-10-25T21:42:28.652005Z",
     "iopub.status.idle": "2023-10-25T21:42:28.683380Z",
     "shell.execute_reply": "2023-10-25T21:42:28.682005Z"
    },
    "papermill": {
     "duration": 0.050012,
     "end_time": "2023-10-25T21:42:28.686216",
     "exception": false,
     "start_time": "2023-10-25T21:42:28.636204",
     "status": "completed"
    },
    "tags": []
   },
   "outputs": [
    {
     "name": "stdout",
     "output_type": "stream",
     "text": [
      "<class 'pandas.core.frame.DataFrame'>\n",
      "RangeIndex: 16854 entries, 0 to 16853\n",
      "Data columns (total 17 columns):\n",
      " #   Column           Non-Null Count  Dtype  \n",
      "---  ------           --------------  -----  \n",
      " 0   Unnamed: 0       16854 non-null  int64  \n",
      " 1   timestamp        16854 non-null  object \n",
      " 2   TP2              16854 non-null  float64\n",
      " 3   TP3              16854 non-null  float64\n",
      " 4   H1               16854 non-null  float64\n",
      " 5   DV_pressure      16854 non-null  float64\n",
      " 6   Reservoirs       16854 non-null  float64\n",
      " 7   Oil_temperature  16854 non-null  float64\n",
      " 8   Motor_current    16854 non-null  float64\n",
      " 9   COMP             16854 non-null  float64\n",
      " 10  DV_eletric       16854 non-null  float64\n",
      " 11  Towers           16854 non-null  float64\n",
      " 12  MPG              16854 non-null  float64\n",
      " 13  LPS              16854 non-null  float64\n",
      " 14  Pressure_switch  16854 non-null  float64\n",
      " 15  Oil_level        16854 non-null  float64\n",
      " 16  Caudal_impulses  16854 non-null  float64\n",
      "dtypes: float64(15), int64(1), object(1)\n",
      "memory usage: 2.2+ MB\n"
     ]
    }
   ],
   "source": [
    "# Examining null count and data types of features\n",
    "metro_df_large.info()"
   ]
  },
  {
   "cell_type": "markdown",
   "id": "63ebcd54",
   "metadata": {
    "papermill": {
     "duration": 0.013393,
     "end_time": "2023-10-25T21:42:28.713271",
     "exception": false,
     "start_time": "2023-10-25T21:42:28.699878",
     "status": "completed"
    },
    "tags": []
   },
   "source": [
    "# Creating a target feature"
   ]
  },
  {
   "cell_type": "markdown",
   "id": "081d63ac",
   "metadata": {
    "papermill": {
     "duration": 0.013385,
     "end_time": "2023-10-25T21:42:28.740621",
     "exception": false,
     "start_time": "2023-10-25T21:42:28.727236",
     "status": "completed"
    },
    "tags": []
   },
   "source": [
    "The valuable information of the actual machinery failures needs to be transformed into a feature in the dataframe. Here I take steps to create failure_start, failure_end, and failure_duration features. I will use these to test the performance of the classification model."
   ]
  },
  {
   "cell_type": "code",
   "execution_count": 7,
   "id": "c6acd29d",
   "metadata": {
    "execution": {
     "iopub.execute_input": "2023-10-25T21:42:28.769927Z",
     "iopub.status.busy": "2023-10-25T21:42:28.769534Z",
     "iopub.status.idle": "2023-10-25T21:42:28.787173Z",
     "shell.execute_reply": "2023-10-25T21:42:28.785627Z"
    },
    "papermill": {
     "duration": 0.035285,
     "end_time": "2023-10-25T21:42:28.789845",
     "exception": false,
     "start_time": "2023-10-25T21:42:28.754560",
     "status": "completed"
    },
    "tags": []
   },
   "outputs": [
    {
     "data": {
      "text/plain": [
       "failure_start    datetime64[ns]\n",
       "failure_end      datetime64[ns]\n",
       "dtype: object"
      ]
     },
     "execution_count": 7,
     "metadata": {},
     "output_type": "execute_result"
    }
   ],
   "source": [
    "# Creating a dataframe of failure data from the provided failure table\n",
    "\n",
    "dt_fail_starts = pd.to_datetime(['04-18-2020', '05-29-2020',  '06-05-2020', '07-15-2020'])\n",
    "dt_fail_ends = pd.to_datetime(['04/18/2020 23:59', '05/30/2020 6:00', '06/07/2020 14:30', '07/15/2020 19:00'])\n",
    "\n",
    "failure_df = pd.DataFrame(list(zip(dt_fail_starts, dt_fail_ends)), columns=['failure_start','failure_end'], dtype='datetime64[ns]')\n",
    "\n",
    "failure_df.dtypes"
   ]
  },
  {
   "cell_type": "code",
   "execution_count": 8,
   "id": "8dfe1513",
   "metadata": {
    "execution": {
     "iopub.execute_input": "2023-10-25T21:42:28.819304Z",
     "iopub.status.busy": "2023-10-25T21:42:28.818869Z",
     "iopub.status.idle": "2023-10-25T21:42:28.832919Z",
     "shell.execute_reply": "2023-10-25T21:42:28.831910Z"
    },
    "papermill": {
     "duration": 0.031893,
     "end_time": "2023-10-25T21:42:28.835573",
     "exception": false,
     "start_time": "2023-10-25T21:42:28.803680",
     "status": "completed"
    },
    "tags": []
   },
   "outputs": [
    {
     "name": "stdout",
     "output_type": "stream",
     "text": [
      "  failure_start         failure_end   fail_duration   fail_date\n",
      "0    2020-04-18 2020-04-18 23:59:00 0 days 23:59:00  2020-04-18\n",
      "1    2020-05-29 2020-05-30 06:00:00 1 days 06:00:00  2020-05-29\n",
      "2    2020-06-05 2020-06-07 14:30:00 2 days 14:30:00  2020-06-05\n",
      "3    2020-07-15 2020-07-15 19:00:00 0 days 19:00:00  2020-07-15\n",
      "failure_start     datetime64[ns]\n",
      "failure_end       datetime64[ns]\n",
      "fail_duration    timedelta64[ns]\n",
      "fail_date                 object\n",
      "dtype: object\n"
     ]
    }
   ],
   "source": [
    "# Creating a fail_duration feature by subtracting datetime objects, returning a timedelta\n",
    "\n",
    "failure_df['fail_duration'] = failure_df['failure_end'] - failure_df['failure_start'] \n",
    "failure_df['fail_date'] = failure_df['failure_start'].dt.date\n",
    "print(failure_df.head())\n",
    "print(failure_df.dtypes)"
   ]
  },
  {
   "cell_type": "code",
   "execution_count": 9,
   "id": "9c8a4366",
   "metadata": {
    "execution": {
     "iopub.execute_input": "2023-10-25T21:42:28.867051Z",
     "iopub.status.busy": "2023-10-25T21:42:28.865465Z",
     "iopub.status.idle": "2023-10-25T21:42:28.880854Z",
     "shell.execute_reply": "2023-10-25T21:42:28.879560Z"
    },
    "papermill": {
     "duration": 0.033714,
     "end_time": "2023-10-25T21:42:28.883406",
     "exception": false,
     "start_time": "2023-10-25T21:42:28.849692",
     "status": "completed"
    },
    "tags": []
   },
   "outputs": [
    {
     "data": {
      "text/plain": [
       "[DatetimeIndex(['2020-04-11', '2020-04-12', '2020-04-13', '2020-04-14',\n",
       "                '2020-04-15', '2020-04-16', '2020-04-17', '2020-04-18'],\n",
       "               dtype='datetime64[ns]', freq='D'),\n",
       " DatetimeIndex(['2020-05-22', '2020-05-23', '2020-05-24', '2020-05-25',\n",
       "                '2020-05-26', '2020-05-27', '2020-05-28', '2020-05-29'],\n",
       "               dtype='datetime64[ns]', freq='D'),\n",
       " DatetimeIndex(['2020-05-29', '2020-05-30', '2020-05-31', '2020-06-01',\n",
       "                '2020-06-02', '2020-06-03', '2020-06-04', '2020-06-05'],\n",
       "               dtype='datetime64[ns]', freq='D'),\n",
       " DatetimeIndex(['2020-07-08', '2020-07-09', '2020-07-10', '2020-07-11',\n",
       "                '2020-07-12', '2020-07-13', '2020-07-14', '2020-07-15'],\n",
       "               dtype='datetime64[ns]', freq='D')]"
      ]
     },
     "execution_count": 9,
     "metadata": {},
     "output_type": "execute_result"
    }
   ],
   "source": [
    "# Creating date ranges to identify records from the 7 days leading up to failure\n",
    "fail_ranges = [pd.date_range(start=(fail_start - pd.Timedelta(days=7)), end=fail_start) for fail_start in failure_df.fail_date]\n",
    "fail_ranges"
   ]
  },
  {
   "cell_type": "code",
   "execution_count": 10,
   "id": "7ac950c0",
   "metadata": {
    "execution": {
     "iopub.execute_input": "2023-10-25T21:42:28.914649Z",
     "iopub.status.busy": "2023-10-25T21:42:28.913412Z",
     "iopub.status.idle": "2023-10-25T21:42:28.971510Z",
     "shell.execute_reply": "2023-10-25T21:42:28.970235Z"
    },
    "papermill": {
     "duration": 0.077741,
     "end_time": "2023-10-25T21:42:28.975201",
     "exception": false,
     "start_time": "2023-10-25T21:42:28.897460",
     "status": "completed"
    },
    "tags": []
   },
   "outputs": [
    {
     "name": "stdout",
     "output_type": "stream",
     "text": [
      "datetime64[ns]\n"
     ]
    },
    {
     "data": {
      "text/plain": [
       "Unnamed: 0                  int64\n",
       "timestamp          datetime64[ns]\n",
       "TP2                       float64\n",
       "TP3                       float64\n",
       "H1                        float64\n",
       "DV_pressure               float64\n",
       "Reservoirs                float64\n",
       "Oil_temperature           float64\n",
       "Motor_current             float64\n",
       "COMP                      float64\n",
       "DV_eletric                float64\n",
       "Towers                    float64\n",
       "MPG                       float64\n",
       "LPS                       float64\n",
       "Pressure_switch           float64\n",
       "Oil_level                 float64\n",
       "Caudal_impulses           float64\n",
       "date                       string\n",
       "dtype: object"
      ]
     },
     "execution_count": 10,
     "metadata": {},
     "output_type": "execute_result"
    }
   ],
   "source": [
    "# Converting the timestamp column to the pandas datetime date type \n",
    "metro_df_large['timestamp'] = pd.to_datetime(metro_df_large['timestamp'])\n",
    "print(metro_df_large.timestamp.dtype)\n",
    "\n",
    "metro_df_large['date'] = metro_df_large['timestamp'].dt.date.astype('string')\n",
    "metro_df_large.dtypes"
   ]
  },
  {
   "cell_type": "code",
   "execution_count": 11,
   "id": "a26af55b",
   "metadata": {
    "execution": {
     "iopub.execute_input": "2023-10-25T21:42:29.008725Z",
     "iopub.status.busy": "2023-10-25T21:42:29.008293Z",
     "iopub.status.idle": "2023-10-25T21:42:29.020701Z",
     "shell.execute_reply": "2023-10-25T21:42:29.019227Z"
    },
    "papermill": {
     "duration": 0.031735,
     "end_time": "2023-10-25T21:42:29.023469",
     "exception": false,
     "start_time": "2023-10-25T21:42:28.991734",
     "status": "completed"
    },
    "tags": []
   },
   "outputs": [
    {
     "data": {
      "text/plain": [
       "0    2020-02-01\n",
       "1    2020-02-01\n",
       "2    2020-02-01\n",
       "3    2020-02-01\n",
       "4    2020-02-01\n",
       "Name: date, dtype: string"
      ]
     },
     "execution_count": 11,
     "metadata": {},
     "output_type": "execute_result"
    }
   ],
   "source": [
    "metro_df_large['date'] = metro_df_large['date']\n",
    "metro_df_large['date'].head()"
   ]
  },
  {
   "cell_type": "code",
   "execution_count": 12,
   "id": "ba69490d",
   "metadata": {
    "execution": {
     "iopub.execute_input": "2023-10-25T21:42:29.054260Z",
     "iopub.status.busy": "2023-10-25T21:42:29.053846Z",
     "iopub.status.idle": "2023-10-25T21:42:29.062592Z",
     "shell.execute_reply": "2023-10-25T21:42:29.061243Z"
    },
    "papermill": {
     "duration": 0.026894,
     "end_time": "2023-10-25T21:42:29.065064",
     "exception": false,
     "start_time": "2023-10-25T21:42:29.038170",
     "status": "completed"
    },
    "tags": []
   },
   "outputs": [
    {
     "data": {
      "text/plain": [
       "\"    for start in dt_fail_starts:\\n        for end in dt_fail_ends:\\n            if (df['timestamp'] >= start) & (df['timestamp'] <= end):\\n                return 1\\n            else:\\n                return 0\""
      ]
     },
     "execution_count": 12,
     "metadata": {},
     "output_type": "execute_result"
    }
   ],
   "source": [
    "\"\"\"    for start in dt_fail_starts:\n",
    "        for end in dt_fail_ends:\n",
    "            if (df['timestamp'] >= start) & (df['timestamp'] <= end):\n",
    "                return 1\n",
    "            else:\n",
    "                return 0\"\"\""
   ]
  },
  {
   "cell_type": "code",
   "execution_count": 13,
   "id": "4ad2f23d",
   "metadata": {
    "execution": {
     "iopub.execute_input": "2023-10-25T21:42:29.096530Z",
     "iopub.status.busy": "2023-10-25T21:42:29.096020Z",
     "iopub.status.idle": "2023-10-25T21:42:29.102718Z",
     "shell.execute_reply": "2023-10-25T21:42:29.100693Z"
    },
    "papermill": {
     "duration": 0.025679,
     "end_time": "2023-10-25T21:42:29.105509",
     "exception": false,
     "start_time": "2023-10-25T21:42:29.079830",
     "status": "completed"
    },
    "tags": []
   },
   "outputs": [],
   "source": [
    "failure_dates = ['2020-04-18','2020-05-29','2020-06-05','2020-07-15']\n",
    "dates_regex = '|'.join(failure_dates)"
   ]
  },
  {
   "cell_type": "code",
   "execution_count": 14,
   "id": "627b564b",
   "metadata": {
    "execution": {
     "iopub.execute_input": "2023-10-25T21:42:29.138201Z",
     "iopub.status.busy": "2023-10-25T21:42:29.137719Z",
     "iopub.status.idle": "2023-10-25T21:42:29.163157Z",
     "shell.execute_reply": "2023-10-25T21:42:29.162261Z"
    },
    "papermill": {
     "duration": 0.045084,
     "end_time": "2023-10-25T21:42:29.165814",
     "exception": false,
     "start_time": "2023-10-25T21:42:29.120730",
     "status": "completed"
    },
    "tags": []
   },
   "outputs": [],
   "source": [
    "metro_df_large['fail_state'] = metro_df_large['date'].str.contains(dates_regex)"
   ]
  },
  {
   "cell_type": "code",
   "execution_count": 15,
   "id": "52ad4d06",
   "metadata": {
    "execution": {
     "iopub.execute_input": "2023-10-25T21:42:29.206401Z",
     "iopub.status.busy": "2023-10-25T21:42:29.205057Z",
     "iopub.status.idle": "2023-10-25T21:42:29.222214Z",
     "shell.execute_reply": "2023-10-25T21:42:29.220702Z"
    },
    "papermill": {
     "duration": 0.042457,
     "end_time": "2023-10-25T21:42:29.225320",
     "exception": false,
     "start_time": "2023-10-25T21:42:29.182863",
     "status": "completed"
    },
    "tags": []
   },
   "outputs": [
    {
     "data": {
      "text/plain": [
       "False    16482\n",
       "True       372\n",
       "Name: fail_state, dtype: Int64"
      ]
     },
     "execution_count": 15,
     "metadata": {},
     "output_type": "execute_result"
    }
   ],
   "source": [
    "metro_df_large['fail_state'].value_counts()"
   ]
  },
  {
   "cell_type": "code",
   "execution_count": 16,
   "id": "4937887a",
   "metadata": {
    "execution": {
     "iopub.execute_input": "2023-10-25T21:42:29.263820Z",
     "iopub.status.busy": "2023-10-25T21:42:29.262751Z",
     "iopub.status.idle": "2023-10-25T21:42:29.298450Z",
     "shell.execute_reply": "2023-10-25T21:42:29.296981Z"
    },
    "papermill": {
     "duration": 0.05552,
     "end_time": "2023-10-25T21:42:29.301192",
     "exception": false,
     "start_time": "2023-10-25T21:42:29.245672",
     "status": "completed"
    },
    "tags": []
   },
   "outputs": [
    {
     "data": {
      "text/html": [
       "<div>\n",
       "<style scoped>\n",
       "    .dataframe tbody tr th:only-of-type {\n",
       "        vertical-align: middle;\n",
       "    }\n",
       "\n",
       "    .dataframe tbody tr th {\n",
       "        vertical-align: top;\n",
       "    }\n",
       "\n",
       "    .dataframe thead th {\n",
       "        text-align: right;\n",
       "    }\n",
       "</style>\n",
       "<table border=\"1\" class=\"dataframe\">\n",
       "  <thead>\n",
       "    <tr style=\"text-align: right;\">\n",
       "      <th></th>\n",
       "      <th>Unnamed: 0</th>\n",
       "      <th>timestamp</th>\n",
       "      <th>TP2</th>\n",
       "      <th>TP3</th>\n",
       "      <th>H1</th>\n",
       "      <th>DV_pressure</th>\n",
       "      <th>Reservoirs</th>\n",
       "      <th>Oil_temperature</th>\n",
       "      <th>Motor_current</th>\n",
       "      <th>COMP</th>\n",
       "      <th>DV_eletric</th>\n",
       "      <th>Towers</th>\n",
       "      <th>MPG</th>\n",
       "      <th>LPS</th>\n",
       "      <th>Pressure_switch</th>\n",
       "      <th>Oil_level</th>\n",
       "      <th>Caudal_impulses</th>\n",
       "      <th>date</th>\n",
       "      <th>fail_state</th>\n",
       "    </tr>\n",
       "  </thead>\n",
       "  <tbody>\n",
       "    <tr>\n",
       "      <th>0</th>\n",
       "      <td>890</td>\n",
       "      <td>2020-02-01 00:14:42</td>\n",
       "      <td>-0.014</td>\n",
       "      <td>8.494</td>\n",
       "      <td>8.480</td>\n",
       "      <td>-0.024</td>\n",
       "      <td>8.496</td>\n",
       "      <td>51.400</td>\n",
       "      <td>0.0400</td>\n",
       "      <td>1.0</td>\n",
       "      <td>0.0</td>\n",
       "      <td>1.0</td>\n",
       "      <td>1.0</td>\n",
       "      <td>0.0</td>\n",
       "      <td>1.0</td>\n",
       "      <td>1.0</td>\n",
       "      <td>1.0</td>\n",
       "      <td>2020-02-01</td>\n",
       "      <td>False</td>\n",
       "    </tr>\n",
       "    <tr>\n",
       "      <th>1</th>\n",
       "      <td>1790</td>\n",
       "      <td>2020-02-01 00:29:34</td>\n",
       "      <td>-0.012</td>\n",
       "      <td>9.640</td>\n",
       "      <td>9.624</td>\n",
       "      <td>-0.024</td>\n",
       "      <td>9.640</td>\n",
       "      <td>52.725</td>\n",
       "      <td>3.7975</td>\n",
       "      <td>1.0</td>\n",
       "      <td>0.0</td>\n",
       "      <td>1.0</td>\n",
       "      <td>1.0</td>\n",
       "      <td>0.0</td>\n",
       "      <td>1.0</td>\n",
       "      <td>1.0</td>\n",
       "      <td>1.0</td>\n",
       "      <td>2020-02-01</td>\n",
       "      <td>False</td>\n",
       "    </tr>\n",
       "    <tr>\n",
       "      <th>2</th>\n",
       "      <td>2690</td>\n",
       "      <td>2020-02-01 00:44:26</td>\n",
       "      <td>-0.014</td>\n",
       "      <td>8.732</td>\n",
       "      <td>8.716</td>\n",
       "      <td>-0.024</td>\n",
       "      <td>8.732</td>\n",
       "      <td>52.100</td>\n",
       "      <td>0.0400</td>\n",
       "      <td>1.0</td>\n",
       "      <td>0.0</td>\n",
       "      <td>1.0</td>\n",
       "      <td>1.0</td>\n",
       "      <td>0.0</td>\n",
       "      <td>1.0</td>\n",
       "      <td>1.0</td>\n",
       "      <td>1.0</td>\n",
       "      <td>2020-02-01</td>\n",
       "      <td>False</td>\n",
       "    </tr>\n",
       "    <tr>\n",
       "      <th>3</th>\n",
       "      <td>3590</td>\n",
       "      <td>2020-02-01 00:59:18</td>\n",
       "      <td>-0.022</td>\n",
       "      <td>9.982</td>\n",
       "      <td>9.978</td>\n",
       "      <td>-0.022</td>\n",
       "      <td>9.980</td>\n",
       "      <td>51.200</td>\n",
       "      <td>3.8100</td>\n",
       "      <td>1.0</td>\n",
       "      <td>0.0</td>\n",
       "      <td>1.0</td>\n",
       "      <td>1.0</td>\n",
       "      <td>0.0</td>\n",
       "      <td>1.0</td>\n",
       "      <td>1.0</td>\n",
       "      <td>1.0</td>\n",
       "      <td>2020-02-01</td>\n",
       "      <td>False</td>\n",
       "    </tr>\n",
       "    <tr>\n",
       "      <th>4</th>\n",
       "      <td>4490</td>\n",
       "      <td>2020-02-01 01:14:10</td>\n",
       "      <td>-0.014</td>\n",
       "      <td>8.954</td>\n",
       "      <td>8.938</td>\n",
       "      <td>-0.024</td>\n",
       "      <td>8.956</td>\n",
       "      <td>52.525</td>\n",
       "      <td>0.0400</td>\n",
       "      <td>1.0</td>\n",
       "      <td>0.0</td>\n",
       "      <td>1.0</td>\n",
       "      <td>1.0</td>\n",
       "      <td>0.0</td>\n",
       "      <td>1.0</td>\n",
       "      <td>1.0</td>\n",
       "      <td>1.0</td>\n",
       "      <td>2020-02-01</td>\n",
       "      <td>False</td>\n",
       "    </tr>\n",
       "  </tbody>\n",
       "</table>\n",
       "</div>"
      ],
      "text/plain": [
       "   Unnamed: 0           timestamp    TP2    TP3     H1  DV_pressure  \\\n",
       "0         890 2020-02-01 00:14:42 -0.014  8.494  8.480       -0.024   \n",
       "1        1790 2020-02-01 00:29:34 -0.012  9.640  9.624       -0.024   \n",
       "2        2690 2020-02-01 00:44:26 -0.014  8.732  8.716       -0.024   \n",
       "3        3590 2020-02-01 00:59:18 -0.022  9.982  9.978       -0.022   \n",
       "4        4490 2020-02-01 01:14:10 -0.014  8.954  8.938       -0.024   \n",
       "\n",
       "   Reservoirs  Oil_temperature  Motor_current  COMP  DV_eletric  Towers  MPG  \\\n",
       "0       8.496           51.400         0.0400   1.0         0.0     1.0  1.0   \n",
       "1       9.640           52.725         3.7975   1.0         0.0     1.0  1.0   \n",
       "2       8.732           52.100         0.0400   1.0         0.0     1.0  1.0   \n",
       "3       9.980           51.200         3.8100   1.0         0.0     1.0  1.0   \n",
       "4       8.956           52.525         0.0400   1.0         0.0     1.0  1.0   \n",
       "\n",
       "   LPS  Pressure_switch  Oil_level  Caudal_impulses        date  fail_state  \n",
       "0  0.0              1.0        1.0              1.0  2020-02-01       False  \n",
       "1  0.0              1.0        1.0              1.0  2020-02-01       False  \n",
       "2  0.0              1.0        1.0              1.0  2020-02-01       False  \n",
       "3  0.0              1.0        1.0              1.0  2020-02-01       False  \n",
       "4  0.0              1.0        1.0              1.0  2020-02-01       False  "
      ]
     },
     "execution_count": 16,
     "metadata": {},
     "output_type": "execute_result"
    }
   ],
   "source": [
    "metro_df_large.head()"
   ]
  },
  {
   "cell_type": "code",
   "execution_count": 17,
   "id": "e599d185",
   "metadata": {
    "execution": {
     "iopub.execute_input": "2023-10-25T21:42:29.334130Z",
     "iopub.status.busy": "2023-10-25T21:42:29.333550Z",
     "iopub.status.idle": "2023-10-25T21:42:29.372329Z",
     "shell.execute_reply": "2023-10-25T21:42:29.370849Z"
    },
    "papermill": {
     "duration": 0.059028,
     "end_time": "2023-10-25T21:42:29.375356",
     "exception": false,
     "start_time": "2023-10-25T21:42:29.316328",
     "status": "completed"
    },
    "tags": []
   },
   "outputs": [
    {
     "data": {
      "text/html": [
       "<div>\n",
       "<style scoped>\n",
       "    .dataframe tbody tr th:only-of-type {\n",
       "        vertical-align: middle;\n",
       "    }\n",
       "\n",
       "    .dataframe tbody tr th {\n",
       "        vertical-align: top;\n",
       "    }\n",
       "\n",
       "    .dataframe thead th {\n",
       "        text-align: right;\n",
       "    }\n",
       "</style>\n",
       "<table border=\"1\" class=\"dataframe\">\n",
       "  <thead>\n",
       "    <tr style=\"text-align: right;\">\n",
       "      <th></th>\n",
       "      <th>Unnamed: 0</th>\n",
       "      <th>timestamp</th>\n",
       "      <th>TP2</th>\n",
       "      <th>TP3</th>\n",
       "      <th>H1</th>\n",
       "      <th>DV_pressure</th>\n",
       "      <th>Reservoirs</th>\n",
       "      <th>Oil_temperature</th>\n",
       "      <th>Motor_current</th>\n",
       "      <th>COMP</th>\n",
       "      <th>DV_eletric</th>\n",
       "      <th>Towers</th>\n",
       "      <th>MPG</th>\n",
       "      <th>LPS</th>\n",
       "      <th>Pressure_switch</th>\n",
       "      <th>Oil_level</th>\n",
       "      <th>Caudal_impulses</th>\n",
       "      <th>date</th>\n",
       "      <th>fail_state</th>\n",
       "    </tr>\n",
       "  </thead>\n",
       "  <tbody>\n",
       "    <tr>\n",
       "      <th>6250</th>\n",
       "      <td>5625890</td>\n",
       "      <td>2020-04-18 00:05:02</td>\n",
       "      <td>-0.018</td>\n",
       "      <td>8.248</td>\n",
       "      <td>8.238</td>\n",
       "      <td>-0.024</td>\n",
       "      <td>8.248</td>\n",
       "      <td>49.450</td>\n",
       "      <td>0.0400</td>\n",
       "      <td>0.0</td>\n",
       "      <td>0.0</td>\n",
       "      <td>0.0</td>\n",
       "      <td>0.0</td>\n",
       "      <td>0.0</td>\n",
       "      <td>0.0</td>\n",
       "      <td>0.0</td>\n",
       "      <td>0.0</td>\n",
       "      <td>2020-04-18</td>\n",
       "      <td>True</td>\n",
       "    </tr>\n",
       "    <tr>\n",
       "      <th>6251</th>\n",
       "      <td>5626790</td>\n",
       "      <td>2020-04-18 00:27:57</td>\n",
       "      <td>8.766</td>\n",
       "      <td>8.572</td>\n",
       "      <td>-0.010</td>\n",
       "      <td>1.962</td>\n",
       "      <td>8.572</td>\n",
       "      <td>72.475</td>\n",
       "      <td>5.7900</td>\n",
       "      <td>0.0</td>\n",
       "      <td>1.0</td>\n",
       "      <td>1.0</td>\n",
       "      <td>0.0</td>\n",
       "      <td>0.0</td>\n",
       "      <td>1.0</td>\n",
       "      <td>1.0</td>\n",
       "      <td>1.0</td>\n",
       "      <td>2020-04-18</td>\n",
       "      <td>True</td>\n",
       "    </tr>\n",
       "    <tr>\n",
       "      <th>6252</th>\n",
       "      <td>5627690</td>\n",
       "      <td>2020-04-18 00:42:49</td>\n",
       "      <td>8.694</td>\n",
       "      <td>8.530</td>\n",
       "      <td>-0.010</td>\n",
       "      <td>1.940</td>\n",
       "      <td>8.532</td>\n",
       "      <td>73.450</td>\n",
       "      <td>5.6325</td>\n",
       "      <td>0.0</td>\n",
       "      <td>1.0</td>\n",
       "      <td>0.0</td>\n",
       "      <td>0.0</td>\n",
       "      <td>0.0</td>\n",
       "      <td>1.0</td>\n",
       "      <td>1.0</td>\n",
       "      <td>1.0</td>\n",
       "      <td>2020-04-18</td>\n",
       "      <td>True</td>\n",
       "    </tr>\n",
       "    <tr>\n",
       "      <th>6253</th>\n",
       "      <td>5628590</td>\n",
       "      <td>2020-04-18 00:57:41</td>\n",
       "      <td>8.950</td>\n",
       "      <td>8.764</td>\n",
       "      <td>-0.010</td>\n",
       "      <td>2.020</td>\n",
       "      <td>8.764</td>\n",
       "      <td>73.750</td>\n",
       "      <td>5.7200</td>\n",
       "      <td>0.0</td>\n",
       "      <td>1.0</td>\n",
       "      <td>1.0</td>\n",
       "      <td>0.0</td>\n",
       "      <td>0.0</td>\n",
       "      <td>1.0</td>\n",
       "      <td>1.0</td>\n",
       "      <td>1.0</td>\n",
       "      <td>2020-04-18</td>\n",
       "      <td>True</td>\n",
       "    </tr>\n",
       "    <tr>\n",
       "      <th>6254</th>\n",
       "      <td>5629490</td>\n",
       "      <td>2020-04-18 01:12:33</td>\n",
       "      <td>8.916</td>\n",
       "      <td>8.762</td>\n",
       "      <td>-0.010</td>\n",
       "      <td>2.008</td>\n",
       "      <td>8.766</td>\n",
       "      <td>74.275</td>\n",
       "      <td>5.8000</td>\n",
       "      <td>0.0</td>\n",
       "      <td>1.0</td>\n",
       "      <td>0.0</td>\n",
       "      <td>0.0</td>\n",
       "      <td>0.0</td>\n",
       "      <td>1.0</td>\n",
       "      <td>1.0</td>\n",
       "      <td>1.0</td>\n",
       "      <td>2020-04-18</td>\n",
       "      <td>True</td>\n",
       "    </tr>\n",
       "  </tbody>\n",
       "</table>\n",
       "</div>"
      ],
      "text/plain": [
       "      Unnamed: 0           timestamp    TP2    TP3     H1  DV_pressure  \\\n",
       "6250     5625890 2020-04-18 00:05:02 -0.018  8.248  8.238       -0.024   \n",
       "6251     5626790 2020-04-18 00:27:57  8.766  8.572 -0.010        1.962   \n",
       "6252     5627690 2020-04-18 00:42:49  8.694  8.530 -0.010        1.940   \n",
       "6253     5628590 2020-04-18 00:57:41  8.950  8.764 -0.010        2.020   \n",
       "6254     5629490 2020-04-18 01:12:33  8.916  8.762 -0.010        2.008   \n",
       "\n",
       "      Reservoirs  Oil_temperature  Motor_current  COMP  DV_eletric  Towers  \\\n",
       "6250       8.248           49.450         0.0400   0.0         0.0     0.0   \n",
       "6251       8.572           72.475         5.7900   0.0         1.0     1.0   \n",
       "6252       8.532           73.450         5.6325   0.0         1.0     0.0   \n",
       "6253       8.764           73.750         5.7200   0.0         1.0     1.0   \n",
       "6254       8.766           74.275         5.8000   0.0         1.0     0.0   \n",
       "\n",
       "      MPG  LPS  Pressure_switch  Oil_level  Caudal_impulses        date  \\\n",
       "6250  0.0  0.0              0.0        0.0              0.0  2020-04-18   \n",
       "6251  0.0  0.0              1.0        1.0              1.0  2020-04-18   \n",
       "6252  0.0  0.0              1.0        1.0              1.0  2020-04-18   \n",
       "6253  0.0  0.0              1.0        1.0              1.0  2020-04-18   \n",
       "6254  0.0  0.0              1.0        1.0              1.0  2020-04-18   \n",
       "\n",
       "      fail_state  \n",
       "6250        True  \n",
       "6251        True  \n",
       "6252        True  \n",
       "6253        True  \n",
       "6254        True  "
      ]
     },
     "execution_count": 17,
     "metadata": {},
     "output_type": "execute_result"
    }
   ],
   "source": [
    "failed_df = metro_df_large.loc[metro_df_large['fail_state'] == 1]\n",
    "#failed_df['date'] = failed_df.timestamp.dt.date\n",
    "failed_df.head()"
   ]
  },
  {
   "cell_type": "code",
   "execution_count": 18,
   "id": "65fec9fc",
   "metadata": {
    "execution": {
     "iopub.execute_input": "2023-10-25T21:42:29.411420Z",
     "iopub.status.busy": "2023-10-25T21:42:29.410952Z",
     "iopub.status.idle": "2023-10-25T21:42:29.423008Z",
     "shell.execute_reply": "2023-10-25T21:42:29.421552Z"
    },
    "papermill": {
     "duration": 0.033986,
     "end_time": "2023-10-25T21:42:29.425726",
     "exception": false,
     "start_time": "2023-10-25T21:42:29.391740",
     "status": "completed"
    },
    "tags": []
   },
   "outputs": [
    {
     "data": {
      "text/plain": [
       "2020-06-05    97\n",
       "2020-04-18    96\n",
       "2020-07-15    96\n",
       "2020-05-29    83\n",
       "Name: date, dtype: Int64"
      ]
     },
     "execution_count": 18,
     "metadata": {},
     "output_type": "execute_result"
    }
   ],
   "source": [
    "failed_df.date.value_counts()"
   ]
  },
  {
   "cell_type": "code",
   "execution_count": 19,
   "id": "6f49c222",
   "metadata": {
    "execution": {
     "iopub.execute_input": "2023-10-25T21:42:29.459484Z",
     "iopub.status.busy": "2023-10-25T21:42:29.459033Z",
     "iopub.status.idle": "2023-10-25T21:42:29.464022Z",
     "shell.execute_reply": "2023-10-25T21:42:29.462823Z"
    },
    "papermill": {
     "duration": 0.024986,
     "end_time": "2023-10-25T21:42:29.466492",
     "exception": false,
     "start_time": "2023-10-25T21:42:29.441506",
     "status": "completed"
    },
    "tags": []
   },
   "outputs": [],
   "source": [
    "#metro_df_large['Fail_state'] = metro_df_large[metro_df_large.timestamp "
   ]
  },
  {
   "cell_type": "code",
   "execution_count": 20,
   "id": "003a68c1",
   "metadata": {
    "execution": {
     "iopub.execute_input": "2023-10-25T21:42:29.501052Z",
     "iopub.status.busy": "2023-10-25T21:42:29.499910Z",
     "iopub.status.idle": "2023-10-25T21:42:29.512354Z",
     "shell.execute_reply": "2023-10-25T21:42:29.510731Z"
    },
    "papermill": {
     "duration": 0.032289,
     "end_time": "2023-10-25T21:42:29.514665",
     "exception": false,
     "start_time": "2023-10-25T21:42:29.482376",
     "status": "completed"
    },
    "tags": []
   },
   "outputs": [
    {
     "name": "stdout",
     "output_type": "stream",
     "text": [
      "1.0    15773\n",
      "0.0     1081\n",
      "Name: Caudal_impulses, dtype: int64\n",
      "1.0    15218\n",
      "0.0     1636\n",
      "Name: Oil_level, dtype: int64\n"
     ]
    }
   ],
   "source": [
    "# Every value of the Caudal_impulses and Oil_level columns is 1, \n",
    "# REQUIRES examination of full dataset before dropping these columns\n",
    "\n",
    "print(metro_df_large.Caudal_impulses.value_counts())\n",
    "print(metro_df_large.Oil_level.value_counts())"
   ]
  },
  {
   "cell_type": "markdown",
   "id": "850081cc",
   "metadata": {
    "papermill": {
     "duration": 0.015652,
     "end_time": "2023-10-25T21:42:29.546358",
     "exception": false,
     "start_time": "2023-10-25T21:42:29.530706",
     "status": "completed"
    },
    "tags": []
   },
   "source": [
    "# Initial Model Training + Evaluation"
   ]
  },
  {
   "cell_type": "code",
   "execution_count": 21,
   "id": "8ecfcde8",
   "metadata": {
    "execution": {
     "iopub.execute_input": "2023-10-25T21:42:29.581415Z",
     "iopub.status.busy": "2023-10-25T21:42:29.580312Z",
     "iopub.status.idle": "2023-10-25T21:42:29.585161Z",
     "shell.execute_reply": "2023-10-25T21:42:29.584240Z"
    },
    "papermill": {
     "duration": 0.025495,
     "end_time": "2023-10-25T21:42:29.587494",
     "exception": false,
     "start_time": "2023-10-25T21:42:29.561999",
     "status": "completed"
    },
    "tags": []
   },
   "outputs": [],
   "source": [
    "#logreg_1 = LogisticRegression()"
   ]
  },
  {
   "cell_type": "markdown",
   "id": "22e26fc2",
   "metadata": {
    "papermill": {
     "duration": 0.015413,
     "end_time": "2023-10-25T21:42:29.618694",
     "exception": false,
     "start_time": "2023-10-25T21:42:29.603281",
     "status": "completed"
    },
    "tags": []
   },
   "source": [
    "# Feature Extraction"
   ]
  },
  {
   "cell_type": "markdown",
   "id": "43f6630f",
   "metadata": {
    "papermill": {
     "duration": 0.015914,
     "end_time": "2023-10-25T21:42:29.650356",
     "exception": false,
     "start_time": "2023-10-25T21:42:29.634442",
     "status": "completed"
    },
    "tags": []
   },
   "source": [
    "The BAR pressure value in the reservoirs ('Reservoirs') should be close to that measured at the pneumatic panel (TP3).\n",
    "Next I create a dif_panel_reservoir feature by subtracting the value of 'Reservoirs' from the value of 'TP3' for each record."
   ]
  },
  {
   "cell_type": "code",
   "execution_count": 22,
   "id": "ca7ced63",
   "metadata": {
    "execution": {
     "iopub.execute_input": "2023-10-25T21:42:29.684499Z",
     "iopub.status.busy": "2023-10-25T21:42:29.683525Z",
     "iopub.status.idle": "2023-10-25T21:42:29.700621Z",
     "shell.execute_reply": "2023-10-25T21:42:29.699135Z"
    },
    "papermill": {
     "duration": 0.037159,
     "end_time": "2023-10-25T21:42:29.703107",
     "exception": false,
     "start_time": "2023-10-25T21:42:29.665948",
     "status": "completed"
    },
    "tags": []
   },
   "outputs": [
    {
     "data": {
      "text/plain": [
       "count    16854.000000\n",
       "mean         0.001871\n",
       "std          0.001678\n",
       "min          0.000000\n",
       "25%          0.000000\n",
       "50%          0.002000\n",
       "75%          0.002000\n",
       "max          0.018000\n",
       "Name: dif_panel_reservoir, dtype: float64"
      ]
     },
     "execution_count": 22,
     "metadata": {},
     "output_type": "execute_result"
    }
   ],
   "source": [
    "# Creating a feature dif_panel_reservoir by subtracting Reservoirs value from TP3 value\n",
    "\n",
    "metro_df_large['dif_panel_reservoir'] = abs(metro_df_large['TP3'] - metro_df_large['Reservoirs'])\n",
    "\n",
    "metro_df_large['dif_panel_reservoir'].describe()"
   ]
  },
  {
   "cell_type": "markdown",
   "id": "7ae21756",
   "metadata": {
    "papermill": {
     "duration": 0.015556,
     "end_time": "2023-10-25T21:42:29.734635",
     "exception": false,
     "start_time": "2023-10-25T21:42:29.719079",
     "status": "completed"
    },
    "tags": []
   },
   "source": [
    "Creating a feature for the rolling average of the oil temperature."
   ]
  },
  {
   "cell_type": "code",
   "execution_count": 23,
   "id": "bdd8d50c",
   "metadata": {
    "execution": {
     "iopub.execute_input": "2023-10-25T21:42:29.767972Z",
     "iopub.status.busy": "2023-10-25T21:42:29.767597Z",
     "iopub.status.idle": "2023-10-25T21:42:29.828784Z",
     "shell.execute_reply": "2023-10-25T21:42:29.827226Z"
    },
    "papermill": {
     "duration": 0.081747,
     "end_time": "2023-10-25T21:42:29.832165",
     "exception": false,
     "start_time": "2023-10-25T21:42:29.750418",
     "status": "completed"
    },
    "tags": []
   },
   "outputs": [
    {
     "data": {
      "text/html": [
       "<div>\n",
       "<style scoped>\n",
       "    .dataframe tbody tr th:only-of-type {\n",
       "        vertical-align: middle;\n",
       "    }\n",
       "\n",
       "    .dataframe tbody tr th {\n",
       "        vertical-align: top;\n",
       "    }\n",
       "\n",
       "    .dataframe thead th {\n",
       "        text-align: right;\n",
       "    }\n",
       "</style>\n",
       "<table border=\"1\" class=\"dataframe\">\n",
       "  <thead>\n",
       "    <tr style=\"text-align: right;\">\n",
       "      <th></th>\n",
       "      <th>Unnamed: 0</th>\n",
       "      <th>timestamp</th>\n",
       "      <th>TP2</th>\n",
       "      <th>TP3</th>\n",
       "      <th>H1</th>\n",
       "      <th>DV_pressure</th>\n",
       "      <th>Reservoirs</th>\n",
       "      <th>Oil_temperature</th>\n",
       "      <th>Motor_current</th>\n",
       "      <th>COMP</th>\n",
       "      <th>...</th>\n",
       "      <th>Towers</th>\n",
       "      <th>MPG</th>\n",
       "      <th>LPS</th>\n",
       "      <th>Pressure_switch</th>\n",
       "      <th>Oil_level</th>\n",
       "      <th>Caudal_impulses</th>\n",
       "      <th>date</th>\n",
       "      <th>fail_state</th>\n",
       "      <th>dif_panel_reservoir</th>\n",
       "      <th>oil_rolling</th>\n",
       "    </tr>\n",
       "  </thead>\n",
       "  <tbody>\n",
       "    <tr>\n",
       "      <th>0</th>\n",
       "      <td>890</td>\n",
       "      <td>2020-02-01 00:14:42</td>\n",
       "      <td>-0.014</td>\n",
       "      <td>8.494</td>\n",
       "      <td>8.480</td>\n",
       "      <td>-0.024</td>\n",
       "      <td>8.496</td>\n",
       "      <td>51.400</td>\n",
       "      <td>0.0400</td>\n",
       "      <td>1.0</td>\n",
       "      <td>...</td>\n",
       "      <td>1.0</td>\n",
       "      <td>1.0</td>\n",
       "      <td>0.0</td>\n",
       "      <td>1.0</td>\n",
       "      <td>1.0</td>\n",
       "      <td>1.0</td>\n",
       "      <td>2020-02-01</td>\n",
       "      <td>False</td>\n",
       "      <td>0.002</td>\n",
       "      <td>NaN</td>\n",
       "    </tr>\n",
       "    <tr>\n",
       "      <th>1</th>\n",
       "      <td>1790</td>\n",
       "      <td>2020-02-01 00:29:34</td>\n",
       "      <td>-0.012</td>\n",
       "      <td>9.640</td>\n",
       "      <td>9.624</td>\n",
       "      <td>-0.024</td>\n",
       "      <td>9.640</td>\n",
       "      <td>52.725</td>\n",
       "      <td>3.7975</td>\n",
       "      <td>1.0</td>\n",
       "      <td>...</td>\n",
       "      <td>1.0</td>\n",
       "      <td>1.0</td>\n",
       "      <td>0.0</td>\n",
       "      <td>1.0</td>\n",
       "      <td>1.0</td>\n",
       "      <td>1.0</td>\n",
       "      <td>2020-02-01</td>\n",
       "      <td>False</td>\n",
       "      <td>0.000</td>\n",
       "      <td>NaN</td>\n",
       "    </tr>\n",
       "    <tr>\n",
       "      <th>2</th>\n",
       "      <td>2690</td>\n",
       "      <td>2020-02-01 00:44:26</td>\n",
       "      <td>-0.014</td>\n",
       "      <td>8.732</td>\n",
       "      <td>8.716</td>\n",
       "      <td>-0.024</td>\n",
       "      <td>8.732</td>\n",
       "      <td>52.100</td>\n",
       "      <td>0.0400</td>\n",
       "      <td>1.0</td>\n",
       "      <td>...</td>\n",
       "      <td>1.0</td>\n",
       "      <td>1.0</td>\n",
       "      <td>0.0</td>\n",
       "      <td>1.0</td>\n",
       "      <td>1.0</td>\n",
       "      <td>1.0</td>\n",
       "      <td>2020-02-01</td>\n",
       "      <td>False</td>\n",
       "      <td>0.000</td>\n",
       "      <td>NaN</td>\n",
       "    </tr>\n",
       "    <tr>\n",
       "      <th>3</th>\n",
       "      <td>3590</td>\n",
       "      <td>2020-02-01 00:59:18</td>\n",
       "      <td>-0.022</td>\n",
       "      <td>9.982</td>\n",
       "      <td>9.978</td>\n",
       "      <td>-0.022</td>\n",
       "      <td>9.980</td>\n",
       "      <td>51.200</td>\n",
       "      <td>3.8100</td>\n",
       "      <td>1.0</td>\n",
       "      <td>...</td>\n",
       "      <td>1.0</td>\n",
       "      <td>1.0</td>\n",
       "      <td>0.0</td>\n",
       "      <td>1.0</td>\n",
       "      <td>1.0</td>\n",
       "      <td>1.0</td>\n",
       "      <td>2020-02-01</td>\n",
       "      <td>False</td>\n",
       "      <td>0.002</td>\n",
       "      <td>NaN</td>\n",
       "    </tr>\n",
       "    <tr>\n",
       "      <th>4</th>\n",
       "      <td>4490</td>\n",
       "      <td>2020-02-01 01:14:10</td>\n",
       "      <td>-0.014</td>\n",
       "      <td>8.954</td>\n",
       "      <td>8.938</td>\n",
       "      <td>-0.024</td>\n",
       "      <td>8.956</td>\n",
       "      <td>52.525</td>\n",
       "      <td>0.0400</td>\n",
       "      <td>1.0</td>\n",
       "      <td>...</td>\n",
       "      <td>1.0</td>\n",
       "      <td>1.0</td>\n",
       "      <td>0.0</td>\n",
       "      <td>1.0</td>\n",
       "      <td>1.0</td>\n",
       "      <td>1.0</td>\n",
       "      <td>2020-02-01</td>\n",
       "      <td>False</td>\n",
       "      <td>0.002</td>\n",
       "      <td>NaN</td>\n",
       "    </tr>\n",
       "    <tr>\n",
       "      <th>5</th>\n",
       "      <td>5390</td>\n",
       "      <td>2020-02-01 01:29:02</td>\n",
       "      <td>-0.014</td>\n",
       "      <td>8.144</td>\n",
       "      <td>8.134</td>\n",
       "      <td>-0.024</td>\n",
       "      <td>8.146</td>\n",
       "      <td>49.800</td>\n",
       "      <td>0.0400</td>\n",
       "      <td>1.0</td>\n",
       "      <td>...</td>\n",
       "      <td>1.0</td>\n",
       "      <td>1.0</td>\n",
       "      <td>0.0</td>\n",
       "      <td>1.0</td>\n",
       "      <td>1.0</td>\n",
       "      <td>1.0</td>\n",
       "      <td>2020-02-01</td>\n",
       "      <td>False</td>\n",
       "      <td>0.002</td>\n",
       "      <td>51.625000</td>\n",
       "    </tr>\n",
       "    <tr>\n",
       "      <th>6</th>\n",
       "      <td>6290</td>\n",
       "      <td>2020-02-01 01:43:54</td>\n",
       "      <td>-0.012</td>\n",
       "      <td>9.184</td>\n",
       "      <td>9.170</td>\n",
       "      <td>-0.024</td>\n",
       "      <td>9.186</td>\n",
       "      <td>52.900</td>\n",
       "      <td>0.0375</td>\n",
       "      <td>1.0</td>\n",
       "      <td>...</td>\n",
       "      <td>1.0</td>\n",
       "      <td>1.0</td>\n",
       "      <td>0.0</td>\n",
       "      <td>1.0</td>\n",
       "      <td>1.0</td>\n",
       "      <td>1.0</td>\n",
       "      <td>2020-02-01</td>\n",
       "      <td>False</td>\n",
       "      <td>0.002</td>\n",
       "      <td>51.875000</td>\n",
       "    </tr>\n",
       "    <tr>\n",
       "      <th>7</th>\n",
       "      <td>7190</td>\n",
       "      <td>2020-02-01 01:58:46</td>\n",
       "      <td>-0.016</td>\n",
       "      <td>8.316</td>\n",
       "      <td>8.302</td>\n",
       "      <td>-0.024</td>\n",
       "      <td>8.316</td>\n",
       "      <td>50.525</td>\n",
       "      <td>0.0400</td>\n",
       "      <td>1.0</td>\n",
       "      <td>...</td>\n",
       "      <td>1.0</td>\n",
       "      <td>1.0</td>\n",
       "      <td>0.0</td>\n",
       "      <td>1.0</td>\n",
       "      <td>1.0</td>\n",
       "      <td>1.0</td>\n",
       "      <td>2020-02-01</td>\n",
       "      <td>False</td>\n",
       "      <td>0.000</td>\n",
       "      <td>51.508333</td>\n",
       "    </tr>\n",
       "    <tr>\n",
       "      <th>8</th>\n",
       "      <td>8090</td>\n",
       "      <td>2020-02-01 02:13:38</td>\n",
       "      <td>-0.012</td>\n",
       "      <td>9.426</td>\n",
       "      <td>9.412</td>\n",
       "      <td>-0.024</td>\n",
       "      <td>9.428</td>\n",
       "      <td>53.125</td>\n",
       "      <td>0.0400</td>\n",
       "      <td>1.0</td>\n",
       "      <td>...</td>\n",
       "      <td>1.0</td>\n",
       "      <td>1.0</td>\n",
       "      <td>0.0</td>\n",
       "      <td>1.0</td>\n",
       "      <td>1.0</td>\n",
       "      <td>1.0</td>\n",
       "      <td>2020-02-01</td>\n",
       "      <td>False</td>\n",
       "      <td>0.002</td>\n",
       "      <td>51.679167</td>\n",
       "    </tr>\n",
       "    <tr>\n",
       "      <th>9</th>\n",
       "      <td>8990</td>\n",
       "      <td>2020-02-01 02:28:30</td>\n",
       "      <td>-0.014</td>\n",
       "      <td>8.546</td>\n",
       "      <td>8.532</td>\n",
       "      <td>-0.022</td>\n",
       "      <td>8.548</td>\n",
       "      <td>51.200</td>\n",
       "      <td>0.0400</td>\n",
       "      <td>1.0</td>\n",
       "      <td>...</td>\n",
       "      <td>1.0</td>\n",
       "      <td>1.0</td>\n",
       "      <td>0.0</td>\n",
       "      <td>1.0</td>\n",
       "      <td>1.0</td>\n",
       "      <td>1.0</td>\n",
       "      <td>2020-02-01</td>\n",
       "      <td>False</td>\n",
       "      <td>0.002</td>\n",
       "      <td>51.679167</td>\n",
       "    </tr>\n",
       "    <tr>\n",
       "      <th>10</th>\n",
       "      <td>9890</td>\n",
       "      <td>2020-02-01 02:43:22</td>\n",
       "      <td>-0.012</td>\n",
       "      <td>9.674</td>\n",
       "      <td>9.656</td>\n",
       "      <td>-0.022</td>\n",
       "      <td>9.672</td>\n",
       "      <td>52.400</td>\n",
       "      <td>3.9975</td>\n",
       "      <td>1.0</td>\n",
       "      <td>...</td>\n",
       "      <td>1.0</td>\n",
       "      <td>1.0</td>\n",
       "      <td>0.0</td>\n",
       "      <td>1.0</td>\n",
       "      <td>1.0</td>\n",
       "      <td>1.0</td>\n",
       "      <td>2020-02-01</td>\n",
       "      <td>False</td>\n",
       "      <td>0.002</td>\n",
       "      <td>51.658333</td>\n",
       "    </tr>\n",
       "    <tr>\n",
       "      <th>11</th>\n",
       "      <td>10790</td>\n",
       "      <td>2020-02-01 02:58:14</td>\n",
       "      <td>-0.014</td>\n",
       "      <td>8.752</td>\n",
       "      <td>8.738</td>\n",
       "      <td>-0.024</td>\n",
       "      <td>8.754</td>\n",
       "      <td>51.725</td>\n",
       "      <td>0.0400</td>\n",
       "      <td>1.0</td>\n",
       "      <td>...</td>\n",
       "      <td>1.0</td>\n",
       "      <td>1.0</td>\n",
       "      <td>0.0</td>\n",
       "      <td>1.0</td>\n",
       "      <td>1.0</td>\n",
       "      <td>1.0</td>\n",
       "      <td>2020-02-01</td>\n",
       "      <td>False</td>\n",
       "      <td>0.002</td>\n",
       "      <td>51.979167</td>\n",
       "    </tr>\n",
       "    <tr>\n",
       "      <th>12</th>\n",
       "      <td>11690</td>\n",
       "      <td>2020-02-01 03:13:06</td>\n",
       "      <td>-0.022</td>\n",
       "      <td>9.982</td>\n",
       "      <td>9.976</td>\n",
       "      <td>-0.024</td>\n",
       "      <td>9.980</td>\n",
       "      <td>51.175</td>\n",
       "      <td>4.0900</td>\n",
       "      <td>1.0</td>\n",
       "      <td>...</td>\n",
       "      <td>1.0</td>\n",
       "      <td>1.0</td>\n",
       "      <td>0.0</td>\n",
       "      <td>1.0</td>\n",
       "      <td>1.0</td>\n",
       "      <td>1.0</td>\n",
       "      <td>2020-02-01</td>\n",
       "      <td>False</td>\n",
       "      <td>0.002</td>\n",
       "      <td>51.691667</td>\n",
       "    </tr>\n",
       "    <tr>\n",
       "      <th>13</th>\n",
       "      <td>12590</td>\n",
       "      <td>2020-02-01 03:27:58</td>\n",
       "      <td>-0.014</td>\n",
       "      <td>8.962</td>\n",
       "      <td>8.946</td>\n",
       "      <td>-0.024</td>\n",
       "      <td>8.962</td>\n",
       "      <td>52.225</td>\n",
       "      <td>0.0400</td>\n",
       "      <td>1.0</td>\n",
       "      <td>...</td>\n",
       "      <td>1.0</td>\n",
       "      <td>1.0</td>\n",
       "      <td>0.0</td>\n",
       "      <td>1.0</td>\n",
       "      <td>1.0</td>\n",
       "      <td>1.0</td>\n",
       "      <td>2020-02-01</td>\n",
       "      <td>False</td>\n",
       "      <td>0.000</td>\n",
       "      <td>51.975000</td>\n",
       "    </tr>\n",
       "    <tr>\n",
       "      <th>14</th>\n",
       "      <td>13490</td>\n",
       "      <td>2020-02-01 03:42:50</td>\n",
       "      <td>-0.014</td>\n",
       "      <td>8.150</td>\n",
       "      <td>8.138</td>\n",
       "      <td>-0.024</td>\n",
       "      <td>8.152</td>\n",
       "      <td>49.425</td>\n",
       "      <td>0.0400</td>\n",
       "      <td>1.0</td>\n",
       "      <td>...</td>\n",
       "      <td>1.0</td>\n",
       "      <td>1.0</td>\n",
       "      <td>0.0</td>\n",
       "      <td>1.0</td>\n",
       "      <td>1.0</td>\n",
       "      <td>1.0</td>\n",
       "      <td>2020-02-01</td>\n",
       "      <td>False</td>\n",
       "      <td>0.002</td>\n",
       "      <td>51.358333</td>\n",
       "    </tr>\n",
       "    <tr>\n",
       "      <th>15</th>\n",
       "      <td>14390</td>\n",
       "      <td>2020-02-01 03:57:42</td>\n",
       "      <td>-0.012</td>\n",
       "      <td>9.202</td>\n",
       "      <td>9.188</td>\n",
       "      <td>-0.024</td>\n",
       "      <td>9.204</td>\n",
       "      <td>52.525</td>\n",
       "      <td>0.0400</td>\n",
       "      <td>1.0</td>\n",
       "      <td>...</td>\n",
       "      <td>1.0</td>\n",
       "      <td>1.0</td>\n",
       "      <td>0.0</td>\n",
       "      <td>1.0</td>\n",
       "      <td>1.0</td>\n",
       "      <td>1.0</td>\n",
       "      <td>2020-02-01</td>\n",
       "      <td>False</td>\n",
       "      <td>0.002</td>\n",
       "      <td>51.579167</td>\n",
       "    </tr>\n",
       "    <tr>\n",
       "      <th>16</th>\n",
       "      <td>15290</td>\n",
       "      <td>2020-02-01 04:12:34</td>\n",
       "      <td>-0.012</td>\n",
       "      <td>8.126</td>\n",
       "      <td>8.112</td>\n",
       "      <td>-0.024</td>\n",
       "      <td>8.126</td>\n",
       "      <td>50.200</td>\n",
       "      <td>0.0375</td>\n",
       "      <td>1.0</td>\n",
       "      <td>...</td>\n",
       "      <td>1.0</td>\n",
       "      <td>1.0</td>\n",
       "      <td>0.0</td>\n",
       "      <td>1.0</td>\n",
       "      <td>1.0</td>\n",
       "      <td>1.0</td>\n",
       "      <td>2020-02-01</td>\n",
       "      <td>False</td>\n",
       "      <td>0.000</td>\n",
       "      <td>51.212500</td>\n",
       "    </tr>\n",
       "    <tr>\n",
       "      <th>17</th>\n",
       "      <td>16190</td>\n",
       "      <td>2020-02-01 04:27:26</td>\n",
       "      <td>-0.014</td>\n",
       "      <td>8.948</td>\n",
       "      <td>8.934</td>\n",
       "      <td>-0.022</td>\n",
       "      <td>8.950</td>\n",
       "      <td>53.200</td>\n",
       "      <td>0.0375</td>\n",
       "      <td>1.0</td>\n",
       "      <td>...</td>\n",
       "      <td>1.0</td>\n",
       "      <td>1.0</td>\n",
       "      <td>0.0</td>\n",
       "      <td>1.0</td>\n",
       "      <td>1.0</td>\n",
       "      <td>1.0</td>\n",
       "      <td>2020-02-01</td>\n",
       "      <td>False</td>\n",
       "      <td>0.002</td>\n",
       "      <td>51.458333</td>\n",
       "    </tr>\n",
       "    <tr>\n",
       "      <th>18</th>\n",
       "      <td>17090</td>\n",
       "      <td>2020-02-01 04:42:18</td>\n",
       "      <td>-0.016</td>\n",
       "      <td>8.120</td>\n",
       "      <td>8.108</td>\n",
       "      <td>-0.024</td>\n",
       "      <td>8.122</td>\n",
       "      <td>50.625</td>\n",
       "      <td>0.0375</td>\n",
       "      <td>1.0</td>\n",
       "      <td>...</td>\n",
       "      <td>1.0</td>\n",
       "      <td>1.0</td>\n",
       "      <td>0.0</td>\n",
       "      <td>1.0</td>\n",
       "      <td>1.0</td>\n",
       "      <td>1.0</td>\n",
       "      <td>2020-02-01</td>\n",
       "      <td>False</td>\n",
       "      <td>0.002</td>\n",
       "      <td>51.366667</td>\n",
       "    </tr>\n",
       "    <tr>\n",
       "      <th>19</th>\n",
       "      <td>17990</td>\n",
       "      <td>2020-02-01 04:57:10</td>\n",
       "      <td>-0.014</td>\n",
       "      <td>9.212</td>\n",
       "      <td>9.196</td>\n",
       "      <td>-0.024</td>\n",
       "      <td>9.214</td>\n",
       "      <td>53.000</td>\n",
       "      <td>0.0375</td>\n",
       "      <td>1.0</td>\n",
       "      <td>...</td>\n",
       "      <td>1.0</td>\n",
       "      <td>1.0</td>\n",
       "      <td>0.0</td>\n",
       "      <td>1.0</td>\n",
       "      <td>1.0</td>\n",
       "      <td>1.0</td>\n",
       "      <td>2020-02-01</td>\n",
       "      <td>False</td>\n",
       "      <td>0.002</td>\n",
       "      <td>51.495833</td>\n",
       "    </tr>\n",
       "  </tbody>\n",
       "</table>\n",
       "<p>20 rows × 21 columns</p>\n",
       "</div>"
      ],
      "text/plain": [
       "    Unnamed: 0           timestamp    TP2    TP3     H1  DV_pressure  \\\n",
       "0          890 2020-02-01 00:14:42 -0.014  8.494  8.480       -0.024   \n",
       "1         1790 2020-02-01 00:29:34 -0.012  9.640  9.624       -0.024   \n",
       "2         2690 2020-02-01 00:44:26 -0.014  8.732  8.716       -0.024   \n",
       "3         3590 2020-02-01 00:59:18 -0.022  9.982  9.978       -0.022   \n",
       "4         4490 2020-02-01 01:14:10 -0.014  8.954  8.938       -0.024   \n",
       "5         5390 2020-02-01 01:29:02 -0.014  8.144  8.134       -0.024   \n",
       "6         6290 2020-02-01 01:43:54 -0.012  9.184  9.170       -0.024   \n",
       "7         7190 2020-02-01 01:58:46 -0.016  8.316  8.302       -0.024   \n",
       "8         8090 2020-02-01 02:13:38 -0.012  9.426  9.412       -0.024   \n",
       "9         8990 2020-02-01 02:28:30 -0.014  8.546  8.532       -0.022   \n",
       "10        9890 2020-02-01 02:43:22 -0.012  9.674  9.656       -0.022   \n",
       "11       10790 2020-02-01 02:58:14 -0.014  8.752  8.738       -0.024   \n",
       "12       11690 2020-02-01 03:13:06 -0.022  9.982  9.976       -0.024   \n",
       "13       12590 2020-02-01 03:27:58 -0.014  8.962  8.946       -0.024   \n",
       "14       13490 2020-02-01 03:42:50 -0.014  8.150  8.138       -0.024   \n",
       "15       14390 2020-02-01 03:57:42 -0.012  9.202  9.188       -0.024   \n",
       "16       15290 2020-02-01 04:12:34 -0.012  8.126  8.112       -0.024   \n",
       "17       16190 2020-02-01 04:27:26 -0.014  8.948  8.934       -0.022   \n",
       "18       17090 2020-02-01 04:42:18 -0.016  8.120  8.108       -0.024   \n",
       "19       17990 2020-02-01 04:57:10 -0.014  9.212  9.196       -0.024   \n",
       "\n",
       "    Reservoirs  Oil_temperature  Motor_current  COMP  ...  Towers  MPG  LPS  \\\n",
       "0        8.496           51.400         0.0400   1.0  ...     1.0  1.0  0.0   \n",
       "1        9.640           52.725         3.7975   1.0  ...     1.0  1.0  0.0   \n",
       "2        8.732           52.100         0.0400   1.0  ...     1.0  1.0  0.0   \n",
       "3        9.980           51.200         3.8100   1.0  ...     1.0  1.0  0.0   \n",
       "4        8.956           52.525         0.0400   1.0  ...     1.0  1.0  0.0   \n",
       "5        8.146           49.800         0.0400   1.0  ...     1.0  1.0  0.0   \n",
       "6        9.186           52.900         0.0375   1.0  ...     1.0  1.0  0.0   \n",
       "7        8.316           50.525         0.0400   1.0  ...     1.0  1.0  0.0   \n",
       "8        9.428           53.125         0.0400   1.0  ...     1.0  1.0  0.0   \n",
       "9        8.548           51.200         0.0400   1.0  ...     1.0  1.0  0.0   \n",
       "10       9.672           52.400         3.9975   1.0  ...     1.0  1.0  0.0   \n",
       "11       8.754           51.725         0.0400   1.0  ...     1.0  1.0  0.0   \n",
       "12       9.980           51.175         4.0900   1.0  ...     1.0  1.0  0.0   \n",
       "13       8.962           52.225         0.0400   1.0  ...     1.0  1.0  0.0   \n",
       "14       8.152           49.425         0.0400   1.0  ...     1.0  1.0  0.0   \n",
       "15       9.204           52.525         0.0400   1.0  ...     1.0  1.0  0.0   \n",
       "16       8.126           50.200         0.0375   1.0  ...     1.0  1.0  0.0   \n",
       "17       8.950           53.200         0.0375   1.0  ...     1.0  1.0  0.0   \n",
       "18       8.122           50.625         0.0375   1.0  ...     1.0  1.0  0.0   \n",
       "19       9.214           53.000         0.0375   1.0  ...     1.0  1.0  0.0   \n",
       "\n",
       "    Pressure_switch  Oil_level  Caudal_impulses        date fail_state  \\\n",
       "0               1.0        1.0              1.0  2020-02-01      False   \n",
       "1               1.0        1.0              1.0  2020-02-01      False   \n",
       "2               1.0        1.0              1.0  2020-02-01      False   \n",
       "3               1.0        1.0              1.0  2020-02-01      False   \n",
       "4               1.0        1.0              1.0  2020-02-01      False   \n",
       "5               1.0        1.0              1.0  2020-02-01      False   \n",
       "6               1.0        1.0              1.0  2020-02-01      False   \n",
       "7               1.0        1.0              1.0  2020-02-01      False   \n",
       "8               1.0        1.0              1.0  2020-02-01      False   \n",
       "9               1.0        1.0              1.0  2020-02-01      False   \n",
       "10              1.0        1.0              1.0  2020-02-01      False   \n",
       "11              1.0        1.0              1.0  2020-02-01      False   \n",
       "12              1.0        1.0              1.0  2020-02-01      False   \n",
       "13              1.0        1.0              1.0  2020-02-01      False   \n",
       "14              1.0        1.0              1.0  2020-02-01      False   \n",
       "15              1.0        1.0              1.0  2020-02-01      False   \n",
       "16              1.0        1.0              1.0  2020-02-01      False   \n",
       "17              1.0        1.0              1.0  2020-02-01      False   \n",
       "18              1.0        1.0              1.0  2020-02-01      False   \n",
       "19              1.0        1.0              1.0  2020-02-01      False   \n",
       "\n",
       "    dif_panel_reservoir  oil_rolling  \n",
       "0                 0.002          NaN  \n",
       "1                 0.000          NaN  \n",
       "2                 0.000          NaN  \n",
       "3                 0.002          NaN  \n",
       "4                 0.002          NaN  \n",
       "5                 0.002    51.625000  \n",
       "6                 0.002    51.875000  \n",
       "7                 0.000    51.508333  \n",
       "8                 0.002    51.679167  \n",
       "9                 0.002    51.679167  \n",
       "10                0.002    51.658333  \n",
       "11                0.002    51.979167  \n",
       "12                0.002    51.691667  \n",
       "13                0.000    51.975000  \n",
       "14                0.002    51.358333  \n",
       "15                0.002    51.579167  \n",
       "16                0.000    51.212500  \n",
       "17                0.002    51.458333  \n",
       "18                0.002    51.366667  \n",
       "19                0.002    51.495833  \n",
       "\n",
       "[20 rows x 21 columns]"
      ]
     },
     "execution_count": 23,
     "metadata": {},
     "output_type": "execute_result"
    }
   ],
   "source": [
    "metro_df_large['oil_rolling'] = metro_df_large['Oil_temperature'].rolling(6).mean()\n",
    "metro_df_large.head(20)"
   ]
  },
  {
   "cell_type": "code",
   "execution_count": 24,
   "id": "2ac9003e",
   "metadata": {
    "execution": {
     "iopub.execute_input": "2023-10-25T21:42:29.873820Z",
     "iopub.status.busy": "2023-10-25T21:42:29.873403Z",
     "iopub.status.idle": "2023-10-25T21:42:29.880895Z",
     "shell.execute_reply": "2023-10-25T21:42:29.879633Z"
    },
    "papermill": {
     "duration": 0.031682,
     "end_time": "2023-10-25T21:42:29.883591",
     "exception": false,
     "start_time": "2023-10-25T21:42:29.851909",
     "status": "completed"
    },
    "tags": []
   },
   "outputs": [
    {
     "data": {
      "text/plain": [
       "'metro_df_clustering = metro_df_large.drop(metro_df_large.columns[[0,1]], axis=1)\\nmetro_df_clustering.info()'"
      ]
     },
     "execution_count": 24,
     "metadata": {},
     "output_type": "execute_result"
    }
   ],
   "source": [
    "\"\"\"metro_df_clustering = metro_df_large.drop(metro_df_large.columns[[0,1]], axis=1)\n",
    "metro_df_clustering.info()\"\"\""
   ]
  },
  {
   "cell_type": "code",
   "execution_count": 25,
   "id": "83646e39",
   "metadata": {
    "execution": {
     "iopub.execute_input": "2023-10-25T21:42:29.923968Z",
     "iopub.status.busy": "2023-10-25T21:42:29.923540Z",
     "iopub.status.idle": "2023-10-25T21:42:29.932312Z",
     "shell.execute_reply": "2023-10-25T21:42:29.930965Z"
    },
    "papermill": {
     "duration": 0.03263,
     "end_time": "2023-10-25T21:42:29.935161",
     "exception": false,
     "start_time": "2023-10-25T21:42:29.902531",
     "status": "completed"
    },
    "tags": []
   },
   "outputs": [
    {
     "data": {
      "text/plain": [
       "\"# Set up KMeans\\nkmeans = KMeans(n_clusters=4, n_init=10)\\n\\n# Fit the model to the data\\nkmeans.fit(metro_df_clustering)\\n\\n# Predict the clusters\\nmetro_df_large['cluster'] = kmeans.predict(metro_df_clustering)\""
      ]
     },
     "execution_count": 25,
     "metadata": {},
     "output_type": "execute_result"
    }
   ],
   "source": [
    "\"\"\"# Set up KMeans\n",
    "kmeans = KMeans(n_clusters=4, n_init=10)\n",
    "\n",
    "# Fit the model to the data\n",
    "kmeans.fit(metro_df_clustering)\n",
    "\n",
    "# Predict the clusters\n",
    "metro_df_large['cluster'] = kmeans.predict(metro_df_clustering)\"\"\""
   ]
  },
  {
   "cell_type": "code",
   "execution_count": 26,
   "id": "b90d41e6",
   "metadata": {
    "execution": {
     "iopub.execute_input": "2023-10-25T21:42:29.977356Z",
     "iopub.status.busy": "2023-10-25T21:42:29.976087Z",
     "iopub.status.idle": "2023-10-25T21:42:30.020823Z",
     "shell.execute_reply": "2023-10-25T21:42:30.019385Z"
    },
    "papermill": {
     "duration": 0.06944,
     "end_time": "2023-10-25T21:42:30.024016",
     "exception": false,
     "start_time": "2023-10-25T21:42:29.954576",
     "status": "completed"
    },
    "tags": []
   },
   "outputs": [
    {
     "data": {
      "text/html": [
       "<div>\n",
       "<style scoped>\n",
       "    .dataframe tbody tr th:only-of-type {\n",
       "        vertical-align: middle;\n",
       "    }\n",
       "\n",
       "    .dataframe tbody tr th {\n",
       "        vertical-align: top;\n",
       "    }\n",
       "\n",
       "    .dataframe thead th {\n",
       "        text-align: right;\n",
       "    }\n",
       "</style>\n",
       "<table border=\"1\" class=\"dataframe\">\n",
       "  <thead>\n",
       "    <tr style=\"text-align: right;\">\n",
       "      <th></th>\n",
       "      <th>Unnamed: 0</th>\n",
       "      <th>timestamp</th>\n",
       "      <th>TP2</th>\n",
       "      <th>TP3</th>\n",
       "      <th>H1</th>\n",
       "      <th>DV_pressure</th>\n",
       "      <th>Reservoirs</th>\n",
       "      <th>Oil_temperature</th>\n",
       "      <th>Motor_current</th>\n",
       "      <th>COMP</th>\n",
       "      <th>...</th>\n",
       "      <th>Towers</th>\n",
       "      <th>MPG</th>\n",
       "      <th>LPS</th>\n",
       "      <th>Pressure_switch</th>\n",
       "      <th>Oil_level</th>\n",
       "      <th>Caudal_impulses</th>\n",
       "      <th>date</th>\n",
       "      <th>fail_state</th>\n",
       "      <th>dif_panel_reservoir</th>\n",
       "      <th>oil_rolling</th>\n",
       "    </tr>\n",
       "  </thead>\n",
       "  <tbody>\n",
       "    <tr>\n",
       "      <th>0</th>\n",
       "      <td>890</td>\n",
       "      <td>2020-02-01 00:14:42</td>\n",
       "      <td>-0.014</td>\n",
       "      <td>8.494</td>\n",
       "      <td>8.480</td>\n",
       "      <td>-0.024</td>\n",
       "      <td>8.496</td>\n",
       "      <td>51.400</td>\n",
       "      <td>0.0400</td>\n",
       "      <td>1.0</td>\n",
       "      <td>...</td>\n",
       "      <td>1.0</td>\n",
       "      <td>1.0</td>\n",
       "      <td>0.0</td>\n",
       "      <td>1.0</td>\n",
       "      <td>1.0</td>\n",
       "      <td>1.0</td>\n",
       "      <td>2020-02-01</td>\n",
       "      <td>False</td>\n",
       "      <td>0.002</td>\n",
       "      <td>NaN</td>\n",
       "    </tr>\n",
       "    <tr>\n",
       "      <th>1</th>\n",
       "      <td>1790</td>\n",
       "      <td>2020-02-01 00:29:34</td>\n",
       "      <td>-0.012</td>\n",
       "      <td>9.640</td>\n",
       "      <td>9.624</td>\n",
       "      <td>-0.024</td>\n",
       "      <td>9.640</td>\n",
       "      <td>52.725</td>\n",
       "      <td>3.7975</td>\n",
       "      <td>1.0</td>\n",
       "      <td>...</td>\n",
       "      <td>1.0</td>\n",
       "      <td>1.0</td>\n",
       "      <td>0.0</td>\n",
       "      <td>1.0</td>\n",
       "      <td>1.0</td>\n",
       "      <td>1.0</td>\n",
       "      <td>2020-02-01</td>\n",
       "      <td>False</td>\n",
       "      <td>0.000</td>\n",
       "      <td>NaN</td>\n",
       "    </tr>\n",
       "    <tr>\n",
       "      <th>2</th>\n",
       "      <td>2690</td>\n",
       "      <td>2020-02-01 00:44:26</td>\n",
       "      <td>-0.014</td>\n",
       "      <td>8.732</td>\n",
       "      <td>8.716</td>\n",
       "      <td>-0.024</td>\n",
       "      <td>8.732</td>\n",
       "      <td>52.100</td>\n",
       "      <td>0.0400</td>\n",
       "      <td>1.0</td>\n",
       "      <td>...</td>\n",
       "      <td>1.0</td>\n",
       "      <td>1.0</td>\n",
       "      <td>0.0</td>\n",
       "      <td>1.0</td>\n",
       "      <td>1.0</td>\n",
       "      <td>1.0</td>\n",
       "      <td>2020-02-01</td>\n",
       "      <td>False</td>\n",
       "      <td>0.000</td>\n",
       "      <td>NaN</td>\n",
       "    </tr>\n",
       "    <tr>\n",
       "      <th>3</th>\n",
       "      <td>3590</td>\n",
       "      <td>2020-02-01 00:59:18</td>\n",
       "      <td>-0.022</td>\n",
       "      <td>9.982</td>\n",
       "      <td>9.978</td>\n",
       "      <td>-0.022</td>\n",
       "      <td>9.980</td>\n",
       "      <td>51.200</td>\n",
       "      <td>3.8100</td>\n",
       "      <td>1.0</td>\n",
       "      <td>...</td>\n",
       "      <td>1.0</td>\n",
       "      <td>1.0</td>\n",
       "      <td>0.0</td>\n",
       "      <td>1.0</td>\n",
       "      <td>1.0</td>\n",
       "      <td>1.0</td>\n",
       "      <td>2020-02-01</td>\n",
       "      <td>False</td>\n",
       "      <td>0.002</td>\n",
       "      <td>NaN</td>\n",
       "    </tr>\n",
       "    <tr>\n",
       "      <th>4</th>\n",
       "      <td>4490</td>\n",
       "      <td>2020-02-01 01:14:10</td>\n",
       "      <td>-0.014</td>\n",
       "      <td>8.954</td>\n",
       "      <td>8.938</td>\n",
       "      <td>-0.024</td>\n",
       "      <td>8.956</td>\n",
       "      <td>52.525</td>\n",
       "      <td>0.0400</td>\n",
       "      <td>1.0</td>\n",
       "      <td>...</td>\n",
       "      <td>1.0</td>\n",
       "      <td>1.0</td>\n",
       "      <td>0.0</td>\n",
       "      <td>1.0</td>\n",
       "      <td>1.0</td>\n",
       "      <td>1.0</td>\n",
       "      <td>2020-02-01</td>\n",
       "      <td>False</td>\n",
       "      <td>0.002</td>\n",
       "      <td>NaN</td>\n",
       "    </tr>\n",
       "  </tbody>\n",
       "</table>\n",
       "<p>5 rows × 21 columns</p>\n",
       "</div>"
      ],
      "text/plain": [
       "   Unnamed: 0           timestamp    TP2    TP3     H1  DV_pressure  \\\n",
       "0         890 2020-02-01 00:14:42 -0.014  8.494  8.480       -0.024   \n",
       "1        1790 2020-02-01 00:29:34 -0.012  9.640  9.624       -0.024   \n",
       "2        2690 2020-02-01 00:44:26 -0.014  8.732  8.716       -0.024   \n",
       "3        3590 2020-02-01 00:59:18 -0.022  9.982  9.978       -0.022   \n",
       "4        4490 2020-02-01 01:14:10 -0.014  8.954  8.938       -0.024   \n",
       "\n",
       "   Reservoirs  Oil_temperature  Motor_current  COMP  ...  Towers  MPG  LPS  \\\n",
       "0       8.496           51.400         0.0400   1.0  ...     1.0  1.0  0.0   \n",
       "1       9.640           52.725         3.7975   1.0  ...     1.0  1.0  0.0   \n",
       "2       8.732           52.100         0.0400   1.0  ...     1.0  1.0  0.0   \n",
       "3       9.980           51.200         3.8100   1.0  ...     1.0  1.0  0.0   \n",
       "4       8.956           52.525         0.0400   1.0  ...     1.0  1.0  0.0   \n",
       "\n",
       "   Pressure_switch  Oil_level  Caudal_impulses        date fail_state  \\\n",
       "0              1.0        1.0              1.0  2020-02-01      False   \n",
       "1              1.0        1.0              1.0  2020-02-01      False   \n",
       "2              1.0        1.0              1.0  2020-02-01      False   \n",
       "3              1.0        1.0              1.0  2020-02-01      False   \n",
       "4              1.0        1.0              1.0  2020-02-01      False   \n",
       "\n",
       "   dif_panel_reservoir  oil_rolling  \n",
       "0                0.002          NaN  \n",
       "1                0.000          NaN  \n",
       "2                0.000          NaN  \n",
       "3                0.002          NaN  \n",
       "4                0.002          NaN  \n",
       "\n",
       "[5 rows x 21 columns]"
      ]
     },
     "execution_count": 26,
     "metadata": {},
     "output_type": "execute_result"
    }
   ],
   "source": [
    "metro_df_large.head()"
   ]
  },
  {
   "cell_type": "code",
   "execution_count": 27,
   "id": "ceb629d0",
   "metadata": {
    "execution": {
     "iopub.execute_input": "2023-10-25T21:42:30.065298Z",
     "iopub.status.busy": "2023-10-25T21:42:30.064890Z",
     "iopub.status.idle": "2023-10-25T21:42:31.457187Z",
     "shell.execute_reply": "2023-10-25T21:42:31.455873Z"
    },
    "papermill": {
     "duration": 1.419268,
     "end_time": "2023-10-25T21:42:31.462268",
     "exception": false,
     "start_time": "2023-10-25T21:42:30.043000",
     "status": "completed"
    },
    "tags": []
   },
   "outputs": [
    {
     "data": {
      "image/png": "[encoded data removed]",
      "text/plain": [
       "<Figure size 1000x1200 with 1 Axes>"
      ]
     },
     "metadata": {},
     "output_type": "display_data"
    }
   ],
   "source": [
    "fig = plt.figure(figsize=(10,12))\n",
    "hm = metro_df_large.drop(columns=['Oil_level','Caudal_impulses'], axis=1).corr(numeric_only=True)\n",
    "sns.heatmap(hm, annot=True, fmt='.1f', cbar=False)\n",
    "plt.show()"
   ]
  },
  {
   "cell_type": "code",
   "execution_count": 28,
   "id": "182f3db5",
   "metadata": {
    "execution": {
     "iopub.execute_input": "2023-10-25T21:42:31.509488Z",
     "iopub.status.busy": "2023-10-25T21:42:31.508716Z",
     "iopub.status.idle": "2023-10-25T21:42:31.516855Z",
     "shell.execute_reply": "2023-10-25T21:42:31.515440Z"
    },
    "papermill": {
     "duration": 0.035196,
     "end_time": "2023-10-25T21:42:31.520011",
     "exception": false,
     "start_time": "2023-10-25T21:42:31.484815",
     "status": "completed"
    },
    "tags": []
   },
   "outputs": [
    {
     "data": {
      "text/plain": [
       "'cluster_0_df = metro_df_large[metro_df_large.cluster == 0].copy()\\ncluster_1_df = metro_df_large[metro_df_large.cluster == 1].copy()\\ncluster_2_df = metro_df_large[metro_df_large.cluster == 2].copy()\\ncluster_3_df = metro_df_large[metro_df_large.cluster == 3].copy()\\n\\n\\ncluster_0_df.head()'"
      ]
     },
     "execution_count": 28,
     "metadata": {},
     "output_type": "execute_result"
    }
   ],
   "source": [
    "\"\"\"cluster_0_df = metro_df_large[metro_df_large.cluster == 0].copy()\n",
    "cluster_1_df = metro_df_large[metro_df_large.cluster == 1].copy()\n",
    "cluster_2_df = metro_df_large[metro_df_large.cluster == 2].copy()\n",
    "cluster_3_df = metro_df_large[metro_df_large.cluster == 3].copy()\n",
    "\n",
    "\n",
    "cluster_0_df.head()\"\"\"\n"
   ]
  },
  {
   "cell_type": "code",
   "execution_count": 29,
   "id": "acb79b82",
   "metadata": {
    "execution": {
     "iopub.execute_input": "2023-10-25T21:42:31.565800Z",
     "iopub.status.busy": "2023-10-25T21:42:31.565392Z",
     "iopub.status.idle": "2023-10-25T21:42:31.570635Z",
     "shell.execute_reply": "2023-10-25T21:42:31.569344Z"
    },
    "papermill": {
     "duration": 0.030919,
     "end_time": "2023-10-25T21:42:31.573259",
     "exception": false,
     "start_time": "2023-10-25T21:42:31.542340",
     "status": "completed"
    },
    "tags": []
   },
   "outputs": [],
   "source": [
    "#cluster_0_df.describe()"
   ]
  },
  {
   "cell_type": "code",
   "execution_count": 30,
   "id": "8e73c706",
   "metadata": {
    "execution": {
     "iopub.execute_input": "2023-10-25T21:42:31.618815Z",
     "iopub.status.busy": "2023-10-25T21:42:31.618427Z",
     "iopub.status.idle": "2023-10-25T21:42:31.623801Z",
     "shell.execute_reply": "2023-10-25T21:42:31.622352Z"
    },
    "papermill": {
     "duration": 0.032148,
     "end_time": "2023-10-25T21:42:31.627097",
     "exception": false,
     "start_time": "2023-10-25T21:42:31.594949",
     "status": "completed"
    },
    "tags": []
   },
   "outputs": [],
   "source": [
    "#cluster_1_df.describe()"
   ]
  },
  {
   "cell_type": "code",
   "execution_count": 31,
   "id": "711afd32",
   "metadata": {
    "execution": {
     "iopub.execute_input": "2023-10-25T21:42:31.674001Z",
     "iopub.status.busy": "2023-10-25T21:42:31.673615Z",
     "iopub.status.idle": "2023-10-25T21:42:31.678798Z",
     "shell.execute_reply": "2023-10-25T21:42:31.677468Z"
    },
    "papermill": {
     "duration": 0.032689,
     "end_time": "2023-10-25T21:42:31.681609",
     "exception": false,
     "start_time": "2023-10-25T21:42:31.648920",
     "status": "completed"
    },
    "tags": []
   },
   "outputs": [],
   "source": [
    "#cluster_2_df.describe()"
   ]
  },
  {
   "cell_type": "code",
   "execution_count": 32,
   "id": "d81606b7",
   "metadata": {
    "execution": {
     "iopub.execute_input": "2023-10-25T21:42:31.725533Z",
     "iopub.status.busy": "2023-10-25T21:42:31.725100Z",
     "iopub.status.idle": "2023-10-25T21:42:31.732759Z",
     "shell.execute_reply": "2023-10-25T21:42:31.731776Z"
    },
    "papermill": {
     "duration": 0.032671,
     "end_time": "2023-10-25T21:42:31.735015",
     "exception": false,
     "start_time": "2023-10-25T21:42:31.702344",
     "status": "completed"
    },
    "tags": []
   },
   "outputs": [
    {
     "data": {
      "text/plain": [
       "\"fig = plt.figure(figsize=(10,12))\\nhm = cluster_0_df.drop(columns=['Oil_level','Caudal_impulses','LPS'],axis=1).corr(numeric_only=True)\\nsns.heatmap(hm, annot=True, fmt='.1f', cbar=False)\\nplt.show()\""
      ]
     },
     "execution_count": 32,
     "metadata": {},
     "output_type": "execute_result"
    }
   ],
   "source": [
    "# Using the pandas dataframe correlation matrix to create a heatmap of pairwise correlations\n",
    "\"\"\"fig = plt.figure(figsize=(10,12))\n",
    "hm = cluster_0_df.drop(columns=['Oil_level','Caudal_impulses','LPS'],axis=1).corr(numeric_only=True)\n",
    "sns.heatmap(hm, annot=True, fmt='.1f', cbar=False)\n",
    "plt.show()\"\"\""
   ]
  },
  {
   "cell_type": "markdown",
   "id": "994dd513",
   "metadata": {
    "papermill": {
     "duration": 0.02069,
     "end_time": "2023-10-25T21:42:31.777122",
     "exception": false,
     "start_time": "2023-10-25T21:42:31.756432",
     "status": "completed"
    },
    "tags": []
   },
   "source": [
    "Feature extraction:\n",
    "* rolling averages of features\n",
    "* frequency of n percentile measurements (high stress / temp / motor current)\n",
    "* "
   ]
  }
 ],
 "metadata": {
  "kernelspec": {
   "display_name": "Python 3",
   "language": "python",
   "name": "python3"
  },
  "language_info": {
   "codemirror_mode": {
    "name": "ipython",
    "version": 3
   },
   "file_extension": ".py",
   "mimetype": "text/x-python",
   "name": "python",
   "nbconvert_exporter": "python",
   "pygments_lexer": "ipython3",
   "version": "3.10.10"
  },
  "papermill": {
   "default_parameters": {},
   "duration": 28.774411,
   "end_time": "2023-10-25T21:42:32.921686",
   "environment_variables": {},
   "exception": null,
   "input_path": "__notebook__.ipynb",
   "output_path": "__notebook__.ipynb",
   "parameters": {},
   "start_time": "2023-10-25T21:42:04.147275",
   "version": "2.4.0"
  }
 },
 "nbformat": 4,
 "nbformat_minor": 5
}
