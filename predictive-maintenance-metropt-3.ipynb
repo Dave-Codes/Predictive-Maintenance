{
 "cells": [
  {
   "cell_type": "code",
   "execution_count": 1,
   "id": "78789f14",
   "metadata": {
    "_cell_guid": "b1076dfc-b9ad-4769-8c92-a6c4dae69d19",
    "_uuid": "8f2839f25d086af736a60e9eeb907d3b93b6e0e5",
    "execution": {
     "iopub.execute_input": "2023-10-24T16:57:34.557587Z",
     "iopub.status.busy": "2023-10-24T16:57:34.557148Z",
     "iopub.status.idle": "2023-10-24T16:57:37.673656Z",
     "shell.execute_reply": "2023-10-24T16:57:37.672387Z"
    },
    "papermill": {
     "duration": 3.136323,
     "end_time": "2023-10-24T16:57:37.676560",
     "exception": false,
     "start_time": "2023-10-24T16:57:34.540237",
     "status": "completed"
    },
    "tags": []
   },
   "outputs": [],
   "source": [
    "from sklearn.cluster import KMeans\n",
    "import numpy as np \n",
    "import pandas as pd \n",
    "\n",
    "import plotly.express as px\n",
    "import seaborn as sns\n",
    "import matplotlib.pyplot as plt\n",
    "from mpl_toolkits.mplot3d import Axes3D\n",
    "\n",
    "import os\n"
   ]
  },
  {
   "cell_type": "markdown",
   "id": "6c954cbe",
   "metadata": {
    "papermill": {
     "duration": 0.010914,
     "end_time": "2023-10-24T16:57:37.699553",
     "exception": false,
     "start_time": "2023-10-24T16:57:37.688639",
     "status": "completed"
    },
    "tags": []
   },
   "source": [
    "# Predicting machine failure with data from an air compressor on a MetroPT3 locomotive "
   ]
  },
  {
   "cell_type": "code",
   "execution_count": 2,
   "id": "9b0ef566",
   "metadata": {
    "execution": {
     "iopub.execute_input": "2023-10-24T16:57:37.724166Z",
     "iopub.status.busy": "2023-10-24T16:57:37.723772Z",
     "iopub.status.idle": "2023-10-24T16:57:41.744816Z",
     "shell.execute_reply": "2023-10-24T16:57:41.743705Z"
    },
    "papermill": {
     "duration": 4.037318,
     "end_time": "2023-10-24T16:57:41.748040",
     "exception": false,
     "start_time": "2023-10-24T16:57:37.710722",
     "status": "completed"
    },
    "tags": []
   },
   "outputs": [
    {
     "data": {
      "text/html": [
       "<div>\n",
       "<style scoped>\n",
       "    .dataframe tbody tr th:only-of-type {\n",
       "        vertical-align: middle;\n",
       "    }\n",
       "\n",
       "    .dataframe tbody tr th {\n",
       "        vertical-align: top;\n",
       "    }\n",
       "\n",
       "    .dataframe thead th {\n",
       "        text-align: right;\n",
       "    }\n",
       "</style>\n",
       "<table border=\"1\" class=\"dataframe\">\n",
       "  <thead>\n",
       "    <tr style=\"text-align: right;\">\n",
       "      <th></th>\n",
       "      <th>Unnamed: 0</th>\n",
       "      <th>timestamp</th>\n",
       "      <th>TP2</th>\n",
       "      <th>TP3</th>\n",
       "      <th>H1</th>\n",
       "      <th>DV_pressure</th>\n",
       "      <th>Reservoirs</th>\n",
       "      <th>Oil_temperature</th>\n",
       "      <th>Motor_current</th>\n",
       "      <th>COMP</th>\n",
       "      <th>DV_eletric</th>\n",
       "      <th>Towers</th>\n",
       "      <th>MPG</th>\n",
       "      <th>LPS</th>\n",
       "      <th>Pressure_switch</th>\n",
       "      <th>Oil_level</th>\n",
       "      <th>Caudal_impulses</th>\n",
       "    </tr>\n",
       "  </thead>\n",
       "  <tbody>\n",
       "    <tr>\n",
       "      <th>0</th>\n",
       "      <td>0</td>\n",
       "      <td>2020-02-01 00:00:00</td>\n",
       "      <td>-0.012</td>\n",
       "      <td>9.358</td>\n",
       "      <td>9.340</td>\n",
       "      <td>-0.024</td>\n",
       "      <td>9.358</td>\n",
       "      <td>53.600</td>\n",
       "      <td>0.0400</td>\n",
       "      <td>1.0</td>\n",
       "      <td>0.0</td>\n",
       "      <td>1.0</td>\n",
       "      <td>1.0</td>\n",
       "      <td>0.0</td>\n",
       "      <td>1.0</td>\n",
       "      <td>1.0</td>\n",
       "      <td>1.0</td>\n",
       "    </tr>\n",
       "    <tr>\n",
       "      <th>1</th>\n",
       "      <td>10</td>\n",
       "      <td>2020-02-01 00:00:10</td>\n",
       "      <td>-0.014</td>\n",
       "      <td>9.348</td>\n",
       "      <td>9.332</td>\n",
       "      <td>-0.022</td>\n",
       "      <td>9.348</td>\n",
       "      <td>53.675</td>\n",
       "      <td>0.0400</td>\n",
       "      <td>1.0</td>\n",
       "      <td>0.0</td>\n",
       "      <td>1.0</td>\n",
       "      <td>1.0</td>\n",
       "      <td>0.0</td>\n",
       "      <td>1.0</td>\n",
       "      <td>1.0</td>\n",
       "      <td>1.0</td>\n",
       "    </tr>\n",
       "    <tr>\n",
       "      <th>2</th>\n",
       "      <td>20</td>\n",
       "      <td>2020-02-01 00:00:19</td>\n",
       "      <td>-0.012</td>\n",
       "      <td>9.338</td>\n",
       "      <td>9.322</td>\n",
       "      <td>-0.022</td>\n",
       "      <td>9.338</td>\n",
       "      <td>53.600</td>\n",
       "      <td>0.0425</td>\n",
       "      <td>1.0</td>\n",
       "      <td>0.0</td>\n",
       "      <td>1.0</td>\n",
       "      <td>1.0</td>\n",
       "      <td>0.0</td>\n",
       "      <td>1.0</td>\n",
       "      <td>1.0</td>\n",
       "      <td>1.0</td>\n",
       "    </tr>\n",
       "    <tr>\n",
       "      <th>3</th>\n",
       "      <td>30</td>\n",
       "      <td>2020-02-01 00:00:29</td>\n",
       "      <td>-0.012</td>\n",
       "      <td>9.328</td>\n",
       "      <td>9.312</td>\n",
       "      <td>-0.022</td>\n",
       "      <td>9.328</td>\n",
       "      <td>53.425</td>\n",
       "      <td>0.0400</td>\n",
       "      <td>1.0</td>\n",
       "      <td>0.0</td>\n",
       "      <td>1.0</td>\n",
       "      <td>1.0</td>\n",
       "      <td>0.0</td>\n",
       "      <td>1.0</td>\n",
       "      <td>1.0</td>\n",
       "      <td>1.0</td>\n",
       "    </tr>\n",
       "    <tr>\n",
       "      <th>4</th>\n",
       "      <td>40</td>\n",
       "      <td>2020-02-01 00:00:39</td>\n",
       "      <td>-0.012</td>\n",
       "      <td>9.318</td>\n",
       "      <td>9.302</td>\n",
       "      <td>-0.022</td>\n",
       "      <td>9.318</td>\n",
       "      <td>53.475</td>\n",
       "      <td>0.0400</td>\n",
       "      <td>1.0</td>\n",
       "      <td>0.0</td>\n",
       "      <td>1.0</td>\n",
       "      <td>1.0</td>\n",
       "      <td>0.0</td>\n",
       "      <td>1.0</td>\n",
       "      <td>1.0</td>\n",
       "      <td>1.0</td>\n",
       "    </tr>\n",
       "  </tbody>\n",
       "</table>\n",
       "</div>"
      ],
      "text/plain": [
       "   Unnamed: 0            timestamp    TP2    TP3     H1  DV_pressure  \\\n",
       "0           0  2020-02-01 00:00:00 -0.012  9.358  9.340       -0.024   \n",
       "1          10  2020-02-01 00:00:10 -0.014  9.348  9.332       -0.022   \n",
       "2          20  2020-02-01 00:00:19 -0.012  9.338  9.322       -0.022   \n",
       "3          30  2020-02-01 00:00:29 -0.012  9.328  9.312       -0.022   \n",
       "4          40  2020-02-01 00:00:39 -0.012  9.318  9.302       -0.022   \n",
       "\n",
       "   Reservoirs  Oil_temperature  Motor_current  COMP  DV_eletric  Towers  MPG  \\\n",
       "0       9.358           53.600         0.0400   1.0         0.0     1.0  1.0   \n",
       "1       9.348           53.675         0.0400   1.0         0.0     1.0  1.0   \n",
       "2       9.338           53.600         0.0425   1.0         0.0     1.0  1.0   \n",
       "3       9.328           53.425         0.0400   1.0         0.0     1.0  1.0   \n",
       "4       9.318           53.475         0.0400   1.0         0.0     1.0  1.0   \n",
       "\n",
       "   LPS  Pressure_switch  Oil_level  Caudal_impulses  \n",
       "0  0.0              1.0        1.0              1.0  \n",
       "1  0.0              1.0        1.0              1.0  \n",
       "2  0.0              1.0        1.0              1.0  \n",
       "3  0.0              1.0        1.0              1.0  \n",
       "4  0.0              1.0        1.0              1.0  "
      ]
     },
     "execution_count": 2,
     "metadata": {},
     "output_type": "execute_result"
    }
   ],
   "source": [
    "# Reading in MetroPT3 Air Compressor data\n",
    "metro_df_large = pd.read_csv('/kaggle/input/metropt-3-dataset/MetroPT3(AirCompressor).csv', nrows=800000)\n",
    "metro_df_large.head()"
   ]
  },
  {
   "cell_type": "markdown",
   "id": "98fdea10",
   "metadata": {
    "papermill": {
     "duration": 0.01138,
     "end_time": "2023-10-24T16:57:41.771283",
     "exception": false,
     "start_time": "2023-10-24T16:57:41.759903",
     "status": "completed"
    },
    "tags": []
   },
   "source": [
    "Attribute Information:\n",
    "The dataset consists of 15169480 data points collected at 1Hz  from February to August 2020 and is described by 15 features from 7 analogue (1-7) and 8 digital (8-15) sensors:\n",
    "1. TP2 (bar) – the measure of the pressure on the compressor.\n",
    "2. TP3 (bar) – the measure of the pressure generated at the pneumatic panel.\n",
    "3. H1 (bar) – the measure of the pressure generated due to pressure drop when the discharge of the cyclonic separator filter occurs.\n",
    "4. DV pressure (bar) – the measure of the pressure drop generated when the towers discharge air dryers; a zero reading indicates that the compressor is operating under load.\n",
    "5. Reservoirs (bar) – the measure of the downstream pressure of the reservoirs, which should be close to the pneumatic panel pressure (TP3).\n",
    "6. Motor Current (A) –  the measure of the current of one phase of the three-phase motor; it presents values close to 0A - when it turns off, 4A - when working offloaded, 7A - when working under load, and 9A - when it starts working.\n",
    "7. Oil Temperature (ºC) –  the measure of the oil temperature on the compressor.\n",
    "8. COMP - the electrical signal of the air intake valve on the compressor; it is active when there is no air intake, indicating that the compressor is either turned off or operating in an offloaded state.\n",
    "9. DV electric – the electrical signal that controls the compressor outlet valve; it is active when the compressor is functioning under load and inactive when the compressor is either off or operating in an offloaded state.\n",
    "10. TOWERS – the electrical signal that defines the tower responsible for drying the air and the tower responsible for draining the humidity removed from the air; when not active, it indicates that tower one is functioning; when active, it indicates that tower two is in operation.\n",
    "11. MPG – the electrical signal responsible for starting the compressor under load by activating the intake valve when the pressure in the air production unit (APU) falls below 8.2 bar; it activates the COMP sensor, which assumes the same behaviour as the MPG sensor.\n",
    "12. LPS – the electrical signal that detects and activates when the pressure drops below 7 bars.\n",
    "13. Pressure Switch - the electrical signal that detects the discharge in the air-drying towers.\n",
    "14. Oil Level – the electrical signal that detects the oil level on the compressor; it is active when the oil is below the expected values.\n",
    "15. Caudal Impulse – the electrical signal that counts the pulse outputs generated by the absolute amount of air flowing from the APU to the reservoirs."
   ]
  },
  {
   "cell_type": "code",
   "execution_count": null,
   "id": "d180f0f2",
   "metadata": {
    "papermill": {
     "duration": 0.011296,
     "end_time": "2023-10-24T16:57:41.794746",
     "exception": false,
     "start_time": "2023-10-24T16:57:41.783450",
     "status": "completed"
    },
    "tags": []
   },
   "outputs": [],
   "source": []
  },
  {
   "cell_type": "markdown",
   "id": "c68f4a5e",
   "metadata": {
    "papermill": {
     "duration": 0.011273,
     "end_time": "2023-10-24T16:57:41.817758",
     "exception": false,
     "start_time": "2023-10-24T16:57:41.806485",
     "status": "completed"
    },
    "tags": []
   },
   "source": [
    "Failure Information:\n",
    "\n",
    "The dataset is unlabeled, but the failure reports provided by the company are available in the following table. This allows for evaluating the effectiveness of anomaly detection, failure prediction, and RUL estimation algorithms.\n",
    "\n",
    "  Nr.     Start Time\t          End Time\t                 Failure\t      Severity\t         Report\n",
    "* #1 \t4/18/2020 0:00\t   4/18/2020 23:59       Air leak\t    High stress\t\n",
    "* #1 \t5/29/2020 23:30     5/30/2020 6:00\t    Air Leak\t    High stress\tMaintenance on 30Apr at 12:00\n",
    "* #3 \t6/5/2020 10:00\t   6/7/2020 14:30\t        Air Leak\t    High stress\tMaintenance on 8Jun at 16:00\n",
    "* #4 \t7/15/2020 14:30     7/15/2020 19:00      Air Leak\t    High stress\tMaintenance on 16Jul at 00:00"
   ]
  },
  {
   "cell_type": "markdown",
   "id": "868dfff3",
   "metadata": {
    "papermill": {
     "duration": 0.011238,
     "end_time": "2023-10-24T16:57:41.840680",
     "exception": false,
     "start_time": "2023-10-24T16:57:41.829442",
     "status": "completed"
    },
    "tags": []
   },
   "source": [
    "# Exploratory Data Analysis"
   ]
  },
  {
   "cell_type": "code",
   "execution_count": 3,
   "id": "b9008084",
   "metadata": {
    "execution": {
     "iopub.execute_input": "2023-10-24T16:57:41.866187Z",
     "iopub.status.busy": "2023-10-24T16:57:41.865225Z",
     "iopub.status.idle": "2023-10-24T16:57:42.381002Z",
     "shell.execute_reply": "2023-10-24T16:57:42.380208Z"
    },
    "papermill": {
     "duration": 0.533368,
     "end_time": "2023-10-24T16:57:42.385696",
     "exception": false,
     "start_time": "2023-10-24T16:57:41.852328",
     "status": "completed"
    },
    "tags": []
   },
   "outputs": [
    {
     "data": {
      "text/html": [
       "<div>\n",
       "<style scoped>\n",
       "    .dataframe tbody tr th:only-of-type {\n",
       "        vertical-align: middle;\n",
       "    }\n",
       "\n",
       "    .dataframe tbody tr th {\n",
       "        vertical-align: top;\n",
       "    }\n",
       "\n",
       "    .dataframe thead th {\n",
       "        text-align: right;\n",
       "    }\n",
       "</style>\n",
       "<table border=\"1\" class=\"dataframe\">\n",
       "  <thead>\n",
       "    <tr style=\"text-align: right;\">\n",
       "      <th></th>\n",
       "      <th>Unnamed: 0</th>\n",
       "      <th>TP2</th>\n",
       "      <th>TP3</th>\n",
       "      <th>H1</th>\n",
       "      <th>DV_pressure</th>\n",
       "      <th>Reservoirs</th>\n",
       "      <th>Oil_temperature</th>\n",
       "      <th>Motor_current</th>\n",
       "      <th>COMP</th>\n",
       "      <th>DV_eletric</th>\n",
       "      <th>Towers</th>\n",
       "      <th>MPG</th>\n",
       "      <th>LPS</th>\n",
       "      <th>Pressure_switch</th>\n",
       "      <th>Oil_level</th>\n",
       "      <th>Caudal_impulses</th>\n",
       "    </tr>\n",
       "  </thead>\n",
       "  <tbody>\n",
       "    <tr>\n",
       "      <th>count</th>\n",
       "      <td>8.000000e+05</td>\n",
       "      <td>800000.000000</td>\n",
       "      <td>800000.000000</td>\n",
       "      <td>800000.000000</td>\n",
       "      <td>800000.000000</td>\n",
       "      <td>800000.000000</td>\n",
       "      <td>800000.000000</td>\n",
       "      <td>800000.000000</td>\n",
       "      <td>800000.000000</td>\n",
       "      <td>800000.000000</td>\n",
       "      <td>800000.000000</td>\n",
       "      <td>800000.000000</td>\n",
       "      <td>800000.000000</td>\n",
       "      <td>800000.000000</td>\n",
       "      <td>800000.000000</td>\n",
       "      <td>800000.000000</td>\n",
       "    </tr>\n",
       "    <tr>\n",
       "      <th>mean</th>\n",
       "      <td>3.999995e+06</td>\n",
       "      <td>1.192943</td>\n",
       "      <td>8.995399</td>\n",
       "      <td>7.751015</td>\n",
       "      <td>0.064258</td>\n",
       "      <td>8.995997</td>\n",
       "      <td>59.635177</td>\n",
       "      <td>1.793983</td>\n",
       "      <td>0.859026</td>\n",
       "      <td>0.144473</td>\n",
       "      <td>0.927979</td>\n",
       "      <td>0.852770</td>\n",
       "      <td>0.001953</td>\n",
       "      <td>0.995311</td>\n",
       "      <td>0.989977</td>\n",
       "      <td>0.892630</td>\n",
       "    </tr>\n",
       "    <tr>\n",
       "      <th>std</th>\n",
       "      <td>2.309403e+06</td>\n",
       "      <td>3.074289</td>\n",
       "      <td>0.621661</td>\n",
       "      <td>3.152662</td>\n",
       "      <td>0.388341</td>\n",
       "      <td>0.620939</td>\n",
       "      <td>6.456961</td>\n",
       "      <td>2.260162</td>\n",
       "      <td>0.347995</td>\n",
       "      <td>0.351568</td>\n",
       "      <td>0.258523</td>\n",
       "      <td>0.354335</td>\n",
       "      <td>0.044144</td>\n",
       "      <td>0.068314</td>\n",
       "      <td>0.099610</td>\n",
       "      <td>0.309583</td>\n",
       "    </tr>\n",
       "    <tr>\n",
       "      <th>min</th>\n",
       "      <td>0.000000e+00</td>\n",
       "      <td>-0.032000</td>\n",
       "      <td>0.730000</td>\n",
       "      <td>-0.034000</td>\n",
       "      <td>-0.032000</td>\n",
       "      <td>0.712000</td>\n",
       "      <td>15.400000</td>\n",
       "      <td>0.020000</td>\n",
       "      <td>0.000000</td>\n",
       "      <td>0.000000</td>\n",
       "      <td>0.000000</td>\n",
       "      <td>0.000000</td>\n",
       "      <td>0.000000</td>\n",
       "      <td>0.000000</td>\n",
       "      <td>0.000000</td>\n",
       "      <td>0.000000</td>\n",
       "    </tr>\n",
       "    <tr>\n",
       "      <th>25%</th>\n",
       "      <td>1.999998e+06</td>\n",
       "      <td>-0.014000</td>\n",
       "      <td>8.506000</td>\n",
       "      <td>8.290000</td>\n",
       "      <td>-0.024000</td>\n",
       "      <td>8.508000</td>\n",
       "      <td>55.300000</td>\n",
       "      <td>0.040000</td>\n",
       "      <td>1.000000</td>\n",
       "      <td>0.000000</td>\n",
       "      <td>1.000000</td>\n",
       "      <td>1.000000</td>\n",
       "      <td>0.000000</td>\n",
       "      <td>1.000000</td>\n",
       "      <td>1.000000</td>\n",
       "      <td>1.000000</td>\n",
       "    </tr>\n",
       "    <tr>\n",
       "      <th>50%</th>\n",
       "      <td>3.999995e+06</td>\n",
       "      <td>-0.012000</td>\n",
       "      <td>8.974000</td>\n",
       "      <td>8.816000</td>\n",
       "      <td>-0.022000</td>\n",
       "      <td>8.976000</td>\n",
       "      <td>58.350000</td>\n",
       "      <td>0.042500</td>\n",
       "      <td>1.000000</td>\n",
       "      <td>0.000000</td>\n",
       "      <td>1.000000</td>\n",
       "      <td>1.000000</td>\n",
       "      <td>0.000000</td>\n",
       "      <td>1.000000</td>\n",
       "      <td>1.000000</td>\n",
       "      <td>1.000000</td>\n",
       "    </tr>\n",
       "    <tr>\n",
       "      <th>75%</th>\n",
       "      <td>5.999992e+06</td>\n",
       "      <td>-0.010000</td>\n",
       "      <td>9.494000</td>\n",
       "      <td>9.386000</td>\n",
       "      <td>-0.018000</td>\n",
       "      <td>9.494000</td>\n",
       "      <td>63.525000</td>\n",
       "      <td>3.805000</td>\n",
       "      <td>1.000000</td>\n",
       "      <td>0.000000</td>\n",
       "      <td>1.000000</td>\n",
       "      <td>1.000000</td>\n",
       "      <td>0.000000</td>\n",
       "      <td>1.000000</td>\n",
       "      <td>1.000000</td>\n",
       "      <td>1.000000</td>\n",
       "    </tr>\n",
       "    <tr>\n",
       "      <th>max</th>\n",
       "      <td>7.999990e+06</td>\n",
       "      <td>10.676000</td>\n",
       "      <td>10.302000</td>\n",
       "      <td>10.288000</td>\n",
       "      <td>9.844000</td>\n",
       "      <td>10.300000</td>\n",
       "      <td>83.125000</td>\n",
       "      <td>9.295000</td>\n",
       "      <td>1.000000</td>\n",
       "      <td>1.000000</td>\n",
       "      <td>1.000000</td>\n",
       "      <td>1.000000</td>\n",
       "      <td>1.000000</td>\n",
       "      <td>1.000000</td>\n",
       "      <td>1.000000</td>\n",
       "      <td>1.000000</td>\n",
       "    </tr>\n",
       "  </tbody>\n",
       "</table>\n",
       "</div>"
      ],
      "text/plain": [
       "         Unnamed: 0            TP2            TP3             H1  \\\n",
       "count  8.000000e+05  800000.000000  800000.000000  800000.000000   \n",
       "mean   3.999995e+06       1.192943       8.995399       7.751015   \n",
       "std    2.309403e+06       3.074289       0.621661       3.152662   \n",
       "min    0.000000e+00      -0.032000       0.730000      -0.034000   \n",
       "25%    1.999998e+06      -0.014000       8.506000       8.290000   \n",
       "50%    3.999995e+06      -0.012000       8.974000       8.816000   \n",
       "75%    5.999992e+06      -0.010000       9.494000       9.386000   \n",
       "max    7.999990e+06      10.676000      10.302000      10.288000   \n",
       "\n",
       "         DV_pressure     Reservoirs  Oil_temperature  Motor_current  \\\n",
       "count  800000.000000  800000.000000    800000.000000  800000.000000   \n",
       "mean        0.064258       8.995997        59.635177       1.793983   \n",
       "std         0.388341       0.620939         6.456961       2.260162   \n",
       "min        -0.032000       0.712000        15.400000       0.020000   \n",
       "25%        -0.024000       8.508000        55.300000       0.040000   \n",
       "50%        -0.022000       8.976000        58.350000       0.042500   \n",
       "75%        -0.018000       9.494000        63.525000       3.805000   \n",
       "max         9.844000      10.300000        83.125000       9.295000   \n",
       "\n",
       "                COMP     DV_eletric         Towers            MPG  \\\n",
       "count  800000.000000  800000.000000  800000.000000  800000.000000   \n",
       "mean        0.859026       0.144473       0.927979       0.852770   \n",
       "std         0.347995       0.351568       0.258523       0.354335   \n",
       "min         0.000000       0.000000       0.000000       0.000000   \n",
       "25%         1.000000       0.000000       1.000000       1.000000   \n",
       "50%         1.000000       0.000000       1.000000       1.000000   \n",
       "75%         1.000000       0.000000       1.000000       1.000000   \n",
       "max         1.000000       1.000000       1.000000       1.000000   \n",
       "\n",
       "                 LPS  Pressure_switch      Oil_level  Caudal_impulses  \n",
       "count  800000.000000    800000.000000  800000.000000    800000.000000  \n",
       "mean        0.001953         0.995311       0.989977         0.892630  \n",
       "std         0.044144         0.068314       0.099610         0.309583  \n",
       "min         0.000000         0.000000       0.000000         0.000000  \n",
       "25%         0.000000         1.000000       1.000000         1.000000  \n",
       "50%         0.000000         1.000000       1.000000         1.000000  \n",
       "75%         0.000000         1.000000       1.000000         1.000000  \n",
       "max         1.000000         1.000000       1.000000         1.000000  "
      ]
     },
     "execution_count": 3,
     "metadata": {},
     "output_type": "execute_result"
    }
   ],
   "source": [
    "# Summary statistics of the numeric features\n",
    "metro_df_large.describe()"
   ]
  },
  {
   "cell_type": "code",
   "execution_count": 4,
   "id": "b39b155a",
   "metadata": {
    "execution": {
     "iopub.execute_input": "2023-10-24T16:57:42.413674Z",
     "iopub.status.busy": "2023-10-24T16:57:42.413007Z",
     "iopub.status.idle": "2023-10-24T16:57:42.713630Z",
     "shell.execute_reply": "2023-10-24T16:57:42.712313Z"
    },
    "papermill": {
     "duration": 0.317367,
     "end_time": "2023-10-24T16:57:42.716545",
     "exception": false,
     "start_time": "2023-10-24T16:57:42.399178",
     "status": "completed"
    },
    "tags": []
   },
   "outputs": [
    {
     "name": "stdout",
     "output_type": "stream",
     "text": [
      "<class 'pandas.core.frame.DataFrame'>\n",
      "RangeIndex: 800000 entries, 0 to 799999\n",
      "Data columns (total 17 columns):\n",
      " #   Column           Non-Null Count   Dtype  \n",
      "---  ------           --------------   -----  \n",
      " 0   Unnamed: 0       800000 non-null  int64  \n",
      " 1   timestamp        800000 non-null  object \n",
      " 2   TP2              800000 non-null  float64\n",
      " 3   TP3              800000 non-null  float64\n",
      " 4   H1               800000 non-null  float64\n",
      " 5   DV_pressure      800000 non-null  float64\n",
      " 6   Reservoirs       800000 non-null  float64\n",
      " 7   Oil_temperature  800000 non-null  float64\n",
      " 8   Motor_current    800000 non-null  float64\n",
      " 9   COMP             800000 non-null  float64\n",
      " 10  DV_eletric       800000 non-null  float64\n",
      " 11  Towers           800000 non-null  float64\n",
      " 12  MPG              800000 non-null  float64\n",
      " 13  LPS              800000 non-null  float64\n",
      " 14  Pressure_switch  800000 non-null  float64\n",
      " 15  Oil_level        800000 non-null  float64\n",
      " 16  Caudal_impulses  800000 non-null  float64\n",
      "dtypes: float64(15), int64(1), object(1)\n",
      "memory usage: 103.8+ MB\n"
     ]
    }
   ],
   "source": [
    "# Examining null count and data types of features\n",
    "metro_df_large.info()"
   ]
  },
  {
   "cell_type": "markdown",
   "id": "e76ef4d7",
   "metadata": {
    "papermill": {
     "duration": 0.01301,
     "end_time": "2023-10-24T16:57:42.741997",
     "exception": false,
     "start_time": "2023-10-24T16:57:42.728987",
     "status": "completed"
    },
    "tags": []
   },
   "source": [
    "# Creating a target feature"
   ]
  },
  {
   "cell_type": "markdown",
   "id": "a0bcac44",
   "metadata": {
    "papermill": {
     "duration": 0.012046,
     "end_time": "2023-10-24T16:57:42.766683",
     "exception": false,
     "start_time": "2023-10-24T16:57:42.754637",
     "status": "completed"
    },
    "tags": []
   },
   "source": [
    "The valuable information of the actual machinery failures needs to be transformed into a feature in the dataframe. Here I take steps to create failure_start, failure_end, and failure_duration features. I will use these to test the performance of the classification model."
   ]
  },
  {
   "cell_type": "code",
   "execution_count": 5,
   "id": "a68fae6d",
   "metadata": {
    "execution": {
     "iopub.execute_input": "2023-10-24T16:57:42.793541Z",
     "iopub.status.busy": "2023-10-24T16:57:42.793061Z",
     "iopub.status.idle": "2023-10-24T16:57:42.811425Z",
     "shell.execute_reply": "2023-10-24T16:57:42.810463Z"
    },
    "papermill": {
     "duration": 0.034631,
     "end_time": "2023-10-24T16:57:42.813604",
     "exception": false,
     "start_time": "2023-10-24T16:57:42.778973",
     "status": "completed"
    },
    "tags": []
   },
   "outputs": [
    {
     "data": {
      "text/html": [
       "<div>\n",
       "<style scoped>\n",
       "    .dataframe tbody tr th:only-of-type {\n",
       "        vertical-align: middle;\n",
       "    }\n",
       "\n",
       "    .dataframe tbody tr th {\n",
       "        vertical-align: top;\n",
       "    }\n",
       "\n",
       "    .dataframe thead th {\n",
       "        text-align: right;\n",
       "    }\n",
       "</style>\n",
       "<table border=\"1\" class=\"dataframe\">\n",
       "  <thead>\n",
       "    <tr style=\"text-align: right;\">\n",
       "      <th></th>\n",
       "      <th>failure_start</th>\n",
       "      <th>failure_end</th>\n",
       "    </tr>\n",
       "  </thead>\n",
       "  <tbody>\n",
       "    <tr>\n",
       "      <th>0</th>\n",
       "      <td>2020-04-18 00:00:00</td>\n",
       "      <td>2020-04-18 23:59:00</td>\n",
       "    </tr>\n",
       "    <tr>\n",
       "      <th>1</th>\n",
       "      <td>2020-05-29 23:30:00</td>\n",
       "      <td>2020-05-30 06:00:00</td>\n",
       "    </tr>\n",
       "    <tr>\n",
       "      <th>2</th>\n",
       "      <td>2020-06-05 10:00:00</td>\n",
       "      <td>2020-06-07 14:30:00</td>\n",
       "    </tr>\n",
       "    <tr>\n",
       "      <th>3</th>\n",
       "      <td>2020-07-15 14:30:00</td>\n",
       "      <td>2020-07-15 19:00:00</td>\n",
       "    </tr>\n",
       "  </tbody>\n",
       "</table>\n",
       "</div>"
      ],
      "text/plain": [
       "        failure_start         failure_end\n",
       "0 2020-04-18 00:00:00 2020-04-18 23:59:00\n",
       "1 2020-05-29 23:30:00 2020-05-30 06:00:00\n",
       "2 2020-06-05 10:00:00 2020-06-07 14:30:00\n",
       "3 2020-07-15 14:30:00 2020-07-15 19:00:00"
      ]
     },
     "execution_count": 5,
     "metadata": {},
     "output_type": "execute_result"
    }
   ],
   "source": [
    "# Creating a dataframe of failure data from the provided failure table\n",
    "\n",
    "dt_fail_starts = pd.to_datetime(['04/18/2020 0:00', '05/29/2020 23:30',  '06/05/2020 10:00', '07/15/2020 14:30'])\n",
    "dt_fail_ends = pd.to_datetime(['04/18/2020 23:59', '05/30/2020 6:00', '06/07/2020 14:30', '07/15/2020 19:00'])\n",
    "\n",
    "failure_df = pd.DataFrame(list(zip(dt_fail_starts, dt_fail_ends)), columns=['failure_start','failure_end'], dtype='datetime64[ns]')\n",
    "\n",
    "failure_df"
   ]
  },
  {
   "cell_type": "code",
   "execution_count": 6,
   "id": "c0133e97",
   "metadata": {
    "execution": {
     "iopub.execute_input": "2023-10-24T16:57:42.840900Z",
     "iopub.status.busy": "2023-10-24T16:57:42.840220Z",
     "iopub.status.idle": "2023-10-24T16:57:42.855399Z",
     "shell.execute_reply": "2023-10-24T16:57:42.854273Z"
    },
    "papermill": {
     "duration": 0.031526,
     "end_time": "2023-10-24T16:57:42.857850",
     "exception": false,
     "start_time": "2023-10-24T16:57:42.826324",
     "status": "completed"
    },
    "tags": []
   },
   "outputs": [
    {
     "data": {
      "text/html": [
       "<div>\n",
       "<style scoped>\n",
       "    .dataframe tbody tr th:only-of-type {\n",
       "        vertical-align: middle;\n",
       "    }\n",
       "\n",
       "    .dataframe tbody tr th {\n",
       "        vertical-align: top;\n",
       "    }\n",
       "\n",
       "    .dataframe thead th {\n",
       "        text-align: right;\n",
       "    }\n",
       "</style>\n",
       "<table border=\"1\" class=\"dataframe\">\n",
       "  <thead>\n",
       "    <tr style=\"text-align: right;\">\n",
       "      <th></th>\n",
       "      <th>failure_start</th>\n",
       "      <th>failure_end</th>\n",
       "      <th>fail_duration</th>\n",
       "    </tr>\n",
       "  </thead>\n",
       "  <tbody>\n",
       "    <tr>\n",
       "      <th>0</th>\n",
       "      <td>2020-04-18 00:00:00</td>\n",
       "      <td>2020-04-18 23:59:00</td>\n",
       "      <td>0 days 23:59:00</td>\n",
       "    </tr>\n",
       "    <tr>\n",
       "      <th>1</th>\n",
       "      <td>2020-05-29 23:30:00</td>\n",
       "      <td>2020-05-30 06:00:00</td>\n",
       "      <td>0 days 06:30:00</td>\n",
       "    </tr>\n",
       "    <tr>\n",
       "      <th>2</th>\n",
       "      <td>2020-06-05 10:00:00</td>\n",
       "      <td>2020-06-07 14:30:00</td>\n",
       "      <td>2 days 04:30:00</td>\n",
       "    </tr>\n",
       "    <tr>\n",
       "      <th>3</th>\n",
       "      <td>2020-07-15 14:30:00</td>\n",
       "      <td>2020-07-15 19:00:00</td>\n",
       "      <td>0 days 04:30:00</td>\n",
       "    </tr>\n",
       "  </tbody>\n",
       "</table>\n",
       "</div>"
      ],
      "text/plain": [
       "        failure_start         failure_end   fail_duration\n",
       "0 2020-04-18 00:00:00 2020-04-18 23:59:00 0 days 23:59:00\n",
       "1 2020-05-29 23:30:00 2020-05-30 06:00:00 0 days 06:30:00\n",
       "2 2020-06-05 10:00:00 2020-06-07 14:30:00 2 days 04:30:00\n",
       "3 2020-07-15 14:30:00 2020-07-15 19:00:00 0 days 04:30:00"
      ]
     },
     "execution_count": 6,
     "metadata": {},
     "output_type": "execute_result"
    }
   ],
   "source": [
    "# Creating a fail_duration feature by subtracting datetime objects, returning a timedelta\n",
    "\n",
    "failure_df['fail_duration'] = failure_df['failure_end'] - failure_df['failure_start'] \n",
    "failure_df.head()"
   ]
  },
  {
   "cell_type": "code",
   "execution_count": 7,
   "id": "8007f45e",
   "metadata": {
    "execution": {
     "iopub.execute_input": "2023-10-24T16:57:42.885657Z",
     "iopub.status.busy": "2023-10-24T16:57:42.884998Z",
     "iopub.status.idle": "2023-10-24T16:57:42.899304Z",
     "shell.execute_reply": "2023-10-24T16:57:42.898114Z"
    },
    "papermill": {
     "duration": 0.031153,
     "end_time": "2023-10-24T16:57:42.901865",
     "exception": false,
     "start_time": "2023-10-24T16:57:42.870712",
     "status": "completed"
    },
    "tags": []
   },
   "outputs": [
    {
     "data": {
      "text/plain": [
       "0    DatetimeIndex(['2020-04-11', '2020-04-12', '20...\n",
       "1    DatetimeIndex(['2020-05-22 23:30:00', '2020-05...\n",
       "2    DatetimeIndex(['2020-05-29 10:00:00', '2020-05...\n",
       "3    DatetimeIndex(['2020-07-08 14:30:00', '2020-07...\n",
       "dtype: object"
      ]
     },
     "execution_count": 7,
     "metadata": {},
     "output_type": "execute_result"
    }
   ],
   "source": [
    "# Creating date ranges to identify records from the 24 hours leading up to failure\n",
    "fail_ranges = pd.Series([pd.date_range(start=(fail_start - pd.Timedelta(days=7)), end=fail_start) for fail_start in failure_df.failure_start])\n",
    "fail_ranges"
   ]
  },
  {
   "cell_type": "code",
   "execution_count": 8,
   "id": "946373d9",
   "metadata": {
    "execution": {
     "iopub.execute_input": "2023-10-24T16:57:42.929531Z",
     "iopub.status.busy": "2023-10-24T16:57:42.929129Z",
     "iopub.status.idle": "2023-10-24T16:57:43.697128Z",
     "shell.execute_reply": "2023-10-24T16:57:43.695873Z"
    },
    "papermill": {
     "duration": 0.785248,
     "end_time": "2023-10-24T16:57:43.700088",
     "exception": false,
     "start_time": "2023-10-24T16:57:42.914840",
     "status": "completed"
    },
    "tags": []
   },
   "outputs": [],
   "source": [
    "# Converting the timestamp column to the pandas datetime date type \n",
    "metro_df_large['timestamp'] = pd.to_datetime(metro_df_large['timestamp'])\n",
    "metro_df_large.timestamp.dtype\n",
    "\n",
    "metro_df_large['date'] = metro_df_large['timestamp'].dt.date"
   ]
  },
  {
   "cell_type": "code",
   "execution_count": 9,
   "id": "d89996ec",
   "metadata": {
    "execution": {
     "iopub.execute_input": "2023-10-24T16:57:43.728236Z",
     "iopub.status.busy": "2023-10-24T16:57:43.727852Z",
     "iopub.status.idle": "2023-10-24T16:57:43.735332Z",
     "shell.execute_reply": "2023-10-24T16:57:43.733961Z"
    },
    "papermill": {
     "duration": 0.025349,
     "end_time": "2023-10-24T16:57:43.738518",
     "exception": false,
     "start_time": "2023-10-24T16:57:43.713169",
     "status": "completed"
    },
    "tags": []
   },
   "outputs": [],
   "source": [
    "# Defining a function to create a fail_state column in the dataframe\n",
    "def failure_status(df):\n",
    "    \"\"\" Compare the timestamp of the recorded data with the timestamp of failures\n",
    "        \n",
    "        Args: df = a pandas dataframe\n",
    "        Returns : 1 if record is within a period of a failure, 0 if record is not within period of a failure\n",
    "    \"\"\"\n",
    "    for start in dt_fail_starts:\n",
    "        for end in dt_fail_ends:\n",
    "            if (df['timestamp'] >= start) & (df['timestamp'] <= end):\n",
    "                return 1\n",
    "            else:\n",
    "                return 0"
   ]
  },
  {
   "cell_type": "code",
   "execution_count": 10,
   "id": "20c151fb",
   "metadata": {
    "execution": {
     "iopub.execute_input": "2023-10-24T16:57:43.766491Z",
     "iopub.status.busy": "2023-10-24T16:57:43.766093Z",
     "iopub.status.idle": "2023-10-24T16:58:27.263759Z",
     "shell.execute_reply": "2023-10-24T16:58:27.262727Z"
    },
    "papermill": {
     "duration": 43.514675,
     "end_time": "2023-10-24T16:58:27.266551",
     "exception": false,
     "start_time": "2023-10-24T16:57:43.751876",
     "status": "completed"
    },
    "tags": []
   },
   "outputs": [],
   "source": [
    "#metro_df_large['fail_state'] = metro_df_large['timestamp'] < failure_df.failure_start[0]\n",
    "#metro_df_large['fail_state'] = metro_df_large['timestamp'] >= failure_df['failure_start'][0]\n",
    "metro_df_large['fail_state'] = metro_df_large.apply(failure_status, axis=1)"
   ]
  },
  {
   "cell_type": "code",
   "execution_count": 11,
   "id": "47da5cea",
   "metadata": {
    "execution": {
     "iopub.execute_input": "2023-10-24T16:58:27.294983Z",
     "iopub.status.busy": "2023-10-24T16:58:27.294327Z",
     "iopub.status.idle": "2023-10-24T16:58:27.309822Z",
     "shell.execute_reply": "2023-10-24T16:58:27.308762Z"
    },
    "papermill": {
     "duration": 0.03264,
     "end_time": "2023-10-24T16:58:27.312376",
     "exception": false,
     "start_time": "2023-10-24T16:58:27.279736",
     "status": "completed"
    },
    "tags": []
   },
   "outputs": [
    {
     "data": {
      "text/plain": [
       "0    791343\n",
       "1      8657\n",
       "Name: fail_state, dtype: int64"
      ]
     },
     "execution_count": 11,
     "metadata": {},
     "output_type": "execute_result"
    }
   ],
   "source": [
    "metro_df_large['fail_state'].value_counts()"
   ]
  },
  {
   "cell_type": "code",
   "execution_count": 12,
   "id": "efdf7f6a",
   "metadata": {
    "execution": {
     "iopub.execute_input": "2023-10-24T16:58:27.340808Z",
     "iopub.status.busy": "2023-10-24T16:58:27.340049Z",
     "iopub.status.idle": "2023-10-24T16:58:27.362426Z",
     "shell.execute_reply": "2023-10-24T16:58:27.361211Z"
    },
    "papermill": {
     "duration": 0.039622,
     "end_time": "2023-10-24T16:58:27.365326",
     "exception": false,
     "start_time": "2023-10-24T16:58:27.325704",
     "status": "completed"
    },
    "tags": []
   },
   "outputs": [],
   "source": [
    "failed_df = metro_df_large.loc[metro_df_large['fail_state'] == 1]\n",
    "#failed_df['date'] = failed_df.timestamp.dt.date\n"
   ]
  },
  {
   "cell_type": "code",
   "execution_count": 13,
   "id": "1db2d763",
   "metadata": {
    "execution": {
     "iopub.execute_input": "2023-10-24T16:58:27.394358Z",
     "iopub.status.busy": "2023-10-24T16:58:27.393959Z",
     "iopub.status.idle": "2023-10-24T16:58:27.404277Z",
     "shell.execute_reply": "2023-10-24T16:58:27.403167Z"
    },
    "papermill": {
     "duration": 0.028008,
     "end_time": "2023-10-24T16:58:27.406756",
     "exception": false,
     "start_time": "2023-10-24T16:58:27.378748",
     "status": "completed"
    },
    "tags": []
   },
   "outputs": [
    {
     "data": {
      "text/plain": [
       "2020-04-18    8657\n",
       "Name: date, dtype: int64"
      ]
     },
     "execution_count": 13,
     "metadata": {},
     "output_type": "execute_result"
    }
   ],
   "source": [
    "failed_df.date.value_counts()"
   ]
  },
  {
   "cell_type": "code",
   "execution_count": 14,
   "id": "bee23562",
   "metadata": {
    "execution": {
     "iopub.execute_input": "2023-10-24T16:58:27.434820Z",
     "iopub.status.busy": "2023-10-24T16:58:27.434365Z",
     "iopub.status.idle": "2023-10-24T16:58:27.439210Z",
     "shell.execute_reply": "2023-10-24T16:58:27.438145Z"
    },
    "papermill": {
     "duration": 0.021579,
     "end_time": "2023-10-24T16:58:27.441567",
     "exception": false,
     "start_time": "2023-10-24T16:58:27.419988",
     "status": "completed"
    },
    "tags": []
   },
   "outputs": [],
   "source": [
    "#metro_df_large['Fail_state'] = metro_df_large[metro_df_large.timestamp "
   ]
  },
  {
   "cell_type": "code",
   "execution_count": 15,
   "id": "fcf094bb",
   "metadata": {
    "execution": {
     "iopub.execute_input": "2023-10-24T16:58:27.470296Z",
     "iopub.status.busy": "2023-10-24T16:58:27.469911Z",
     "iopub.status.idle": "2023-10-24T16:58:27.504326Z",
     "shell.execute_reply": "2023-10-24T16:58:27.503198Z"
    },
    "papermill": {
     "duration": 0.051579,
     "end_time": "2023-10-24T16:58:27.506874",
     "exception": false,
     "start_time": "2023-10-24T16:58:27.455295",
     "status": "completed"
    },
    "tags": []
   },
   "outputs": [
    {
     "name": "stdout",
     "output_type": "stream",
     "text": [
      "1.0    714104\n",
      "0.0     85896\n",
      "Name: Caudal_impulses, dtype: int64\n",
      "1.0    791982\n",
      "0.0      8018\n",
      "Name: Oil_level, dtype: int64\n"
     ]
    }
   ],
   "source": [
    "# Every value of the Caudal_impulses and Oil_level columns is 1, \n",
    "# REQUIRES examination of full dataset before dropping these columns\n",
    "\n",
    "print(metro_df_large.Caudal_impulses.value_counts())\n",
    "print(metro_df_large.Oil_level.value_counts())"
   ]
  },
  {
   "cell_type": "markdown",
   "id": "99f9e414",
   "metadata": {
    "papermill": {
     "duration": 0.012777,
     "end_time": "2023-10-24T16:58:27.532971",
     "exception": false,
     "start_time": "2023-10-24T16:58:27.520194",
     "status": "completed"
    },
    "tags": []
   },
   "source": [
    "# Initial Model Training + Evaluation"
   ]
  },
  {
   "cell_type": "code",
   "execution_count": 16,
   "id": "ee41d295",
   "metadata": {
    "execution": {
     "iopub.execute_input": "2023-10-24T16:58:27.560928Z",
     "iopub.status.busy": "2023-10-24T16:58:27.560513Z",
     "iopub.status.idle": "2023-10-24T16:58:27.564969Z",
     "shell.execute_reply": "2023-10-24T16:58:27.563900Z"
    },
    "papermill": {
     "duration": 0.02103,
     "end_time": "2023-10-24T16:58:27.567321",
     "exception": false,
     "start_time": "2023-10-24T16:58:27.546291",
     "status": "completed"
    },
    "tags": []
   },
   "outputs": [],
   "source": [
    "#logreg_1 = LogisticRegression()"
   ]
  },
  {
   "cell_type": "markdown",
   "id": "4898077c",
   "metadata": {
    "papermill": {
     "duration": 0.012792,
     "end_time": "2023-10-24T16:58:27.593611",
     "exception": false,
     "start_time": "2023-10-24T16:58:27.580819",
     "status": "completed"
    },
    "tags": []
   },
   "source": [
    "# Feature Extraction"
   ]
  },
  {
   "cell_type": "markdown",
   "id": "b607ea7f",
   "metadata": {
    "papermill": {
     "duration": 0.012731,
     "end_time": "2023-10-24T16:58:27.619568",
     "exception": false,
     "start_time": "2023-10-24T16:58:27.606837",
     "status": "completed"
    },
    "tags": []
   },
   "source": [
    "The BAR pressure value in the reservoirs ('Reservoirs') should be close to that measured at the pneumatic panel (TP3).\n",
    "Next I create a dif_panel_reservoir feature by subtracting the value of 'Reservoirs' from the value of 'TP3' for each record."
   ]
  },
  {
   "cell_type": "code",
   "execution_count": 17,
   "id": "033204dd",
   "metadata": {
    "execution": {
     "iopub.execute_input": "2023-10-24T16:58:27.647498Z",
     "iopub.status.busy": "2023-10-24T16:58:27.647075Z",
     "iopub.status.idle": "2023-10-24T16:58:27.699251Z",
     "shell.execute_reply": "2023-10-24T16:58:27.698088Z"
    },
    "papermill": {
     "duration": 0.068987,
     "end_time": "2023-10-24T16:58:27.701758",
     "exception": false,
     "start_time": "2023-10-24T16:58:27.632771",
     "status": "completed"
    },
    "tags": []
   },
   "outputs": [
    {
     "data": {
      "text/plain": [
       "count    800000.000000\n",
       "mean          0.001915\n",
       "std           0.001798\n",
       "min           0.000000\n",
       "25%           0.000000\n",
       "50%           0.002000\n",
       "75%           0.002000\n",
       "max           0.182000\n",
       "Name: dif_panel_reservoir, dtype: float64"
      ]
     },
     "execution_count": 17,
     "metadata": {},
     "output_type": "execute_result"
    }
   ],
   "source": [
    "# Creating a feature dif_panel_reservoir by subtracting Reservoirs value from TP3 value\n",
    "\n",
    "metro_df_large['dif_panel_reservoir'] = abs(metro_df_large['TP3'] - metro_df_large['Reservoirs'])\n",
    "\n",
    "metro_df_large['dif_panel_reservoir'].describe()"
   ]
  },
  {
   "cell_type": "markdown",
   "id": "899b826f",
   "metadata": {
    "papermill": {
     "duration": 0.013057,
     "end_time": "2023-10-24T16:58:27.728278",
     "exception": false,
     "start_time": "2023-10-24T16:58:27.715221",
     "status": "completed"
    },
    "tags": []
   },
   "source": [
    "Creating a feature for the rolling average of the oil temperature."
   ]
  },
  {
   "cell_type": "code",
   "execution_count": 18,
   "id": "22a7f574",
   "metadata": {
    "execution": {
     "iopub.execute_input": "2023-10-24T16:58:27.756720Z",
     "iopub.status.busy": "2023-10-24T16:58:27.756297Z",
     "iopub.status.idle": "2023-10-24T16:58:27.836837Z",
     "shell.execute_reply": "2023-10-24T16:58:27.835622Z"
    },
    "papermill": {
     "duration": 0.097568,
     "end_time": "2023-10-24T16:58:27.839348",
     "exception": false,
     "start_time": "2023-10-24T16:58:27.741780",
     "status": "completed"
    },
    "tags": []
   },
   "outputs": [
    {
     "data": {
      "text/html": [
       "<div>\n",
       "<style scoped>\n",
       "    .dataframe tbody tr th:only-of-type {\n",
       "        vertical-align: middle;\n",
       "    }\n",
       "\n",
       "    .dataframe tbody tr th {\n",
       "        vertical-align: top;\n",
       "    }\n",
       "\n",
       "    .dataframe thead th {\n",
       "        text-align: right;\n",
       "    }\n",
       "</style>\n",
       "<table border=\"1\" class=\"dataframe\">\n",
       "  <thead>\n",
       "    <tr style=\"text-align: right;\">\n",
       "      <th></th>\n",
       "      <th>Unnamed: 0</th>\n",
       "      <th>timestamp</th>\n",
       "      <th>TP2</th>\n",
       "      <th>TP3</th>\n",
       "      <th>H1</th>\n",
       "      <th>DV_pressure</th>\n",
       "      <th>Reservoirs</th>\n",
       "      <th>Oil_temperature</th>\n",
       "      <th>Motor_current</th>\n",
       "      <th>COMP</th>\n",
       "      <th>...</th>\n",
       "      <th>Towers</th>\n",
       "      <th>MPG</th>\n",
       "      <th>LPS</th>\n",
       "      <th>Pressure_switch</th>\n",
       "      <th>Oil_level</th>\n",
       "      <th>Caudal_impulses</th>\n",
       "      <th>date</th>\n",
       "      <th>fail_state</th>\n",
       "      <th>dif_panel_reservoir</th>\n",
       "      <th>oil_rolling</th>\n",
       "    </tr>\n",
       "  </thead>\n",
       "  <tbody>\n",
       "    <tr>\n",
       "      <th>0</th>\n",
       "      <td>0</td>\n",
       "      <td>2020-02-01 00:00:00</td>\n",
       "      <td>-0.012</td>\n",
       "      <td>9.358</td>\n",
       "      <td>9.340</td>\n",
       "      <td>-0.024</td>\n",
       "      <td>9.358</td>\n",
       "      <td>53.600</td>\n",
       "      <td>0.0400</td>\n",
       "      <td>1.0</td>\n",
       "      <td>...</td>\n",
       "      <td>1.0</td>\n",
       "      <td>1.0</td>\n",
       "      <td>0.0</td>\n",
       "      <td>1.0</td>\n",
       "      <td>1.0</td>\n",
       "      <td>1.0</td>\n",
       "      <td>2020-02-01</td>\n",
       "      <td>0</td>\n",
       "      <td>0.000</td>\n",
       "      <td>NaN</td>\n",
       "    </tr>\n",
       "    <tr>\n",
       "      <th>1</th>\n",
       "      <td>10</td>\n",
       "      <td>2020-02-01 00:00:10</td>\n",
       "      <td>-0.014</td>\n",
       "      <td>9.348</td>\n",
       "      <td>9.332</td>\n",
       "      <td>-0.022</td>\n",
       "      <td>9.348</td>\n",
       "      <td>53.675</td>\n",
       "      <td>0.0400</td>\n",
       "      <td>1.0</td>\n",
       "      <td>...</td>\n",
       "      <td>1.0</td>\n",
       "      <td>1.0</td>\n",
       "      <td>0.0</td>\n",
       "      <td>1.0</td>\n",
       "      <td>1.0</td>\n",
       "      <td>1.0</td>\n",
       "      <td>2020-02-01</td>\n",
       "      <td>0</td>\n",
       "      <td>0.000</td>\n",
       "      <td>NaN</td>\n",
       "    </tr>\n",
       "    <tr>\n",
       "      <th>2</th>\n",
       "      <td>20</td>\n",
       "      <td>2020-02-01 00:00:19</td>\n",
       "      <td>-0.012</td>\n",
       "      <td>9.338</td>\n",
       "      <td>9.322</td>\n",
       "      <td>-0.022</td>\n",
       "      <td>9.338</td>\n",
       "      <td>53.600</td>\n",
       "      <td>0.0425</td>\n",
       "      <td>1.0</td>\n",
       "      <td>...</td>\n",
       "      <td>1.0</td>\n",
       "      <td>1.0</td>\n",
       "      <td>0.0</td>\n",
       "      <td>1.0</td>\n",
       "      <td>1.0</td>\n",
       "      <td>1.0</td>\n",
       "      <td>2020-02-01</td>\n",
       "      <td>0</td>\n",
       "      <td>0.000</td>\n",
       "      <td>NaN</td>\n",
       "    </tr>\n",
       "    <tr>\n",
       "      <th>3</th>\n",
       "      <td>30</td>\n",
       "      <td>2020-02-01 00:00:29</td>\n",
       "      <td>-0.012</td>\n",
       "      <td>9.328</td>\n",
       "      <td>9.312</td>\n",
       "      <td>-0.022</td>\n",
       "      <td>9.328</td>\n",
       "      <td>53.425</td>\n",
       "      <td>0.0400</td>\n",
       "      <td>1.0</td>\n",
       "      <td>...</td>\n",
       "      <td>1.0</td>\n",
       "      <td>1.0</td>\n",
       "      <td>0.0</td>\n",
       "      <td>1.0</td>\n",
       "      <td>1.0</td>\n",
       "      <td>1.0</td>\n",
       "      <td>2020-02-01</td>\n",
       "      <td>0</td>\n",
       "      <td>0.000</td>\n",
       "      <td>NaN</td>\n",
       "    </tr>\n",
       "    <tr>\n",
       "      <th>4</th>\n",
       "      <td>40</td>\n",
       "      <td>2020-02-01 00:00:39</td>\n",
       "      <td>-0.012</td>\n",
       "      <td>9.318</td>\n",
       "      <td>9.302</td>\n",
       "      <td>-0.022</td>\n",
       "      <td>9.318</td>\n",
       "      <td>53.475</td>\n",
       "      <td>0.0400</td>\n",
       "      <td>1.0</td>\n",
       "      <td>...</td>\n",
       "      <td>1.0</td>\n",
       "      <td>1.0</td>\n",
       "      <td>0.0</td>\n",
       "      <td>1.0</td>\n",
       "      <td>1.0</td>\n",
       "      <td>1.0</td>\n",
       "      <td>2020-02-01</td>\n",
       "      <td>0</td>\n",
       "      <td>0.000</td>\n",
       "      <td>NaN</td>\n",
       "    </tr>\n",
       "    <tr>\n",
       "      <th>5</th>\n",
       "      <td>50</td>\n",
       "      <td>2020-02-01 00:00:49</td>\n",
       "      <td>-0.012</td>\n",
       "      <td>9.306</td>\n",
       "      <td>9.290</td>\n",
       "      <td>-0.024</td>\n",
       "      <td>9.308</td>\n",
       "      <td>53.500</td>\n",
       "      <td>0.0400</td>\n",
       "      <td>1.0</td>\n",
       "      <td>...</td>\n",
       "      <td>1.0</td>\n",
       "      <td>1.0</td>\n",
       "      <td>0.0</td>\n",
       "      <td>1.0</td>\n",
       "      <td>1.0</td>\n",
       "      <td>1.0</td>\n",
       "      <td>2020-02-01</td>\n",
       "      <td>0</td>\n",
       "      <td>0.002</td>\n",
       "      <td>53.545833</td>\n",
       "    </tr>\n",
       "    <tr>\n",
       "      <th>6</th>\n",
       "      <td>60</td>\n",
       "      <td>2020-02-01 00:00:59</td>\n",
       "      <td>-0.012</td>\n",
       "      <td>9.296</td>\n",
       "      <td>9.280</td>\n",
       "      <td>-0.024</td>\n",
       "      <td>9.298</td>\n",
       "      <td>53.375</td>\n",
       "      <td>0.0400</td>\n",
       "      <td>1.0</td>\n",
       "      <td>...</td>\n",
       "      <td>1.0</td>\n",
       "      <td>1.0</td>\n",
       "      <td>0.0</td>\n",
       "      <td>1.0</td>\n",
       "      <td>1.0</td>\n",
       "      <td>1.0</td>\n",
       "      <td>2020-02-01</td>\n",
       "      <td>0</td>\n",
       "      <td>0.002</td>\n",
       "      <td>53.508333</td>\n",
       "    </tr>\n",
       "    <tr>\n",
       "      <th>7</th>\n",
       "      <td>70</td>\n",
       "      <td>2020-02-01 00:01:09</td>\n",
       "      <td>-0.014</td>\n",
       "      <td>9.286</td>\n",
       "      <td>9.270</td>\n",
       "      <td>-0.024</td>\n",
       "      <td>9.286</td>\n",
       "      <td>53.550</td>\n",
       "      <td>0.0400</td>\n",
       "      <td>1.0</td>\n",
       "      <td>...</td>\n",
       "      <td>1.0</td>\n",
       "      <td>1.0</td>\n",
       "      <td>0.0</td>\n",
       "      <td>1.0</td>\n",
       "      <td>1.0</td>\n",
       "      <td>1.0</td>\n",
       "      <td>2020-02-01</td>\n",
       "      <td>0</td>\n",
       "      <td>0.000</td>\n",
       "      <td>53.487500</td>\n",
       "    </tr>\n",
       "    <tr>\n",
       "      <th>8</th>\n",
       "      <td>80</td>\n",
       "      <td>2020-02-01 00:01:19</td>\n",
       "      <td>-0.012</td>\n",
       "      <td>9.276</td>\n",
       "      <td>9.258</td>\n",
       "      <td>-0.022</td>\n",
       "      <td>9.276</td>\n",
       "      <td>53.425</td>\n",
       "      <td>0.0400</td>\n",
       "      <td>1.0</td>\n",
       "      <td>...</td>\n",
       "      <td>1.0</td>\n",
       "      <td>1.0</td>\n",
       "      <td>0.0</td>\n",
       "      <td>1.0</td>\n",
       "      <td>1.0</td>\n",
       "      <td>1.0</td>\n",
       "      <td>2020-02-01</td>\n",
       "      <td>0</td>\n",
       "      <td>0.000</td>\n",
       "      <td>53.458333</td>\n",
       "    </tr>\n",
       "    <tr>\n",
       "      <th>9</th>\n",
       "      <td>90</td>\n",
       "      <td>2020-02-01 00:01:29</td>\n",
       "      <td>-0.012</td>\n",
       "      <td>9.264</td>\n",
       "      <td>9.248</td>\n",
       "      <td>-0.022</td>\n",
       "      <td>9.264</td>\n",
       "      <td>53.375</td>\n",
       "      <td>0.0400</td>\n",
       "      <td>1.0</td>\n",
       "      <td>...</td>\n",
       "      <td>1.0</td>\n",
       "      <td>1.0</td>\n",
       "      <td>0.0</td>\n",
       "      <td>1.0</td>\n",
       "      <td>1.0</td>\n",
       "      <td>1.0</td>\n",
       "      <td>2020-02-01</td>\n",
       "      <td>0</td>\n",
       "      <td>0.000</td>\n",
       "      <td>53.450000</td>\n",
       "    </tr>\n",
       "    <tr>\n",
       "      <th>10</th>\n",
       "      <td>100</td>\n",
       "      <td>2020-02-01 00:01:39</td>\n",
       "      <td>-0.014</td>\n",
       "      <td>9.256</td>\n",
       "      <td>9.240</td>\n",
       "      <td>-0.024</td>\n",
       "      <td>9.256</td>\n",
       "      <td>53.400</td>\n",
       "      <td>0.0400</td>\n",
       "      <td>1.0</td>\n",
       "      <td>...</td>\n",
       "      <td>1.0</td>\n",
       "      <td>1.0</td>\n",
       "      <td>0.0</td>\n",
       "      <td>1.0</td>\n",
       "      <td>1.0</td>\n",
       "      <td>1.0</td>\n",
       "      <td>2020-02-01</td>\n",
       "      <td>0</td>\n",
       "      <td>0.000</td>\n",
       "      <td>53.437500</td>\n",
       "    </tr>\n",
       "    <tr>\n",
       "      <th>11</th>\n",
       "      <td>110</td>\n",
       "      <td>2020-02-01 00:01:49</td>\n",
       "      <td>-0.012</td>\n",
       "      <td>9.246</td>\n",
       "      <td>9.228</td>\n",
       "      <td>-0.024</td>\n",
       "      <td>9.244</td>\n",
       "      <td>53.350</td>\n",
       "      <td>0.0400</td>\n",
       "      <td>1.0</td>\n",
       "      <td>...</td>\n",
       "      <td>1.0</td>\n",
       "      <td>1.0</td>\n",
       "      <td>0.0</td>\n",
       "      <td>1.0</td>\n",
       "      <td>1.0</td>\n",
       "      <td>1.0</td>\n",
       "      <td>2020-02-01</td>\n",
       "      <td>0</td>\n",
       "      <td>0.002</td>\n",
       "      <td>53.412500</td>\n",
       "    </tr>\n",
       "    <tr>\n",
       "      <th>12</th>\n",
       "      <td>120</td>\n",
       "      <td>2020-02-01 00:01:59</td>\n",
       "      <td>-0.014</td>\n",
       "      <td>9.232</td>\n",
       "      <td>9.216</td>\n",
       "      <td>-0.024</td>\n",
       "      <td>9.232</td>\n",
       "      <td>53.425</td>\n",
       "      <td>0.0400</td>\n",
       "      <td>1.0</td>\n",
       "      <td>...</td>\n",
       "      <td>1.0</td>\n",
       "      <td>1.0</td>\n",
       "      <td>0.0</td>\n",
       "      <td>1.0</td>\n",
       "      <td>1.0</td>\n",
       "      <td>1.0</td>\n",
       "      <td>2020-02-01</td>\n",
       "      <td>0</td>\n",
       "      <td>0.000</td>\n",
       "      <td>53.420833</td>\n",
       "    </tr>\n",
       "    <tr>\n",
       "      <th>13</th>\n",
       "      <td>130</td>\n",
       "      <td>2020-02-01 00:02:09</td>\n",
       "      <td>-0.012</td>\n",
       "      <td>9.224</td>\n",
       "      <td>9.206</td>\n",
       "      <td>-0.022</td>\n",
       "      <td>9.222</td>\n",
       "      <td>53.325</td>\n",
       "      <td>0.0400</td>\n",
       "      <td>1.0</td>\n",
       "      <td>...</td>\n",
       "      <td>1.0</td>\n",
       "      <td>1.0</td>\n",
       "      <td>0.0</td>\n",
       "      <td>1.0</td>\n",
       "      <td>1.0</td>\n",
       "      <td>1.0</td>\n",
       "      <td>2020-02-01</td>\n",
       "      <td>0</td>\n",
       "      <td>0.002</td>\n",
       "      <td>53.383333</td>\n",
       "    </tr>\n",
       "    <tr>\n",
       "      <th>14</th>\n",
       "      <td>140</td>\n",
       "      <td>2020-02-01 00:02:18</td>\n",
       "      <td>-0.012</td>\n",
       "      <td>9.214</td>\n",
       "      <td>9.198</td>\n",
       "      <td>-0.022</td>\n",
       "      <td>9.216</td>\n",
       "      <td>53.425</td>\n",
       "      <td>0.0400</td>\n",
       "      <td>1.0</td>\n",
       "      <td>...</td>\n",
       "      <td>1.0</td>\n",
       "      <td>1.0</td>\n",
       "      <td>0.0</td>\n",
       "      <td>1.0</td>\n",
       "      <td>1.0</td>\n",
       "      <td>1.0</td>\n",
       "      <td>2020-02-01</td>\n",
       "      <td>0</td>\n",
       "      <td>0.002</td>\n",
       "      <td>53.383333</td>\n",
       "    </tr>\n",
       "    <tr>\n",
       "      <th>15</th>\n",
       "      <td>150</td>\n",
       "      <td>2020-02-01 00:02:28</td>\n",
       "      <td>-0.014</td>\n",
       "      <td>9.204</td>\n",
       "      <td>9.188</td>\n",
       "      <td>-0.024</td>\n",
       "      <td>9.204</td>\n",
       "      <td>53.325</td>\n",
       "      <td>0.0400</td>\n",
       "      <td>1.0</td>\n",
       "      <td>...</td>\n",
       "      <td>1.0</td>\n",
       "      <td>1.0</td>\n",
       "      <td>0.0</td>\n",
       "      <td>1.0</td>\n",
       "      <td>1.0</td>\n",
       "      <td>1.0</td>\n",
       "      <td>2020-02-01</td>\n",
       "      <td>0</td>\n",
       "      <td>0.000</td>\n",
       "      <td>53.375000</td>\n",
       "    </tr>\n",
       "    <tr>\n",
       "      <th>16</th>\n",
       "      <td>160</td>\n",
       "      <td>2020-02-01 00:02:38</td>\n",
       "      <td>-0.012</td>\n",
       "      <td>9.194</td>\n",
       "      <td>9.176</td>\n",
       "      <td>-0.022</td>\n",
       "      <td>9.194</td>\n",
       "      <td>53.325</td>\n",
       "      <td>0.0400</td>\n",
       "      <td>1.0</td>\n",
       "      <td>...</td>\n",
       "      <td>1.0</td>\n",
       "      <td>1.0</td>\n",
       "      <td>0.0</td>\n",
       "      <td>1.0</td>\n",
       "      <td>1.0</td>\n",
       "      <td>1.0</td>\n",
       "      <td>2020-02-01</td>\n",
       "      <td>0</td>\n",
       "      <td>0.000</td>\n",
       "      <td>53.362500</td>\n",
       "    </tr>\n",
       "    <tr>\n",
       "      <th>17</th>\n",
       "      <td>170</td>\n",
       "      <td>2020-02-01 00:02:48</td>\n",
       "      <td>-0.012</td>\n",
       "      <td>9.182</td>\n",
       "      <td>9.168</td>\n",
       "      <td>-0.022</td>\n",
       "      <td>9.184</td>\n",
       "      <td>53.275</td>\n",
       "      <td>0.0400</td>\n",
       "      <td>1.0</td>\n",
       "      <td>...</td>\n",
       "      <td>1.0</td>\n",
       "      <td>1.0</td>\n",
       "      <td>0.0</td>\n",
       "      <td>1.0</td>\n",
       "      <td>1.0</td>\n",
       "      <td>1.0</td>\n",
       "      <td>2020-02-01</td>\n",
       "      <td>0</td>\n",
       "      <td>0.002</td>\n",
       "      <td>53.350000</td>\n",
       "    </tr>\n",
       "    <tr>\n",
       "      <th>18</th>\n",
       "      <td>180</td>\n",
       "      <td>2020-02-01 00:02:58</td>\n",
       "      <td>-0.014</td>\n",
       "      <td>9.172</td>\n",
       "      <td>9.156</td>\n",
       "      <td>-0.022</td>\n",
       "      <td>9.174</td>\n",
       "      <td>53.275</td>\n",
       "      <td>0.0400</td>\n",
       "      <td>1.0</td>\n",
       "      <td>...</td>\n",
       "      <td>1.0</td>\n",
       "      <td>1.0</td>\n",
       "      <td>0.0</td>\n",
       "      <td>1.0</td>\n",
       "      <td>1.0</td>\n",
       "      <td>1.0</td>\n",
       "      <td>2020-02-01</td>\n",
       "      <td>0</td>\n",
       "      <td>0.002</td>\n",
       "      <td>53.325000</td>\n",
       "    </tr>\n",
       "    <tr>\n",
       "      <th>19</th>\n",
       "      <td>190</td>\n",
       "      <td>2020-02-01 00:03:08</td>\n",
       "      <td>-0.012</td>\n",
       "      <td>9.162</td>\n",
       "      <td>9.146</td>\n",
       "      <td>-0.024</td>\n",
       "      <td>9.164</td>\n",
       "      <td>53.325</td>\n",
       "      <td>0.0400</td>\n",
       "      <td>1.0</td>\n",
       "      <td>...</td>\n",
       "      <td>1.0</td>\n",
       "      <td>1.0</td>\n",
       "      <td>0.0</td>\n",
       "      <td>1.0</td>\n",
       "      <td>1.0</td>\n",
       "      <td>1.0</td>\n",
       "      <td>2020-02-01</td>\n",
       "      <td>0</td>\n",
       "      <td>0.002</td>\n",
       "      <td>53.325000</td>\n",
       "    </tr>\n",
       "  </tbody>\n",
       "</table>\n",
       "<p>20 rows × 21 columns</p>\n",
       "</div>"
      ],
      "text/plain": [
       "    Unnamed: 0           timestamp    TP2    TP3     H1  DV_pressure  \\\n",
       "0            0 2020-02-01 00:00:00 -0.012  9.358  9.340       -0.024   \n",
       "1           10 2020-02-01 00:00:10 -0.014  9.348  9.332       -0.022   \n",
       "2           20 2020-02-01 00:00:19 -0.012  9.338  9.322       -0.022   \n",
       "3           30 2020-02-01 00:00:29 -0.012  9.328  9.312       -0.022   \n",
       "4           40 2020-02-01 00:00:39 -0.012  9.318  9.302       -0.022   \n",
       "5           50 2020-02-01 00:00:49 -0.012  9.306  9.290       -0.024   \n",
       "6           60 2020-02-01 00:00:59 -0.012  9.296  9.280       -0.024   \n",
       "7           70 2020-02-01 00:01:09 -0.014  9.286  9.270       -0.024   \n",
       "8           80 2020-02-01 00:01:19 -0.012  9.276  9.258       -0.022   \n",
       "9           90 2020-02-01 00:01:29 -0.012  9.264  9.248       -0.022   \n",
       "10         100 2020-02-01 00:01:39 -0.014  9.256  9.240       -0.024   \n",
       "11         110 2020-02-01 00:01:49 -0.012  9.246  9.228       -0.024   \n",
       "12         120 2020-02-01 00:01:59 -0.014  9.232  9.216       -0.024   \n",
       "13         130 2020-02-01 00:02:09 -0.012  9.224  9.206       -0.022   \n",
       "14         140 2020-02-01 00:02:18 -0.012  9.214  9.198       -0.022   \n",
       "15         150 2020-02-01 00:02:28 -0.014  9.204  9.188       -0.024   \n",
       "16         160 2020-02-01 00:02:38 -0.012  9.194  9.176       -0.022   \n",
       "17         170 2020-02-01 00:02:48 -0.012  9.182  9.168       -0.022   \n",
       "18         180 2020-02-01 00:02:58 -0.014  9.172  9.156       -0.022   \n",
       "19         190 2020-02-01 00:03:08 -0.012  9.162  9.146       -0.024   \n",
       "\n",
       "    Reservoirs  Oil_temperature  Motor_current  COMP  ...  Towers  MPG  LPS  \\\n",
       "0        9.358           53.600         0.0400   1.0  ...     1.0  1.0  0.0   \n",
       "1        9.348           53.675         0.0400   1.0  ...     1.0  1.0  0.0   \n",
       "2        9.338           53.600         0.0425   1.0  ...     1.0  1.0  0.0   \n",
       "3        9.328           53.425         0.0400   1.0  ...     1.0  1.0  0.0   \n",
       "4        9.318           53.475         0.0400   1.0  ...     1.0  1.0  0.0   \n",
       "5        9.308           53.500         0.0400   1.0  ...     1.0  1.0  0.0   \n",
       "6        9.298           53.375         0.0400   1.0  ...     1.0  1.0  0.0   \n",
       "7        9.286           53.550         0.0400   1.0  ...     1.0  1.0  0.0   \n",
       "8        9.276           53.425         0.0400   1.0  ...     1.0  1.0  0.0   \n",
       "9        9.264           53.375         0.0400   1.0  ...     1.0  1.0  0.0   \n",
       "10       9.256           53.400         0.0400   1.0  ...     1.0  1.0  0.0   \n",
       "11       9.244           53.350         0.0400   1.0  ...     1.0  1.0  0.0   \n",
       "12       9.232           53.425         0.0400   1.0  ...     1.0  1.0  0.0   \n",
       "13       9.222           53.325         0.0400   1.0  ...     1.0  1.0  0.0   \n",
       "14       9.216           53.425         0.0400   1.0  ...     1.0  1.0  0.0   \n",
       "15       9.204           53.325         0.0400   1.0  ...     1.0  1.0  0.0   \n",
       "16       9.194           53.325         0.0400   1.0  ...     1.0  1.0  0.0   \n",
       "17       9.184           53.275         0.0400   1.0  ...     1.0  1.0  0.0   \n",
       "18       9.174           53.275         0.0400   1.0  ...     1.0  1.0  0.0   \n",
       "19       9.164           53.325         0.0400   1.0  ...     1.0  1.0  0.0   \n",
       "\n",
       "    Pressure_switch  Oil_level  Caudal_impulses        date fail_state  \\\n",
       "0               1.0        1.0              1.0  2020-02-01          0   \n",
       "1               1.0        1.0              1.0  2020-02-01          0   \n",
       "2               1.0        1.0              1.0  2020-02-01          0   \n",
       "3               1.0        1.0              1.0  2020-02-01          0   \n",
       "4               1.0        1.0              1.0  2020-02-01          0   \n",
       "5               1.0        1.0              1.0  2020-02-01          0   \n",
       "6               1.0        1.0              1.0  2020-02-01          0   \n",
       "7               1.0        1.0              1.0  2020-02-01          0   \n",
       "8               1.0        1.0              1.0  2020-02-01          0   \n",
       "9               1.0        1.0              1.0  2020-02-01          0   \n",
       "10              1.0        1.0              1.0  2020-02-01          0   \n",
       "11              1.0        1.0              1.0  2020-02-01          0   \n",
       "12              1.0        1.0              1.0  2020-02-01          0   \n",
       "13              1.0        1.0              1.0  2020-02-01          0   \n",
       "14              1.0        1.0              1.0  2020-02-01          0   \n",
       "15              1.0        1.0              1.0  2020-02-01          0   \n",
       "16              1.0        1.0              1.0  2020-02-01          0   \n",
       "17              1.0        1.0              1.0  2020-02-01          0   \n",
       "18              1.0        1.0              1.0  2020-02-01          0   \n",
       "19              1.0        1.0              1.0  2020-02-01          0   \n",
       "\n",
       "    dif_panel_reservoir  oil_rolling  \n",
       "0                 0.000          NaN  \n",
       "1                 0.000          NaN  \n",
       "2                 0.000          NaN  \n",
       "3                 0.000          NaN  \n",
       "4                 0.000          NaN  \n",
       "5                 0.002    53.545833  \n",
       "6                 0.002    53.508333  \n",
       "7                 0.000    53.487500  \n",
       "8                 0.000    53.458333  \n",
       "9                 0.000    53.450000  \n",
       "10                0.000    53.437500  \n",
       "11                0.002    53.412500  \n",
       "12                0.000    53.420833  \n",
       "13                0.002    53.383333  \n",
       "14                0.002    53.383333  \n",
       "15                0.000    53.375000  \n",
       "16                0.000    53.362500  \n",
       "17                0.002    53.350000  \n",
       "18                0.002    53.325000  \n",
       "19                0.002    53.325000  \n",
       "\n",
       "[20 rows x 21 columns]"
      ]
     },
     "execution_count": 18,
     "metadata": {},
     "output_type": "execute_result"
    }
   ],
   "source": [
    "metro_df_large['oil_rolling'] = metro_df_large['Oil_temperature'].rolling(6).mean()\n",
    "metro_df_large.head(20)"
   ]
  },
  {
   "cell_type": "code",
   "execution_count": 19,
   "id": "8bdb9e72",
   "metadata": {
    "execution": {
     "iopub.execute_input": "2023-10-24T16:58:27.869759Z",
     "iopub.status.busy": "2023-10-24T16:58:27.869336Z",
     "iopub.status.idle": "2023-10-24T16:58:27.876154Z",
     "shell.execute_reply": "2023-10-24T16:58:27.874980Z"
    },
    "papermill": {
     "duration": 0.024606,
     "end_time": "2023-10-24T16:58:27.878371",
     "exception": false,
     "start_time": "2023-10-24T16:58:27.853765",
     "status": "completed"
    },
    "tags": []
   },
   "outputs": [
    {
     "data": {
      "text/plain": [
       "'metro_df_clustering = metro_df_large.drop(metro_df_large.columns[[0,1]], axis=1)\\nmetro_df_clustering.info()'"
      ]
     },
     "execution_count": 19,
     "metadata": {},
     "output_type": "execute_result"
    }
   ],
   "source": [
    "\"\"\"metro_df_clustering = metro_df_large.drop(metro_df_large.columns[[0,1]], axis=1)\n",
    "metro_df_clustering.info()\"\"\""
   ]
  },
  {
   "cell_type": "code",
   "execution_count": 20,
   "id": "5b02974f",
   "metadata": {
    "execution": {
     "iopub.execute_input": "2023-10-24T16:58:27.910816Z",
     "iopub.status.busy": "2023-10-24T16:58:27.910399Z",
     "iopub.status.idle": "2023-10-24T16:58:27.917855Z",
     "shell.execute_reply": "2023-10-24T16:58:27.916607Z"
    },
    "papermill": {
     "duration": 0.027406,
     "end_time": "2023-10-24T16:58:27.920216",
     "exception": false,
     "start_time": "2023-10-24T16:58:27.892810",
     "status": "completed"
    },
    "tags": []
   },
   "outputs": [
    {
     "data": {
      "text/plain": [
       "\"# Set up KMeans\\nkmeans = KMeans(n_clusters=4, n_init=10)\\n\\n# Fit the model to the data\\nkmeans.fit(metro_df_clustering)\\n\\n# Predict the clusters\\nmetro_df_large['cluster'] = kmeans.predict(metro_df_clustering)\""
      ]
     },
     "execution_count": 20,
     "metadata": {},
     "output_type": "execute_result"
    }
   ],
   "source": [
    "\"\"\"# Set up KMeans\n",
    "kmeans = KMeans(n_clusters=4, n_init=10)\n",
    "\n",
    "# Fit the model to the data\n",
    "kmeans.fit(metro_df_clustering)\n",
    "\n",
    "# Predict the clusters\n",
    "metro_df_large['cluster'] = kmeans.predict(metro_df_clustering)\"\"\""
   ]
  },
  {
   "cell_type": "code",
   "execution_count": 21,
   "id": "b4efef22",
   "metadata": {
    "execution": {
     "iopub.execute_input": "2023-10-24T16:58:27.952671Z",
     "iopub.status.busy": "2023-10-24T16:58:27.952273Z",
     "iopub.status.idle": "2023-10-24T16:58:27.985487Z",
     "shell.execute_reply": "2023-10-24T16:58:27.984285Z"
    },
    "papermill": {
     "duration": 0.052741,
     "end_time": "2023-10-24T16:58:27.988148",
     "exception": false,
     "start_time": "2023-10-24T16:58:27.935407",
     "status": "completed"
    },
    "tags": []
   },
   "outputs": [
    {
     "data": {
      "text/html": [
       "<div>\n",
       "<style scoped>\n",
       "    .dataframe tbody tr th:only-of-type {\n",
       "        vertical-align: middle;\n",
       "    }\n",
       "\n",
       "    .dataframe tbody tr th {\n",
       "        vertical-align: top;\n",
       "    }\n",
       "\n",
       "    .dataframe thead th {\n",
       "        text-align: right;\n",
       "    }\n",
       "</style>\n",
       "<table border=\"1\" class=\"dataframe\">\n",
       "  <thead>\n",
       "    <tr style=\"text-align: right;\">\n",
       "      <th></th>\n",
       "      <th>Unnamed: 0</th>\n",
       "      <th>timestamp</th>\n",
       "      <th>TP2</th>\n",
       "      <th>TP3</th>\n",
       "      <th>H1</th>\n",
       "      <th>DV_pressure</th>\n",
       "      <th>Reservoirs</th>\n",
       "      <th>Oil_temperature</th>\n",
       "      <th>Motor_current</th>\n",
       "      <th>COMP</th>\n",
       "      <th>...</th>\n",
       "      <th>Towers</th>\n",
       "      <th>MPG</th>\n",
       "      <th>LPS</th>\n",
       "      <th>Pressure_switch</th>\n",
       "      <th>Oil_level</th>\n",
       "      <th>Caudal_impulses</th>\n",
       "      <th>date</th>\n",
       "      <th>fail_state</th>\n",
       "      <th>dif_panel_reservoir</th>\n",
       "      <th>oil_rolling</th>\n",
       "    </tr>\n",
       "  </thead>\n",
       "  <tbody>\n",
       "    <tr>\n",
       "      <th>0</th>\n",
       "      <td>0</td>\n",
       "      <td>2020-02-01 00:00:00</td>\n",
       "      <td>-0.012</td>\n",
       "      <td>9.358</td>\n",
       "      <td>9.340</td>\n",
       "      <td>-0.024</td>\n",
       "      <td>9.358</td>\n",
       "      <td>53.600</td>\n",
       "      <td>0.0400</td>\n",
       "      <td>1.0</td>\n",
       "      <td>...</td>\n",
       "      <td>1.0</td>\n",
       "      <td>1.0</td>\n",
       "      <td>0.0</td>\n",
       "      <td>1.0</td>\n",
       "      <td>1.0</td>\n",
       "      <td>1.0</td>\n",
       "      <td>2020-02-01</td>\n",
       "      <td>0</td>\n",
       "      <td>0.0</td>\n",
       "      <td>NaN</td>\n",
       "    </tr>\n",
       "    <tr>\n",
       "      <th>1</th>\n",
       "      <td>10</td>\n",
       "      <td>2020-02-01 00:00:10</td>\n",
       "      <td>-0.014</td>\n",
       "      <td>9.348</td>\n",
       "      <td>9.332</td>\n",
       "      <td>-0.022</td>\n",
       "      <td>9.348</td>\n",
       "      <td>53.675</td>\n",
       "      <td>0.0400</td>\n",
       "      <td>1.0</td>\n",
       "      <td>...</td>\n",
       "      <td>1.0</td>\n",
       "      <td>1.0</td>\n",
       "      <td>0.0</td>\n",
       "      <td>1.0</td>\n",
       "      <td>1.0</td>\n",
       "      <td>1.0</td>\n",
       "      <td>2020-02-01</td>\n",
       "      <td>0</td>\n",
       "      <td>0.0</td>\n",
       "      <td>NaN</td>\n",
       "    </tr>\n",
       "    <tr>\n",
       "      <th>2</th>\n",
       "      <td>20</td>\n",
       "      <td>2020-02-01 00:00:19</td>\n",
       "      <td>-0.012</td>\n",
       "      <td>9.338</td>\n",
       "      <td>9.322</td>\n",
       "      <td>-0.022</td>\n",
       "      <td>9.338</td>\n",
       "      <td>53.600</td>\n",
       "      <td>0.0425</td>\n",
       "      <td>1.0</td>\n",
       "      <td>...</td>\n",
       "      <td>1.0</td>\n",
       "      <td>1.0</td>\n",
       "      <td>0.0</td>\n",
       "      <td>1.0</td>\n",
       "      <td>1.0</td>\n",
       "      <td>1.0</td>\n",
       "      <td>2020-02-01</td>\n",
       "      <td>0</td>\n",
       "      <td>0.0</td>\n",
       "      <td>NaN</td>\n",
       "    </tr>\n",
       "    <tr>\n",
       "      <th>3</th>\n",
       "      <td>30</td>\n",
       "      <td>2020-02-01 00:00:29</td>\n",
       "      <td>-0.012</td>\n",
       "      <td>9.328</td>\n",
       "      <td>9.312</td>\n",
       "      <td>-0.022</td>\n",
       "      <td>9.328</td>\n",
       "      <td>53.425</td>\n",
       "      <td>0.0400</td>\n",
       "      <td>1.0</td>\n",
       "      <td>...</td>\n",
       "      <td>1.0</td>\n",
       "      <td>1.0</td>\n",
       "      <td>0.0</td>\n",
       "      <td>1.0</td>\n",
       "      <td>1.0</td>\n",
       "      <td>1.0</td>\n",
       "      <td>2020-02-01</td>\n",
       "      <td>0</td>\n",
       "      <td>0.0</td>\n",
       "      <td>NaN</td>\n",
       "    </tr>\n",
       "    <tr>\n",
       "      <th>4</th>\n",
       "      <td>40</td>\n",
       "      <td>2020-02-01 00:00:39</td>\n",
       "      <td>-0.012</td>\n",
       "      <td>9.318</td>\n",
       "      <td>9.302</td>\n",
       "      <td>-0.022</td>\n",
       "      <td>9.318</td>\n",
       "      <td>53.475</td>\n",
       "      <td>0.0400</td>\n",
       "      <td>1.0</td>\n",
       "      <td>...</td>\n",
       "      <td>1.0</td>\n",
       "      <td>1.0</td>\n",
       "      <td>0.0</td>\n",
       "      <td>1.0</td>\n",
       "      <td>1.0</td>\n",
       "      <td>1.0</td>\n",
       "      <td>2020-02-01</td>\n",
       "      <td>0</td>\n",
       "      <td>0.0</td>\n",
       "      <td>NaN</td>\n",
       "    </tr>\n",
       "  </tbody>\n",
       "</table>\n",
       "<p>5 rows × 21 columns</p>\n",
       "</div>"
      ],
      "text/plain": [
       "   Unnamed: 0           timestamp    TP2    TP3     H1  DV_pressure  \\\n",
       "0           0 2020-02-01 00:00:00 -0.012  9.358  9.340       -0.024   \n",
       "1          10 2020-02-01 00:00:10 -0.014  9.348  9.332       -0.022   \n",
       "2          20 2020-02-01 00:00:19 -0.012  9.338  9.322       -0.022   \n",
       "3          30 2020-02-01 00:00:29 -0.012  9.328  9.312       -0.022   \n",
       "4          40 2020-02-01 00:00:39 -0.012  9.318  9.302       -0.022   \n",
       "\n",
       "   Reservoirs  Oil_temperature  Motor_current  COMP  ...  Towers  MPG  LPS  \\\n",
       "0       9.358           53.600         0.0400   1.0  ...     1.0  1.0  0.0   \n",
       "1       9.348           53.675         0.0400   1.0  ...     1.0  1.0  0.0   \n",
       "2       9.338           53.600         0.0425   1.0  ...     1.0  1.0  0.0   \n",
       "3       9.328           53.425         0.0400   1.0  ...     1.0  1.0  0.0   \n",
       "4       9.318           53.475         0.0400   1.0  ...     1.0  1.0  0.0   \n",
       "\n",
       "   Pressure_switch  Oil_level  Caudal_impulses        date fail_state  \\\n",
       "0              1.0        1.0              1.0  2020-02-01          0   \n",
       "1              1.0        1.0              1.0  2020-02-01          0   \n",
       "2              1.0        1.0              1.0  2020-02-01          0   \n",
       "3              1.0        1.0              1.0  2020-02-01          0   \n",
       "4              1.0        1.0              1.0  2020-02-01          0   \n",
       "\n",
       "   dif_panel_reservoir  oil_rolling  \n",
       "0                  0.0          NaN  \n",
       "1                  0.0          NaN  \n",
       "2                  0.0          NaN  \n",
       "3                  0.0          NaN  \n",
       "4                  0.0          NaN  \n",
       "\n",
       "[5 rows x 21 columns]"
      ]
     },
     "execution_count": 21,
     "metadata": {},
     "output_type": "execute_result"
    }
   ],
   "source": [
    "metro_df_large.head()"
   ]
  },
  {
   "cell_type": "code",
   "execution_count": 22,
   "id": "cc173c80",
   "metadata": {
    "execution": {
     "iopub.execute_input": "2023-10-24T16:58:28.020557Z",
     "iopub.status.busy": "2023-10-24T16:58:28.020160Z",
     "iopub.status.idle": "2023-10-24T16:58:30.001483Z",
     "shell.execute_reply": "2023-10-24T16:58:30.000003Z"
    },
    "papermill": {
     "duration": 2.001585,
     "end_time": "2023-10-24T16:58:30.005157",
     "exception": false,
     "start_time": "2023-10-24T16:58:28.003572",
     "status": "completed"
    },
    "tags": []
   },
   "outputs": [
    {
     "data": {
      "image/png": "[encoded data removed]",
      "text/plain": [
       "<Figure size 1000x1200 with 1 Axes>"
      ]
     },
     "metadata": {},
     "output_type": "display_data"
    }
   ],
   "source": [
    "fig = plt.figure(figsize=(10,12))\n",
    "hm = metro_df_large.drop(columns=['Oil_level','Caudal_impulses'], axis=1).corr(numeric_only=True)\n",
    "sns.heatmap(hm, annot=True, fmt='.1f', cbar=False)\n",
    "plt.show()"
   ]
  },
  {
   "cell_type": "code",
   "execution_count": 23,
   "id": "c1da5a12",
   "metadata": {
    "execution": {
     "iopub.execute_input": "2023-10-24T16:58:30.044810Z",
     "iopub.status.busy": "2023-10-24T16:58:30.044320Z",
     "iopub.status.idle": "2023-10-24T16:58:30.052820Z",
     "shell.execute_reply": "2023-10-24T16:58:30.051622Z"
    },
    "papermill": {
     "duration": 0.031016,
     "end_time": "2023-10-24T16:58:30.055176",
     "exception": false,
     "start_time": "2023-10-24T16:58:30.024160",
     "status": "completed"
    },
    "tags": []
   },
   "outputs": [
    {
     "data": {
      "text/plain": [
       "'cluster_0_df = metro_df_large[metro_df_large.cluster == 0].copy()\\ncluster_1_df = metro_df_large[metro_df_large.cluster == 1].copy()\\ncluster_2_df = metro_df_large[metro_df_large.cluster == 2].copy()\\ncluster_3_df = metro_df_large[metro_df_large.cluster == 3].copy()\\n\\n\\ncluster_0_df.head()'"
      ]
     },
     "execution_count": 23,
     "metadata": {},
     "output_type": "execute_result"
    }
   ],
   "source": [
    "\"\"\"cluster_0_df = metro_df_large[metro_df_large.cluster == 0].copy()\n",
    "cluster_1_df = metro_df_large[metro_df_large.cluster == 1].copy()\n",
    "cluster_2_df = metro_df_large[metro_df_large.cluster == 2].copy()\n",
    "cluster_3_df = metro_df_large[metro_df_large.cluster == 3].copy()\n",
    "\n",
    "\n",
    "cluster_0_df.head()\"\"\"\n"
   ]
  },
  {
   "cell_type": "code",
   "execution_count": 24,
   "id": "43d94a05",
   "metadata": {
    "execution": {
     "iopub.execute_input": "2023-10-24T16:58:30.094315Z",
     "iopub.status.busy": "2023-10-24T16:58:30.093870Z",
     "iopub.status.idle": "2023-10-24T16:58:30.099784Z",
     "shell.execute_reply": "2023-10-24T16:58:30.098317Z"
    },
    "papermill": {
     "duration": 0.029093,
     "end_time": "2023-10-24T16:58:30.102254",
     "exception": false,
     "start_time": "2023-10-24T16:58:30.073161",
     "status": "completed"
    },
    "tags": []
   },
   "outputs": [],
   "source": [
    "#cluster_0_df.describe()"
   ]
  },
  {
   "cell_type": "code",
   "execution_count": 25,
   "id": "7a61d62d",
   "metadata": {
    "execution": {
     "iopub.execute_input": "2023-10-24T16:58:30.141558Z",
     "iopub.status.busy": "2023-10-24T16:58:30.141104Z",
     "iopub.status.idle": "2023-10-24T16:58:30.146400Z",
     "shell.execute_reply": "2023-10-24T16:58:30.144856Z"
    },
    "papermill": {
     "duration": 0.028005,
     "end_time": "2023-10-24T16:58:30.148936",
     "exception": false,
     "start_time": "2023-10-24T16:58:30.120931",
     "status": "completed"
    },
    "tags": []
   },
   "outputs": [],
   "source": [
    "#cluster_1_df.describe()"
   ]
  },
  {
   "cell_type": "code",
   "execution_count": 26,
   "id": "b16a2068",
   "metadata": {
    "execution": {
     "iopub.execute_input": "2023-10-24T16:58:30.187678Z",
     "iopub.status.busy": "2023-10-24T16:58:30.187197Z",
     "iopub.status.idle": "2023-10-24T16:58:30.192758Z",
     "shell.execute_reply": "2023-10-24T16:58:30.191572Z"
    },
    "papermill": {
     "duration": 0.027831,
     "end_time": "2023-10-24T16:58:30.195232",
     "exception": false,
     "start_time": "2023-10-24T16:58:30.167401",
     "status": "completed"
    },
    "tags": []
   },
   "outputs": [],
   "source": [
    "#cluster_2_df.describe()"
   ]
  },
  {
   "cell_type": "code",
   "execution_count": 27,
   "id": "73c69c28",
   "metadata": {
    "execution": {
     "iopub.execute_input": "2023-10-24T16:58:30.233799Z",
     "iopub.status.busy": "2023-10-24T16:58:30.233325Z",
     "iopub.status.idle": "2023-10-24T16:58:30.241498Z",
     "shell.execute_reply": "2023-10-24T16:58:30.239985Z"
    },
    "papermill": {
     "duration": 0.030505,
     "end_time": "2023-10-24T16:58:30.243973",
     "exception": false,
     "start_time": "2023-10-24T16:58:30.213468",
     "status": "completed"
    },
    "tags": []
   },
   "outputs": [
    {
     "data": {
      "text/plain": [
       "\"fig = plt.figure(figsize=(10,12))\\nhm = cluster_0_df.drop(columns=['Oil_level','Caudal_impulses','LPS'],axis=1).corr(numeric_only=True)\\nsns.heatmap(hm, annot=True, fmt='.1f', cbar=False)\\nplt.show()\""
      ]
     },
     "execution_count": 27,
     "metadata": {},
     "output_type": "execute_result"
    }
   ],
   "source": [
    "# Using the pandas dataframe correlation matrix to create a heatmap of pairwise correlations\n",
    "\"\"\"fig = plt.figure(figsize=(10,12))\n",
    "hm = cluster_0_df.drop(columns=['Oil_level','Caudal_impulses','LPS'],axis=1).corr(numeric_only=True)\n",
    "sns.heatmap(hm, annot=True, fmt='.1f', cbar=False)\n",
    "plt.show()\"\"\""
   ]
  },
  {
   "cell_type": "markdown",
   "id": "d13ab60d",
   "metadata": {
    "papermill": {
     "duration": 0.018276,
     "end_time": "2023-10-24T16:58:30.280462",
     "exception": false,
     "start_time": "2023-10-24T16:58:30.262186",
     "status": "completed"
    },
    "tags": []
   },
   "source": [
    "Feature extraction:\n",
    "* rolling averages of features\n",
    "* frequency of n percentile measurements (high stress / temp / motor current)\n",
    "* "
   ]
  }
 ],
 "metadata": {
  "kernelspec": {
   "display_name": "Python 3",
   "language": "python",
   "name": "python3"
  },
  "language_info": {
   "codemirror_mode": {
    "name": "ipython",
    "version": 3
   },
   "file_extension": ".py",
   "mimetype": "text/x-python",
   "name": "python",
   "nbconvert_exporter": "python",
   "pygments_lexer": "ipython3",
   "version": "3.10.10"
  },
  "papermill": {
   "default_parameters": {},
   "duration": 70.626538,
   "end_time": "2023-10-24T16:58:31.423476",
   "environment_variables": {},
   "exception": null,
   "input_path": "__notebook__.ipynb",
   "output_path": "__notebook__.ipynb",
   "parameters": {},
   "start_time": "2023-10-24T16:57:20.796938",
   "version": "2.4.0"
  }
 },
 "nbformat": 4,
 "nbformat_minor": 5
}
